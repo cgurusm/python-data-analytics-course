{
 "cells": [
  {
   "cell_type": "markdown",
   "metadata": {},
   "source": [
    "# Week 03 - Lists and Arrays"
   ]
  },
  {
   "cell_type": "markdown",
   "metadata": {},
   "source": [
    "## Drill"
   ]
  },
  {
   "cell_type": "markdown",
   "metadata": {
    "solution": "hidden",
    "solution_first": true
   },
   "source": [
    "What are the differences between `for` and `while` loop?"
   ]
  },
  {
   "cell_type": "markdown",
   "metadata": {
    "solution": "hidden"
   },
   "source": [
    "* `while` loop requires a counter initiated, if applicable. \n",
    "* `while` loop requires the counter to be increased explicitly. \n",
    "* `for` loop does not change the objects inside the loop back to outside. "
   ]
  },
  {
   "cell_type": "code",
   "execution_count": null,
   "metadata": {},
   "outputs": [],
   "source": []
  },
  {
   "cell_type": "markdown",
   "metadata": {},
   "source": [
    "## List and Array"
   ]
  },
  {
   "cell_type": "markdown",
   "metadata": {},
   "source": [
    "List and arrays are data types that collects a group of data. The main distinction between lists and arrays is how it is stored in the computer. In computers there is a concept called pointers. You can think it as the address of the data. \n",
    "\n",
    "* Lists collects different data types, while array collects the same data type as a group. \n",
    "* Lists allows sequential access, while array allows both sequential or direct access (sometimes it is faster in computation). "
   ]
  },
  {
   "cell_type": "markdown",
   "metadata": {},
   "source": [
    "## List"
   ]
  },
  {
   "cell_type": "markdown",
   "metadata": {},
   "source": [
    "So let us start looking further into lists. Loops and lists are good companions. Like we said above, lists are only aceessed sequentially. So we mostly use loops to edit the list. For example, to see the elements in the list one by one, we do the following. \n",
    "```python\n",
    "ls = [1, 5, 9, 10, 11]\n",
    "for i in ls: \n",
    "    print(ls[i])\n",
    "```"
   ]
  },
  {
   "cell_type": "markdown",
   "metadata": {},
   "source": [
    "So let us start with printing different data types. In this course, we would use objects to store complex information. "
   ]
  },
  {
   "cell_type": "code",
   "execution_count": null,
   "metadata": {},
   "outputs": [],
   "source": []
  },
  {
   "cell_type": "code",
   "execution_count": null,
   "metadata": {},
   "outputs": [],
   "source": []
  },
  {
   "cell_type": "code",
   "execution_count": null,
   "metadata": {},
   "outputs": [],
   "source": []
  },
  {
   "cell_type": "code",
   "execution_count": null,
   "metadata": {},
   "outputs": [],
   "source": []
  },
  {
   "cell_type": "code",
   "execution_count": null,
   "metadata": {},
   "outputs": [],
   "source": []
  },
  {
   "cell_type": "code",
   "execution_count": null,
   "metadata": {},
   "outputs": [],
   "source": []
  },
  {
   "cell_type": "code",
   "execution_count": null,
   "metadata": {},
   "outputs": [],
   "source": []
  },
  {
   "cell_type": "code",
   "execution_count": null,
   "metadata": {},
   "outputs": [],
   "source": []
  },
  {
   "cell_type": "markdown",
   "metadata": {},
   "source": [
    "## Numpy Array"
   ]
  },
  {
   "cell_type": "markdown",
   "metadata": {},
   "source": [
    "In Python there are no native arrays existed. We rely on numpy to import the concept of arrays. "
   ]
  },
  {
   "cell_type": "code",
   "execution_count": null,
   "metadata": {},
   "outputs": [],
   "source": [
    "import numpy as np"
   ]
  },
  {
   "cell_type": "code",
   "execution_count": null,
   "metadata": {},
   "outputs": [],
   "source": []
  },
  {
   "cell_type": "markdown",
   "metadata": {},
   "source": [
    "## Multidimensional List"
   ]
  },
  {
   "cell_type": "markdown",
   "metadata": {},
   "source": [
    "Dimensions are different measurements of an object. For example, we can measure boldness as one dimension, on the other hand the happiness of the person. In computer language, dimensions are captured in lists and arrays. We bring in this concept from matrices in mathematics to do so. \n",
    "\n",
    "A 1D list is represented by \n",
    "```python\n",
    "[0, 1, 9]\n",
    "```\n",
    "\n",
    "A 2D matrix is represented by \n",
    "```python\n",
    "[[0, 1, 9],[1, 2, 0]]\n",
    "```\n",
    "\n",
    "As you can see the additional dimensions are nested inside a list. "
   ]
  },
  {
   "cell_type": "markdown",
   "metadata": {
    "solution": "hidden",
    "solution_first": true
   },
   "source": [
    "__Exercise:__ Covert the matrix below into a list. \n",
    "\n",
    "\\[\n",
    "\\begin{bmatrix}\n",
    "1 & 3 \\\\\n",
    "0 & 0\\\\\n",
    "\\end{bmatrix}\n",
    "\\]"
   ]
  },
  {
   "cell_type": "markdown",
   "metadata": {
    "solution": "hidden"
   },
   "source": [
    "```python\n",
    "[[1, 3], [0, 0]]\n",
    "```"
   ]
  },
  {
   "cell_type": "code",
   "execution_count": null,
   "metadata": {},
   "outputs": [],
   "source": [
    "# Your code"
   ]
  },
  {
   "cell_type": "markdown",
   "metadata": {},
   "source": [
    "The main applications of multi-dimensional lists requires the use of loops. To commit a multi-dimensional loop, we nested them. Let us see an example below: \n",
    "```python\n",
    "a = [...]\n",
    "for i in range(len(a)): \n",
    "    for j in range(len(a[i])): \n",
    "        print(j)\n",
    "```"
   ]
  },
  {
   "cell_type": "markdown",
   "metadata": {},
   "source": [
    "When it comes to `while` loop, we just need to remember the change in syntax and everything should be easy. Which is the following. \n",
    "```python\n",
    "a = [...]\n",
    "i = 0\n",
    "while i < len(a): \n",
    "    j = 0\n",
    "    while j < len(a[i]): \n",
    "        print(a[i][j])\n",
    "        j += 1\n",
    "    i += 1\n",
    "```\n",
    "As you can see, there are 2 counters `i` and `j`. They are initialised just before their loops started. Also remember to increase the counter at the end of each layers. "
   ]
  },
  {
   "cell_type": "markdown",
   "metadata": {
    "solution": "hidden",
    "solution_first": true
   },
   "source": [
    "__Exercise:__ Write a program where it prints the elements inside the list `ls`."
   ]
  },
  {
   "cell_type": "code",
   "execution_count": null,
   "metadata": {
    "solution": "hidden"
   },
   "outputs": [],
   "source": [
    "ls = [[1, 1], [2, 0], [0]]\n",
    "for i in range(len(ls)): \n",
    "    for j in range(len(ls[i])): \n",
    "        print(ls[i][j])\n",
    "i = 0\n",
    "while i < len(ls): \n",
    "    j = 0\n",
    "    while j < len(ls): \n",
    "        print(ls[i][j])\n",
    "        j += 1\n",
    "    i += 1"
   ]
  },
  {
   "cell_type": "code",
   "execution_count": null,
   "metadata": {},
   "outputs": [],
   "source": [
    "ls = [[1, 1], [2, 0], [0]]\n",
    "# Your code below\n"
   ]
  },
  {
   "cell_type": "markdown",
   "metadata": {},
   "source": [
    "As you can see the list `ls` has uneven lengths inside each nested lists. So the key above of what you have done, is to make sure the nested loop runs through each nested lists. Rather than hard code the length of each nested lists. "
   ]
  },
  {
   "cell_type": "markdown",
   "metadata": {
    "solution": "hidden",
    "solution_first": true
   },
   "source": [
    "__Exercise:__ Write a program to convert the list `data` contains some missing data, into a meaningful dataset. They are either shown as `' '` or `'NaN'`. Your task is to convert them into `9999`. "
   ]
  },
  {
   "cell_type": "code",
   "execution_count": 11,
   "metadata": {
    "solution": "hidden"
   },
   "outputs": [
    {
     "name": "stdout",
     "output_type": "stream",
     "text": [
      "[[0, 0, 1, 1, 1, 1, 0, 0, 0, 0, 1, 1], [9999, 9999, 9999, 1999, 2000, 2002, 1996, 2031, 2333, 2201, 9999]]\n"
     ]
    }
   ],
   "source": [
    "data = [[0, 0, 1, 1, 1, 1, 0, 0, 0, 0, 1, 1], ['NaN', 'NaN', 'NaN', 1999, 2000, 2002, 1996, 2031, 2333, 2201, ' ']]\n",
    "\n",
    "i = 0\n",
    "while i < len(data): \n",
    "    j = 0\n",
    "    while j < len(data[i]): \n",
    "        if type(data[i][j]) != int: # Look carefully the data type inside the list. \n",
    "            data[i][j] = 9999\n",
    "        j += 1\n",
    "    i += 1\n",
    "\n",
    "print(data)"
   ]
  },
  {
   "cell_type": "code",
   "execution_count": null,
   "metadata": {},
   "outputs": [],
   "source": [
    "data = [[0, 0, 1, 1, 1, 1, 0, 0, 0, 0, 1, 1], ['NaN', 2331, 1800, 1999, 2000, 2002, 1996, 2031, 2333, 2201, 1902 ]]\n",
    "# Your code below\n"
   ]
  },
  {
   "cell_type": "markdown",
   "metadata": {},
   "source": []
  },
  {
   "cell_type": "code",
   "execution_count": null,
   "metadata": {},
   "outputs": [],
   "source": []
  },
  {
   "cell_type": "code",
   "execution_count": null,
   "metadata": {},
   "outputs": [],
   "source": []
  },
  {
   "cell_type": "markdown",
   "metadata": {},
   "source": [
    "## Conclusion"
   ]
  },
  {
   "cell_type": "code",
   "execution_count": null,
   "metadata": {},
   "outputs": [],
   "source": []
  }
 ],
 "metadata": {
  "kernelspec": {
   "display_name": "Python 3",
   "language": "python",
   "name": "python3"
  },
  "language_info": {
   "codemirror_mode": {
    "name": "ipython",
    "version": 3
   },
   "file_extension": ".py",
   "mimetype": "text/x-python",
   "name": "python",
   "nbconvert_exporter": "python",
   "pygments_lexer": "ipython3",
   "version": "3.7.3"
  },
  "latex_envs": {
   "LaTeX_envs_menu_present": true,
   "autoclose": true,
   "autocomplete": true,
   "bibliofile": "biblio.bib",
   "cite_by": "apalike",
   "current_citInitial": 1,
   "eqLabelWithNumbers": true,
   "eqNumInitial": 1,
   "hotkeys": {
    "equation": "Ctrl-E",
    "itemize": "Ctrl-I"
   },
   "labels_anchors": false,
   "latex_user_defs": false,
   "report_style_numbering": false,
   "user_envs_cfg": false
  }
 },
 "nbformat": 4,
 "nbformat_minor": 2
}
