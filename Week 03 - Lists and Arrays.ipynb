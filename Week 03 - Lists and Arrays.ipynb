{
 "cells": [
  {
   "cell_type": "markdown",
   "metadata": {
    "solution": "hidden"
   },
   "source": [
    "# Week 03 - Lists and Arrays"
   ]
  },
  {
   "cell_type": "markdown",
   "metadata": {},
   "source": [
    "## Drill"
   ]
  },
  {
   "cell_type": "markdown",
   "metadata": {
    "solution": "hidden",
    "solution_first": true
   },
   "source": [
    "What are the differences between `for` and `while` loop?"
   ]
  },
  {
   "cell_type": "markdown",
   "metadata": {
    "solution": "hidden"
   },
   "source": [
    "* `while` loop requires a counter initiated, if applicable. \n",
    "* `while` loop requires the counter to be increased explicitly. \n",
    "* `for` loop does not change the objects inside the loop back to outside. "
   ]
  },
  {
   "cell_type": "markdown",
   "metadata": {
    "solution": "hidden",
    "solution_first": true
   },
   "source": [
    "Write a code that will print a list of food names that starts with 'e' with less than 8 characters. The list is provided to you. "
   ]
  },
  {
   "cell_type": "code",
   "execution_count": 3,
   "metadata": {
    "solution": "hidden"
   },
   "outputs": [
    {
     "name": "stdout",
     "output_type": "stream",
     "text": [
      "egg\n",
      "eel\n"
     ]
    }
   ],
   "source": [
    "food_ls = ['egg', 'fish', 'eggplant', 'crab', 'tomato', 'bread', 'eel', 'milk', 'tea']\n",
    "for i in range(len(food_ls)): \n",
    "    if len(food_ls[i]) < 8 and food_ls[i][0] == 'e': \n",
    "        print(food_ls[i])"
   ]
  },
  {
   "cell_type": "code",
   "execution_count": null,
   "metadata": {},
   "outputs": [],
   "source": [
    "food_ls = ['egg', 'fish', 'eggplant', 'crab', 'tomato', 'bread', 'eel', 'milk', 'tea']\n",
    "# Your code \n"
   ]
  },
  {
   "cell_type": "markdown",
   "metadata": {},
   "source": [
    "## List and Array"
   ]
  },
  {
   "cell_type": "markdown",
   "metadata": {},
   "source": [
    "List and arrays are data types that collects a group of data. The main distinction between lists and arrays is how it is stored in the computer. In computers there is a concept called pointers. You can think it as the address of the data. \n",
    "\n",
    "* Lists collects different data types, while array collects the same data type as a group. \n",
    "* Lists allows sequential access, while array allows both sequential or direct access (sometimes it is faster in computation). "
   ]
  },
  {
   "cell_type": "markdown",
   "metadata": {},
   "source": [
    "## List"
   ]
  },
  {
   "cell_type": "markdown",
   "metadata": {},
   "source": [
    "So let us start looking further into lists. Loops and lists are good companions. Like we said above, lists are only aceessed sequentially. So we mostly use loops to edit the list. For example, to see the elements in the list one by one, we do the following. \n",
    "```python\n",
    "ls = [1, 5, 9, 10, 11]\n",
    "for i in ls: \n",
    "    print(ls[i])\n",
    "```"
   ]
  },
  {
   "cell_type": "markdown",
   "metadata": {},
   "source": [
    "So let us start with printing different data types. In this course, we would use objects to store complex information. "
   ]
  },
  {
   "cell_type": "markdown",
   "metadata": {},
   "source": [
    "### Initialise a List"
   ]
  },
  {
   "cell_type": "markdown",
   "metadata": {},
   "source": [
    "To create a list, the syntax is simply a square bracket with commas separating the elements. \n",
    "```python\n",
    "a = [1, 'some sort of string']\n",
    "\n",
    "for i in range(len(a)): \n",
    "    print('{} is in the list a'.format(a[i]))   # print elements in list a\n",
    "```"
   ]
  },
  {
   "cell_type": "markdown",
   "metadata": {
    "solution": "hidden",
    "solution_first": true
   },
   "source": [
    "__Exercise:__ Write a list that includes the shopping items that you can think of. "
   ]
  },
  {
   "cell_type": "markdown",
   "metadata": {
    "solution": "hidden"
   },
   "source": [
    "In your code, just make sure you have initialise the list and use `print()` function afterwards. "
   ]
  },
  {
   "cell_type": "code",
   "execution_count": null,
   "metadata": {},
   "outputs": [],
   "source": [
    "# Your code here\n"
   ]
  },
  {
   "cell_type": "markdown",
   "metadata": {},
   "source": [
    "## Access Elements"
   ]
  },
  {
   "cell_type": "markdown",
   "metadata": {},
   "source": [
    "To access the elements, one will need to use a square bracket after the list. For example, \n",
    "```python\n",
    "ls[0]\n",
    "``` \n",
    "means to return the first element of the list. List elements starts with the index 0. We can see the structure of lists in the figure below. "
   ]
  },
  {
   "cell_type": "code",
   "execution_count": 1,
   "metadata": {},
   "outputs": [
    {
     "data": {
      "image/png": "[encoded data removed]",
      "text/plain": [
       "<IPython.core.display.Image object>"
      ]
     },
     "execution_count": 1,
     "metadata": {},
     "output_type": "execute_result"
    }
   ],
   "source": [
    "from IPython.display import Image\n",
    "Image(\"fig/ls.png\")"
   ]
  },
  {
   "cell_type": "code",
   "execution_count": 1,
   "metadata": {},
   "outputs": [
    {
     "data": {
      "text/plain": [
       "1"
      ]
     },
     "execution_count": 1,
     "metadata": {},
     "output_type": "execute_result"
    }
   ],
   "source": [
    "# Demonstration\n",
    "ls = [22, 35, -3, 9, 10, 11, 10]\n",
    "ls[0]"
   ]
  },
  {
   "cell_type": "markdown",
   "metadata": {},
   "source": [
    "To print out the last element, one will just needed to print the -1th element of the list. "
   ]
  },
  {
   "cell_type": "code",
   "execution_count": null,
   "metadata": {},
   "outputs": [],
   "source": [
    "# Demonstration\n",
    "ls[-1]"
   ]
  },
  {
   "cell_type": "code",
   "execution_count": 2,
   "metadata": {},
   "outputs": [
    {
     "data": {
      "image/png": "[encoded data removed]",
      "text/plain": [
       "<IPython.core.display.Image object>"
      ]
     },
     "execution_count": 2,
     "metadata": {},
     "output_type": "execute_result"
    }
   ],
   "source": [
    "from IPython.display import Image\n",
    "Image(\"fig/ls01.png\")"
   ]
  },
  {
   "cell_type": "markdown",
   "metadata": {},
   "source": [
    "### List Methods"
   ]
  },
  {
   "cell_type": "markdown",
   "metadata": {},
   "source": [
    "What if we have the elements and needed to add into the list? The `append()` function would be helpful. This function will add the elements specified in the brackets. For example, we would like to append a new tweet into the list of tweets. Let's say the tweet object is called `new_tweet`. Then we would write \n",
    "```python\n",
    "tweets.append(new_tweet)\n",
    "```\n",
    "and it will do the work. Of course, your list `tweets` should be defined beforehand. So if the list is empty at first, the code snippnet is \n",
    "```python\n",
    "tweets = []\n",
    "tweets.append(new_tweet)\n",
    "```\n",
    "\n",
    "So let us do some exercise at below: "
   ]
  },
  {
   "cell_type": "markdown",
   "metadata": {
    "solution": "hidden",
    "solution_first": true
   },
   "source": [
    "__Exercise:__ Write a code that will print the food that starts with `'s'`. The code will count how many food are included at the end of your code. "
   ]
  },
  {
   "cell_type": "code",
   "execution_count": 2,
   "metadata": {
    "solution": "hidden"
   },
   "outputs": [
    {
     "name": "stdout",
     "output_type": "stream",
     "text": [
      "There are 4 food that starts with 's'.\n"
     ]
    }
   ],
   "source": [
    "food = ['salad', 'sandwich', 'bread', 'steak', 'tuna steak', 'fish', 'rice', 'spaghetti']\n",
    "s_food = []\n",
    "for i in range(len(food)): \n",
    "    if food[i][0] == 's': \n",
    "        s_food.append(food[i])\n",
    "print('There are {} food that starts with \\'s\\'.'.format(len(s_food)))"
   ]
  },
  {
   "cell_type": "code",
   "execution_count": null,
   "metadata": {},
   "outputs": [],
   "source": [
    "# Your code below\n",
    "food = ['salad', 'sandwich', 'bread', 'steak', 'tuna steak', 'fish', 'rice', 'spaghetti']"
   ]
  },
  {
   "cell_type": "markdown",
   "metadata": {},
   "source": [
    "If we wish to remove an element in a list, we use the `remove()` function. What the function does is to remove the element specified in the brackets. For example, \n",
    "```\n",
    "animals = ['cat', 'dog', 'chicken', 'sheep', 'pig']\n",
    "```\n",
    "To remove sheep in the list, we say `animals.remove('sheep')`. So now there is no sheep in the animals list. Note the brackets for the removed element. "
   ]
  },
  {
   "cell_type": "markdown",
   "metadata": {
    "solution": "hidden",
    "solution_first": true
   },
   "source": [
    "__Exercise:__ Write a code that will remove `'pig'` from the list. "
   ]
  },
  {
   "cell_type": "code",
   "execution_count": null,
   "metadata": {
    "solution": "hidden"
   },
   "outputs": [],
   "source": [
    "animals = ['cat', 'dog', 'chicken', 'sheep', 'pig']\n",
    "animals.remove('pig')"
   ]
  },
  {
   "cell_type": "code",
   "execution_count": null,
   "metadata": {},
   "outputs": [],
   "source": [
    "# Your code below\n",
    "animals = ['cat', 'dog', 'chicken', 'sheep', 'pig']"
   ]
  },
  {
   "cell_type": "markdown",
   "metadata": {},
   "source": [
    "## Numpy Array"
   ]
  },
  {
   "cell_type": "markdown",
   "metadata": {},
   "source": [
    "In Python there are no native arrays existed. We rely on numpy to import the concept of arrays. "
   ]
  },
  {
   "cell_type": "code",
   "execution_count": 1,
   "metadata": {},
   "outputs": [],
   "source": [
    "import numpy as np"
   ]
  },
  {
   "cell_type": "markdown",
   "metadata": {},
   "source": [
    "Once we imported numpy, Python will then convert all lists in this notebook as numpy arrays. If one wishes to convert them back to the normal lists, they can abort the kernel to start everything again. \n",
    "\n",
    "The 2 main important functions in numpy are: \n",
    "* convert lists to arrays for efficient computation.\n",
    "* perform elementwise computation"
   ]
  },
  {
   "cell_type": "markdown",
   "metadata": {},
   "source": [
    "### Initialise numpy Array"
   ]
  },
  {
   "cell_type": "markdown",
   "metadata": {},
   "source": [
    "To initialise a `numpy` array, we often create a pre-defined array and filled in the data. This is different to what we have said about initialising a list with appending elements. It is more efficient to create a pre-defined array with numpy. \n",
    "\n",
    "There are 3 functions (to date) that can pre-define a `numpy` array: \n",
    "* `numpy.zeros` Return a new array of given shape and type, filled with zeros. \n",
    "* `numpy.ones` Return a new array of given shape and type, filled with ones.\n",
    "* `numpy.empty` Return a new array of given shape and type, without initializing entries.\n",
    "\n",
    "Let us see what they mean in below. "
   ]
  },
  {
   "cell_type": "code",
   "execution_count": 6,
   "metadata": {},
   "outputs": [
    {
     "name": "stdout",
     "output_type": "stream",
     "text": [
      "np.zeros\n",
      "[0. 0. 0. 0. 0. 0. 0. 0. 0. 0.]\n",
      "[[0.]\n",
      " [0.]]\n",
      "np.ones\n",
      "[1. 1. 1. 1. 1. 1. 1. 1. 1. 1.]\n",
      "[[1.]\n",
      " [1.]]\n",
      "np.empty\n",
      "[1. 1. 1. 1. 1. 1. 1. 1. 1. 1.]\n",
      "[[1.]\n",
      " [1.]]\n"
     ]
    }
   ],
   "source": [
    "# Run me\n",
    "print('np.zeros')\n",
    "print(np.zeros(10))\n",
    "print(np.zeros((2,1)))  # (2, 1) means 2 rows and 1 column\n",
    "print('np.ones')\n",
    "print(np.ones(10))\n",
    "print(np.ones((2,1)))\n",
    "print('np.empty')\n",
    "print(np.empty(10))\n",
    "print(np.empty((2,1)))"
   ]
  },
  {
   "cell_type": "markdown",
   "metadata": {},
   "source": [
    "Then we could redefine the entries by reassigning the element. Here is how we do it: "
   ]
  },
  {
   "cell_type": "code",
   "execution_count": 7,
   "metadata": {},
   "outputs": [
    {
     "name": "stdout",
     "output_type": "stream",
     "text": [
      "[[1. 0.]\n",
      " [0. 0.]]\n"
     ]
    }
   ],
   "source": [
    "# Try this\n",
    "matrix = np.zeros((2,2))\n",
    "matrix[0,0] = 1    # Reassign the element. \n",
    "print(matrix)"
   ]
  },
  {
   "cell_type": "markdown",
   "metadata": {},
   "source": [
    "We could also create numpy arrays from files or functions. More information is in [https://docs.scipy.org/doc/numpy-1.13.0/reference/routines.array-creation.html](https://docs.scipy.org/doc/numpy-1.13.0/reference/routines.array-creation.html)"
   ]
  },
  {
   "cell_type": "markdown",
   "metadata": {},
   "source": [
    "If you know the data already, you can use `numpy.array` to initialise the array. For example \n",
    "```python\n",
    "np.array([[1, 0],[0, 0]])\n",
    "```"
   ]
  },
  {
   "cell_type": "code",
   "execution_count": null,
   "metadata": {},
   "outputs": [],
   "source": [
    "# Try this\n",
    "np.array([[1, 0],[0, 0]])"
   ]
  },
  {
   "cell_type": "markdown",
   "metadata": {},
   "source": [
    "## Elementwise Calculation"
   ]
  },
  {
   "cell_type": "markdown",
   "metadata": {},
   "source": [
    "In most cases by multiplying the lists does not get what we want. This is one of the examples where elementwise calculations are important. For example, we would like to filter all data points that are too large. So we have a filter array \n",
    "```python\n",
    "filter = [0, 0, 0, 0, 1, 0, 1]\n",
    "```\n",
    "It means the zero elements are the ones whom should be filtered. So this is the calculation we would like to perform. \n",
    "```python\n",
    "result = [2003*0, 992*0, 102*0, 999*0, 3*1, 9998*0, 5*1]\n",
    "```\n",
    "The above code line is an example of elementwise calculation. We can do that in numpy. Firstly, let us look at the documentations in `numpy` and they will tell us what operations we can use. "
   ]
  },
  {
   "cell_type": "markdown",
   "metadata": {},
   "source": [
    "We look at these functions from their documentations: \n",
    "* [Maths](https://docs.scipy.org/doc/numpy-1.13.0/reference/routines.math.html)\n",
    "* [Statistics](https://docs.scipy.org/doc/numpy-1.13.0/reference/routines.statistics.html)\n",
    "* [Logics](https://docs.scipy.org/doc/numpy-1.13.0/reference/routines.logic.html)"
   ]
  },
  {
   "cell_type": "markdown",
   "metadata": {},
   "source": [
    "So let's do some exercise in below: "
   ]
  },
  {
   "cell_type": "markdown",
   "metadata": {
    "solution": "hidden",
    "solution_first": true
   },
   "source": [
    "__Exercise:__ Write a code where it will find out the speed of the recorded times. This array represents how fast a class of students has run on 200m runway. The array is given to you. \n",
    "\n",
    "Remember that speed is distance divided by time. "
   ]
  },
  {
   "cell_type": "code",
   "execution_count": null,
   "metadata": {
    "solution": "hidden"
   },
   "outputs": [],
   "source": [
    "time_finished = np.array([11.8, 12.5, 10.1, 11, 9.8, 1.22, 12.5])\n",
    "speed = np.divide(200, time_finished)\n",
    "speed"
   ]
  },
  {
   "cell_type": "code",
   "execution_count": null,
   "metadata": {},
   "outputs": [],
   "source": [
    "# Your code\n",
    "time_finished = np.array([11.8, 12.5, 10.1, 11, 9.8, 1.22, 12.5])\n",
    "speed = "
   ]
  },
  {
   "cell_type": "markdown",
   "metadata": {
    "solution": "hidden",
    "solution_first": true
   },
   "source": [
    "__Exercise:__ What is the mean time of the class? What about the standard deviation?"
   ]
  },
  {
   "cell_type": "code",
   "execution_count": null,
   "metadata": {
    "solution": "hidden"
   },
   "outputs": [],
   "source": [
    "np.mean(speed)\n",
    "np.std(speed)"
   ]
  },
  {
   "cell_type": "code",
   "execution_count": null,
   "metadata": {},
   "outputs": [],
   "source": [
    "# Your code"
   ]
  },
  {
   "cell_type": "markdown",
   "metadata": {},
   "source": [
    "## Multidimensional List"
   ]
  },
  {
   "cell_type": "markdown",
   "metadata": {},
   "source": [
    "Dimensions are different measurements of an object. For example, we can measure boldness as one dimension, on the other hand the happiness of the person. In computer language, dimensions are captured in lists and arrays. We bring in this concept from matrices in mathematics to do so. \n",
    "\n",
    "A 1D list is represented by \n",
    "```python\n",
    "[0, 1, 9]\n",
    "```\n",
    "\n",
    "A 2D matrix is represented by \n",
    "```python\n",
    "[[0, 1, 9],[1, 2, 0]]\n",
    "```\n",
    "\n",
    "As you can see the additional dimensions are nested inside a list. "
   ]
  },
  {
   "cell_type": "markdown",
   "metadata": {
    "solution": "hidden",
    "solution_first": true
   },
   "source": [
    "__Exercise:__ Covert the matrix below into a list. \n",
    "\n",
    "\\[\n",
    "\\begin{bmatrix}\n",
    "1 & 3 \\\\\n",
    "0 & 0\\\\\n",
    "\\end{bmatrix}\n",
    "\\]"
   ]
  },
  {
   "cell_type": "markdown",
   "metadata": {
    "solution": "hidden"
   },
   "source": [
    "```python\n",
    "[[1, 3], [0, 0]]\n",
    "```"
   ]
  },
  {
   "cell_type": "code",
   "execution_count": null,
   "metadata": {},
   "outputs": [],
   "source": [
    "# Your code"
   ]
  },
  {
   "cell_type": "markdown",
   "metadata": {},
   "source": [
    "The main applications of multi-dimensional lists requires the use of loops. To commit a multi-dimensional loop, we nested them. Let us see an example below: \n",
    "```python\n",
    "a = [...]\n",
    "for i in range(len(a)): \n",
    "    for j in range(len(a[i])): \n",
    "        print(j)\n",
    "```"
   ]
  },
  {
   "cell_type": "markdown",
   "metadata": {},
   "source": [
    "When it comes to `while` loop, we just need to remember the change in syntax and everything should be easy. Which is the following. \n",
    "```python\n",
    "a = [...]\n",
    "i = 0\n",
    "while i < len(a): \n",
    "    j = 0\n",
    "    while j < len(a[i]): \n",
    "        print(a[i][j])\n",
    "        j += 1\n",
    "    i += 1\n",
    "```\n",
    "As you can see, there are 2 counters `i` and `j`. They are initialised just before their loops started. Also remember to increase the counter at the end of each layers. "
   ]
  },
  {
   "cell_type": "markdown",
   "metadata": {
    "solution": "hidden",
    "solution_first": true
   },
   "source": [
    "__Exercise:__ Write a program where it prints the elements inside the list `ls`."
   ]
  },
  {
   "cell_type": "code",
   "execution_count": null,
   "metadata": {
    "solution": "hidden"
   },
   "outputs": [],
   "source": [
    "ls = [[1, 1], [2, 0], [0]]\n",
    "for i in range(len(ls)): \n",
    "    for j in range(len(ls[i])): \n",
    "        print(ls[i][j])\n",
    "i = 0\n",
    "while i < len(ls): \n",
    "    j = 0\n",
    "    while j < len(ls): \n",
    "        print(ls[i][j])\n",
    "        j += 1\n",
    "    i += 1"
   ]
  },
  {
   "cell_type": "code",
   "execution_count": null,
   "metadata": {},
   "outputs": [],
   "source": [
    "ls = [[1, 1], [2, 0], [0]]\n",
    "# Your code below\n"
   ]
  },
  {
   "cell_type": "markdown",
   "metadata": {},
   "source": [
    "As you can see the list `ls` has uneven lengths inside each nested lists. So the key above of what you have done, is to make sure the nested loop runs through each nested lists. Rather than hard code the length of each nested lists. "
   ]
  },
  {
   "cell_type": "markdown",
   "metadata": {
    "solution": "hidden",
    "solution_first": true
   },
   "source": [
    "__Exercise:__ Write a program to convert the list `data` contains some missing data, into a meaningful dataset. They are either shown as `' '` or `'NaN'`. Your task is to convert them into `9999`. "
   ]
  },
  {
   "cell_type": "code",
   "execution_count": 11,
   "metadata": {
    "solution": "hidden"
   },
   "outputs": [
    {
     "name": "stdout",
     "output_type": "stream",
     "text": [
      "[[0, 0, 1, 1, 1, 1, 0, 0, 0, 0, 1, 1], [9999, 9999, 9999, 1999, 2000, 2002, 1996, 2031, 2333, 2201, 9999]]\n"
     ]
    }
   ],
   "source": [
    "data = [[0, 0, 1, 1, 1, 1, 0, 0, 0, 0, 1, 1], ['NaN', 'NaN', 'NaN', 1999, 2000, 2002, 1996, 2031, 2333, 2201, ' ']]\n",
    "\n",
    "i = 0\n",
    "while i < len(data): \n",
    "    j = 0\n",
    "    while j < len(data[i]): \n",
    "        if type(data[i][j]) != int: # Look carefully the data type inside the list. \n",
    "            data[i][j] = 9999\n",
    "        j += 1\n",
    "    i += 1\n",
    "\n",
    "print(data)"
   ]
  },
  {
   "cell_type": "code",
   "execution_count": null,
   "metadata": {},
   "outputs": [],
   "source": [
    "data = [[0, 0, 1, 1, 1, 1, 0, 0, 0, 0, 1, 1], ['NaN', 2331, 1800, 1999, 2000, 2002, 1996, 2031, 2333, 2201, 1902 ]]\n",
    "# Your code below\n"
   ]
  },
  {
   "cell_type": "markdown",
   "metadata": {
    "solution": "hidden",
    "solution_first": true
   },
   "source": [
    "__Exercise:__ Write a program to transpose a matrix. For example \n",
    "\\[\n",
    "\\mathbf{A}\\;=\\;\n",
    "\\begin{bmatrix}\n",
    "a & b \\\\\n",
    "c & d \\\\\n",
    "\\end{bmatrix}\n",
    "\\]\n",
    "then \n",
    "\\begin{equation}\n",
    "\\mathbf{A}^{T}\\;=\\;\n",
    "\\begin{bmatrix}\n",
    "a & c \\\\\n",
    "b & d \\\\\n",
    "\\end{bmatrix}\n",
    "\\end{equation}\n",
    "Which means for all the elements in the matrix, the row and column number swaps in the new matrix. For example, $b$ in the matrix represents row 1, column 2. It becomes row 2 column 1 in the new matrix. \n",
    "\n",
    "The examplar matrix is ready for you. Although you are free to use your own one. "
   ]
  },
  {
   "cell_type": "code",
   "execution_count": 4,
   "metadata": {
    "solution": "hidden"
   },
   "outputs": [
    {
     "name": "stdout",
     "output_type": "stream",
     "text": [
      "[[9, 0, 1], [-1, 2, 3], [3, 5, 4]]\n"
     ]
    }
   ],
   "source": [
    "A = [[9, -1, 3], [0, 2, 5], [1, 3, 4]]\n",
    "A_transpose = []  # Remember to initialise the list first.\n",
    "\n",
    "i = 0\n",
    "while i < len(A): \n",
    "    A_transpose.append([])\n",
    "    j = 0\n",
    "    while j < len(A[i]): \n",
    "        A_transpose[i].append(A[j][i])\n",
    "        j += 1\n",
    "    i += 1\n",
    "\n",
    "print(A_transpose)"
   ]
  },
  {
   "cell_type": "code",
   "execution_count": null,
   "metadata": {},
   "outputs": [],
   "source": [
    "A = [[9, -1, 3], [0, 2, 5], [1, 3, 4]]\n",
    "# Your code below "
   ]
  },
  {
   "cell_type": "markdown",
   "metadata": {},
   "source": [
    "## Conclusion"
   ]
  },
  {
   "cell_type": "markdown",
   "metadata": {},
   "source": [
    "In today's class we have looked at: \n",
    "* Lists and how to manipulate the elements in the list. \n",
    "* Difference between lists and arrays. \n",
    "* Perform numpy calculations\n",
    "* Perform operations on a multi-dimensional list. "
   ]
  },
  {
   "cell_type": "code",
   "execution_count": null,
   "metadata": {},
   "outputs": [],
   "source": []
  }
 ],
 "metadata": {
  "kernelspec": {
   "display_name": "Python 3",
   "language": "python",
   "name": "python3"
  },
  "language_info": {
   "codemirror_mode": {
    "name": "ipython",
    "version": 3
   },
   "file_extension": ".py",
   "mimetype": "text/x-python",
   "name": "python",
   "nbconvert_exporter": "python",
   "pygments_lexer": "ipython3",
   "version": "3.7.3"
  },
  "latex_envs": {
   "LaTeX_envs_menu_present": true,
   "autoclose": true,
   "autocomplete": true,
   "bibliofile": "biblio.bib",
   "cite_by": "apalike",
   "current_citInitial": 1,
   "eqLabelWithNumbers": true,
   "eqNumInitial": 1,
   "hotkeys": {
    "equation": "Ctrl-E",
    "itemize": "Ctrl-I"
   },
   "labels_anchors": false,
   "latex_user_defs": false,
   "report_style_numbering": false,
   "user_envs_cfg": false
  }
 },
 "nbformat": 4,
 "nbformat_minor": 2
}
