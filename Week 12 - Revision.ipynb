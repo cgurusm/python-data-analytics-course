{
 "cells": [
  {
   "cell_type": "markdown",
   "metadata": {},
   "source": [
    "# Week 12: Revsision"
   ]
  },
  {
   "cell_type": "markdown",
   "metadata": {},
   "source": [
    "Last few weeks, we have looked at: \n",
    "* Python programming\n",
    "* Reading and writing files \n",
    "* Orbject oriented programming\n",
    "* EDA\n",
    "* Machine learning\n",
    "* Text analysis\n",
    "* Network analysis\n",
    "\n",
    "This week is to look back what we have done. "
   ]
  },
  {
   "cell_type": "markdown",
   "metadata": {},
   "source": [
    "## Procedual Programming"
   ]
  },
  {
   "cell_type": "markdown",
   "metadata": {},
   "source": [
    "<div class=\"alert alert-block alert-info\">\n",
    "<b>Tip:</b> Keep your habit to use comments. In Python it starts with \"#\". \n",
    "</div>"
   ]
  },
  {
   "cell_type": "markdown",
   "metadata": {},
   "source": [
    "```python\n",
    "if this: \n",
    "    print('Do something here')\n",
    "elif this: \n",
    "    print('Do something here')\n",
    "else: \n",
    "    print('Do something here')\n",
    "```"
   ]
  },
  {
   "cell_type": "markdown",
   "metadata": {},
   "source": [
    "```python\n",
    "i = 0    # Initiate counter\n",
    "while i < n:     # While loop\n",
    "    print('Do something here')\n",
    "    i += 1   # Increase counter\n",
    "```"
   ]
  },
  {
   "cell_type": "markdown",
   "metadata": {},
   "source": [
    "```python\n",
    "for i in range(0, n): \n",
    "    print('Do something here')\n",
    "```"
   ]
  },
  {
   "cell_type": "markdown",
   "metadata": {},
   "source": [
    "```python\n",
    "with open(\"filename\", \"r\") as f: \n",
    "    f.readlines()\n",
    "    f.read()\n",
    "```"
   ]
  },
  {
   "cell_type": "markdown",
   "metadata": {},
   "source": [
    "* \"r\" is read mode. \n",
    "* \"w\" is write mode. \n",
    "* \"a\" is append mode. "
   ]
  },
  {
   "cell_type": "markdown",
   "metadata": {},
   "source": [
    "## Object-oriented Programming"
   ]
  },
  {
   "cell_type": "markdown",
   "metadata": {},
   "source": [
    "```python\n",
    "class ClassName: \n",
    "    def __init__(self, args): \n",
    "        self.attribute = args \n",
    "        \n",
    "    def instance_methods_here(self): \n",
    "        print('Do something here')\n",
    "    \n",
    "    def static_methods_here(other): \n",
    "        print('Do something here')\n",
    "```"
   ]
  },
  {
   "cell_type": "markdown",
   "metadata": {},
   "source": [
    "```python\n",
    "class ChildClass(ClassName): \n",
    "    # ClassName is the super class\n",
    "    def __init__(self, args): \n",
    "        ClassName.__init__(self)\n",
    "        self.attribute = args \n",
    "        \n",
    "    def instance_methods_here(self): \n",
    "        print('Do something here')\n",
    "\n",
    "    def static_methods_here(other): \n",
    "        print('Do something here')\n",
    "```"
   ]
  },
  {
   "cell_type": "markdown",
   "metadata": {},
   "source": [
    "## Data Science"
   ]
  },
  {
   "cell_type": "markdown",
   "metadata": {},
   "source": [
    "## Text Analytics"
   ]
  },
  {
   "cell_type": "markdown",
   "metadata": {},
   "source": [
    "## Ending"
   ]
  },
  {
   "cell_type": "markdown",
   "metadata": {},
   "source": [
    "This course provides an idea of what data science is about. Meanwhile we have not touched all the parts in the course, you can look back to see where you have not finished later. The world of machine learning is always expanding and make sure to touch base with new technologies that is not covered in these materials. "
   ]
  }
 ],
 "metadata": {
  "kernelspec": {
   "display_name": "Python 3 (ipykernel)",
   "language": "python",
   "name": "python3"
  },
  "language_info": {
   "codemirror_mode": {
    "name": "ipython",
    "version": 3
   },
   "file_extension": ".py",
   "mimetype": "text/x-python",
   "name": "python",
   "nbconvert_exporter": "python",
   "pygments_lexer": "ipython3",
   "version": "3.8.12"
  },
  "latex_envs": {
   "LaTeX_envs_menu_present": true,
   "autoclose": true,
   "autocomplete": true,
   "bibliofile": "biblio.bib",
   "cite_by": "apalike",
   "current_citInitial": 1,
   "eqLabelWithNumbers": false,
   "eqNumInitial": 1,
   "hotkeys": {
    "equation": "Ctrl-E",
    "itemize": "Ctrl-I"
   },
   "labels_anchors": false,
   "latex_user_defs": false,
   "report_style_numbering": false,
   "user_envs_cfg": false
  },
  "toc": {
   "base_numbering": 1,
   "nav_menu": {},
   "number_sections": false,
   "sideBar": true,
   "skip_h1_title": false,
   "title_cell": "Table of Contents",
   "title_sidebar": "Contents",
   "toc_cell": false,
   "toc_position": {},
   "toc_section_display": true,
   "toc_window_display": true
  }
 },
 "nbformat": 4,
 "nbformat_minor": 2
}
