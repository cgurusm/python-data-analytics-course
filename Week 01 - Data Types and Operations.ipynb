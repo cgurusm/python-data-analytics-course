{
 "cells": [
  {
   "cell_type": "markdown",
   "metadata": {},
   "source": [
    "# Week 01: Data Types and Operations"
   ]
  },
  {
   "cell_type": "markdown",
   "metadata": {},
   "source": [
    "In computer programming, an object is used for computing something. Any objects have their defined type, for example 1 is an integer, while 1.0 is a float (numbers wil decimal points). In Python there are few common data types: \n",
    "* `int`\n",
    "* `float`\n",
    "* `str`\n",
    "* `list`\n",
    "* `dict`\n",
    "\n",
    "Data types are the name of the objects. These data types will be commonly used when you program in Python. So being familiar with them is important. "
   ]
  },
  {
   "cell_type": "markdown",
   "metadata": {},
   "source": [
    "### Integer and Float"
   ]
  },
  {
   "cell_type": "markdown",
   "metadata": {},
   "source": [
    "Integers are whole numbers and their negative ones. For example, 1 is an integer. In Python integer is a data type of its own. Its data type class is called `int` in Python. One application on calling the data type is to compare if an object is an integer or not, for example, \n",
    "```python\n",
    "isinstance(10,int)\n",
    "```\n",
    "Which will return `True`. "
   ]
  },
  {
   "cell_type": "markdown",
   "metadata": {},
   "source": [
    "In Python, to present decimal numbers we have the float data type. A float is a distinguished data type than integers. For example, 1 has an int type, but 1.0 has a float type. You can test them below: "
   ]
  },
  {
   "cell_type": "code",
   "execution_count": null,
   "metadata": {},
   "outputs": [],
   "source": [
    "# Try this\n",
    "print(type(1))\n",
    "print(type(1.0))"
   ]
  },
  {
   "cell_type": "markdown",
   "metadata": {},
   "source": [
    "### Strings"
   ]
  },
  {
   "cell_type": "markdown",
   "metadata": {},
   "source": [
    "In computer science, a string means texts. It comes the term 'a string of characters'. To present a string, a quotation mark must wrap the texts you would like present. For example, \n",
    "```python\n",
    "'Python is a easy language to learn.'\n",
    "```\n",
    "You can test if above is a string or not using a type() function. "
   ]
  },
  {
   "cell_type": "code",
   "execution_count": null,
   "metadata": {},
   "outputs": [],
   "source": [
    "# Try this\n",
    "type('Python is a easy language to learn.')"
   ]
  },
  {
   "cell_type": "markdown",
   "metadata": {},
   "source": [
    "Just be careful about the apostrophes in strings, the compiler will thought you have finished the sentence and it can causes errors if not escapted properly (will tell you afterwards). Let's see an example if one didn't escape the apostrophes properly: "
   ]
  },
  {
   "cell_type": "markdown",
   "metadata": {},
   "source": [
    "```python\n",
    "'How's your day?'\n",
    "```"
   ]
  },
  {
   "cell_type": "markdown",
   "metadata": {},
   "source": [
    "As you can see from above, there are parts of the string are not in red. The compiler reads the string of 'How' but afterwards. To make sure the above snipnet does not output the wrong object, we escape the apostrophe. Which is prepend the quotation character. Using the above example, it is \n",
    "```python\n",
    "'How\\'s your day?'\n",
    "```\n",
    "Alternatively, you can use double quotation marks to present a string, such as\n",
    "```python\n",
    "\"How's your day?\"\n",
    "```\n",
    "That way there is no need to escape the apostrophe. "
   ]
  },
  {
   "cell_type": "markdown",
   "metadata": {},
   "source": [
    "### List"
   ]
  },
  {
   "cell_type": "markdown",
   "metadata": {},
   "source": [
    "When one wants to group several data into a container, we use lists in Python. For example, \n",
    "```python\n",
    "['Some text', 'Some more texts']\n",
    "```\n",
    "This list contains 2 strings. Looking deeper into a list, each elements contains the contents and the index. An index indicates where the object is stored inside the list. To access this list, let us define it properly. "
   ]
  },
  {
   "cell_type": "code",
   "execution_count": null,
   "metadata": {},
   "outputs": [],
   "source": [
    "ls = [1, 2, 5, 8, 9]"
   ]
  },
  {
   "cell_type": "markdown",
   "metadata": {},
   "source": [
    "One note from above is that ls is often used as a variable representing a list, while the word 'list' itself represents the object in Python. Do not use list as a variable name as it will confuses the compiler. "
   ]
  },
  {
   "cell_type": "code",
   "execution_count": null,
   "metadata": {},
   "outputs": [],
   "source": [
    "# Try this\n",
    "type(ls)"
   ]
  },
  {
   "cell_type": "markdown",
   "metadata": {},
   "source": [
    "Now we have a list object defined, we can call the elements now. To do that, we use square brakets to call the list. But before trying to call the objects in ls, be reminded that lists in Python starts with 0, not 1. This is common in some programming languages, but it is out of intuition. "
   ]
  },
  {
   "cell_type": "markdown",
   "metadata": {},
   "source": [
    "So let us do some practice first. \n",
    "```python\n",
    "ls[0]\n",
    "```\n",
    "will call the first element in ls. "
   ]
  },
  {
   "cell_type": "code",
   "execution_count": null,
   "metadata": {},
   "outputs": [],
   "source": [
    "# Try this\n",
    "ls[0]"
   ]
  },
  {
   "cell_type": "markdown",
   "metadata": {},
   "source": [
    "What if we call an object that is larger than the dimension of a list? You will see an error so make sure when using loops, take care how large is your lists are. \n",
    "\n",
    "We will look further about lists in week 3."
   ]
  },
  {
   "cell_type": "markdown",
   "metadata": {},
   "source": [
    "### Dictionary"
   ]
  },
  {
   "cell_type": "code",
   "execution_count": null,
   "metadata": {},
   "outputs": [],
   "source": []
  },
  {
   "cell_type": "code",
   "execution_count": null,
   "metadata": {},
   "outputs": [],
   "source": []
  },
  {
   "cell_type": "code",
   "execution_count": null,
   "metadata": {},
   "outputs": [],
   "source": []
  },
  {
   "cell_type": "code",
   "execution_count": null,
   "metadata": {},
   "outputs": [],
   "source": []
  },
  {
   "cell_type": "markdown",
   "metadata": {},
   "source": [
    "### Numpy Data Types"
   ]
  },
  {
   "cell_type": "markdown",
   "metadata": {},
   "source": [
    "Numpy is a popular package in Python, it is very useful in computing large datasets. The main reason why it computes fastly is because it is written by C. C language is one of the common low-level language that can be picked up by machine easily, while Python requires interpretation to let the machine knows the instructions. \n",
    "\n",
    "Data types in C considers more about how your computer stores them. You might have come across with how binary numbers converts into numbers. For example, '10' in binary numbers means 2 in decimals. In computers, we store __one information__ with bits. This represents the area of computer storage, for example, have an electron or not. It really depends on how your computer is made. So let us consider the following: "
   ]
  },
  {
   "cell_type": "markdown",
   "metadata": {},
   "source": [
    "In fact, the 8 bit constraint means the largest number you can compute with is $2^8\\;=\\;256$. If we consider negative numbers, then the largest number we can compute is $127$. This number can be very small at many occassions. So in Numpy (or C), there are more data types that uses more or less memories in the computer. For instance, "
   ]
  },
  {
   "cell_type": "markdown",
   "metadata": {},
   "source": [
    "* `np.int8` means the number ranges from -128 to 127. \n",
    "* `np.int16` means the number ranges from -32768 to 32767. \n",
    "* `np.int32` means the number ranges from -2147483648 to 2147483647. \n",
    "* `np.int64` means the number ranges from -9223372036854775808 to 9223372036854775807. "
   ]
  },
  {
   "cell_type": "markdown",
   "metadata": {},
   "source": [
    "There are other numerical data types such as unsigned (e.g. `np.uint8`), float, long (dependent to computer, but each data must be greater than 32 bits) etc. "
   ]
  },
  {
   "cell_type": "markdown",
   "metadata": {},
   "source": [
    "## Drill"
   ]
  },
  {
   "cell_type": "markdown",
   "metadata": {},
   "source": [
    "In the following, how can you tell the type of following objects are: \n",
    "* 1 has a type of int?\n",
    "* 1.00 has a type of float?\n",
    "* abc has a type of string?\n",
    "* 'I am fine.' has a type of string?\n",
    "* {1, 2, 3} has a type of list or array?\n",
    "* {\"1, 2, 3\"} has a type of list or array?\n",
    "You can test this using the Python function isinstance(obj, type) or type(obj) to help you. Test them at the next cell. "
   ]
  },
  {
   "cell_type": "code",
   "execution_count": 3,
   "metadata": {},
   "outputs": [
    {
     "name": "stdout",
     "output_type": "stream",
     "text": [
      "True\n"
     ]
    },
    {
     "data": {
      "text/plain": [
       "int"
      ]
     },
     "execution_count": 3,
     "metadata": {},
     "output_type": "execute_result"
    }
   ],
   "source": [
    "# The first item is done for you. \n",
    "print(isinstance(1, int))\n",
    "type(1)\n",
    "# Test the types in below"
   ]
  },
  {
   "cell_type": "markdown",
   "metadata": {},
   "source": [
    "In the following, explain what are these operators?"
   ]
  },
  {
   "cell_type": "markdown",
   "metadata": {},
   "source": [
    "```python\n",
    "# Do not compute this cell. \n",
    "+ - * / // %\n",
    "```"
   ]
  },
  {
   "cell_type": "markdown",
   "metadata": {},
   "source": [
    "## Python"
   ]
  },
  {
   "cell_type": "markdown",
   "metadata": {},
   "source": [
    "Python is a popular language for data analytics. Its syntax is easy to write and it has a large community with many useful packages for data anlytics and scripting. In the following, let us understand the basic syntax of Python. "
   ]
  },
  {
   "cell_type": "markdown",
   "metadata": {},
   "source": [
    "```python\n",
    "# This is a comment\n",
    "from numpy import * # numpy is a package which contains many useful functions for us without writting them from scratch.\n",
    "import sys # import the whole library. \n",
    "\n",
    "cmd = input('What word means happy from you?')  # input with a bracket is a function. \n",
    "intensity = input('How intense is it?')\n",
    "intensity = int(intensity)\n",
    "print(intensity)  # Important function! Print out variables or strings on the screen. \n",
    "\n",
    "if intensity > 5:   # If something is true, then the following line will be run by compiler. \n",
    "    print('Intensity has to be less than or equals to 5.')\n",
    "else:   # If the 'if' statement is false, then this line will run instead. \n",
    "    print('{} means happy to the degree of {}'.format(cmd, intensity))\n",
    "```"
   ]
  },
  {
   "cell_type": "markdown",
   "metadata": {},
   "source": [
    "As you can see, the above code starts with importing packages (or libraries). Then it variables are defined before the main computation i started. This is the basic structure of a Python code. "
   ]
  },
  {
   "cell_type": "markdown",
   "metadata": {},
   "source": [
    "The format of a Python code is its syntax. In the following, let us explore the few cases where the Python can confuse the compiler. "
   ]
  },
  {
   "cell_type": "code",
   "execution_count": null,
   "metadata": {},
   "outputs": [],
   "source": [
    "# Run this.\n",
    "a + 1\n",
    "a = 1"
   ]
  },
  {
   "cell_type": "markdown",
   "metadata": {},
   "source": [
    "What is happening?"
   ]
  },
  {
   "cell_type": "code",
   "execution_count": null,
   "metadata": {},
   "outputs": [],
   "source": [
    "# Run this.\n",
    "int(\"Social science\")"
   ]
  },
  {
   "cell_type": "markdown",
   "metadata": {},
   "source": [
    "What is happening?"
   ]
  },
  {
   "cell_type": "code",
   "execution_count": null,
   "metadata": {},
   "outputs": [],
   "source": [
    "# Run this.\n",
    "a = 1\n",
    "b = 2\n",
    "a = b"
   ]
  },
  {
   "cell_type": "markdown",
   "metadata": {},
   "source": [
    "What are `a` and `b` after the code has been run?"
   ]
  },
  {
   "cell_type": "code",
   "execution_count": null,
   "metadata": {},
   "outputs": [],
   "source": [
    "# Run this. \n",
    "a = 3\n",
    "t = 1.4\n",
    "a = a + t/2"
   ]
  },
  {
   "cell_type": "markdown",
   "metadata": {},
   "source": [
    "What are the values of `a` and `t` after they run?"
   ]
  },
  {
   "cell_type": "markdown",
   "metadata": {},
   "source": [
    "## Jupyter"
   ]
  },
  {
   "cell_type": "code",
   "execution_count": null,
   "metadata": {},
   "outputs": [],
   "source": []
  },
  {
   "cell_type": "markdown",
   "metadata": {},
   "source": [
    "## Python Operators"
   ]
  },
  {
   "cell_type": "markdown",
   "metadata": {},
   "source": [
    "A mathematical operator transforms from the object. For example, negative operator gives the negative number. "
   ]
  }
 ],
 "metadata": {
  "kernelspec": {
   "display_name": "Python 3",
   "language": "python",
   "name": "python3"
  },
  "language_info": {
   "codemirror_mode": {
    "name": "ipython",
    "version": 3
   },
   "file_extension": ".py",
   "mimetype": "text/x-python",
   "name": "python",
   "nbconvert_exporter": "python",
   "pygments_lexer": "ipython3",
   "version": "3.7.3"
  },
  "latex_envs": {
   "LaTeX_envs_menu_present": true,
   "autoclose": true,
   "autocomplete": true,
   "bibliofile": "biblio.bib",
   "cite_by": "apalike",
   "current_citInitial": 1,
   "eqLabelWithNumbers": true,
   "eqNumInitial": 1,
   "hotkeys": {
    "equation": "Ctrl-E",
    "itemize": "Ctrl-I"
   },
   "labels_anchors": false,
   "latex_user_defs": false,
   "report_style_numbering": false,
   "user_envs_cfg": false
  }
 },
 "nbformat": 4,
 "nbformat_minor": 2
}
