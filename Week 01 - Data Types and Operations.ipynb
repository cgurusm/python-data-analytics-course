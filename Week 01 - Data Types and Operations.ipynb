{
 "cells": [
  {
   "cell_type": "markdown",
   "metadata": {},
   "source": [
    "# Week 01: Data Types and Operations"
   ]
  },
  {
   "cell_type": "markdown",
   "metadata": {},
   "source": [
    "In computer programming, an object is used for computing something. Any objects have their defined type, for example 1 is an integer, while 1.0 is a float (numbers wil decimal points). In Python there are few common data types: \n",
    "* `boolean`\n",
    "* `int`\n",
    "* `float`\n",
    "* `str`\n",
    "* `list`\n",
    "* `dict`\n",
    "\n",
    "Data types are the name of the objects. These data types will be commonly used when you program in Python. So being familiar with them is important. "
   ]
  },
  {
   "cell_type": "markdown",
   "metadata": {},
   "source": [
    "### Boolean"
   ]
  },
  {
   "cell_type": "markdown",
   "metadata": {},
   "source": [
    "Boolean values are plainly `True` or `False`. For example, if someone asks `3 > 2` then the computer return `True` and vice versa. To see this in practise, one needs to do the following: "
   ]
  },
  {
   "cell_type": "code",
   "execution_count": null,
   "metadata": {
    "collapsed": true
   },
   "outputs": [],
   "source": [
    "# Try this\n",
    "print(3 > 2)"
   ]
  },
  {
   "cell_type": "markdown",
   "metadata": {},
   "source": [
    "In Python, the boolean values are keywords and they must be written with the first letter capital. The lower case `true` or `false` are treated as variables and will raise an error if they are not defined. See below if one uses the wrong format of boolean values. "
   ]
  },
  {
   "cell_type": "code",
   "execution_count": 1,
   "metadata": {},
   "outputs": [
    {
     "ename": "NameError",
     "evalue": "name 'false' is not defined",
     "output_type": "error",
     "traceback": [
      "\u001b[1;31m---------------------------------------------------------------------------\u001b[0m",
      "\u001b[1;31mNameError\u001b[0m                                 Traceback (most recent call last)",
      "\u001b[1;32m<ipython-input-1-5d8f55c25b5e>\u001b[0m in \u001b[0;36m<module>\u001b[1;34m\u001b[0m\n\u001b[1;32m----> 1\u001b[1;33m \u001b[0mtype\u001b[0m\u001b[1;33m(\u001b[0m\u001b[0mfalse\u001b[0m\u001b[1;33m)\u001b[0m\u001b[1;33m\u001b[0m\u001b[1;33m\u001b[0m\u001b[0m\n\u001b[0m",
      "\u001b[1;31mNameError\u001b[0m: name 'false' is not defined"
     ]
    }
   ],
   "source": [
    "type(false)"
   ]
  },
  {
   "cell_type": "markdown",
   "metadata": {},
   "source": [
    "### Integer and Float"
   ]
  },
  {
   "cell_type": "markdown",
   "metadata": {},
   "source": [
    "Integers are whole numbers and their negative ones. For example, 1 is an integer. In Python integer is a data type of its own. Its data type class is called `int` in Python. One application on calling the data type is to compare if an object is an integer or not, for example, \n",
    "```python\n",
    "isinstance(10,int)\n",
    "```\n",
    "Which will return `True`. "
   ]
  },
  {
   "cell_type": "markdown",
   "metadata": {},
   "source": [
    "In Python, to present decimal numbers we have the float data type. A float is a distinguished data type than integers. For example, 1 has an int type, but 1.0 has a float type. You can test them below: "
   ]
  },
  {
   "cell_type": "code",
   "execution_count": null,
   "metadata": {
    "collapsed": true
   },
   "outputs": [],
   "source": [
    "# Try this\n",
    "print(type(1))\n",
    "print(type(1.0))"
   ]
  },
  {
   "cell_type": "markdown",
   "metadata": {},
   "source": [
    "Before we move on, one warning to begineers using Python is that computing with `floats` can result in inaccurate numbers. Python uses binary storage for any data type. While computing with decimals, the computer require converting floats into binary numbers and back. So this can be a problem sometimes. As a caveat, refrain using `floats`. "
   ]
  },
  {
   "cell_type": "code",
   "execution_count": null,
   "metadata": {
    "collapsed": true
   },
   "outputs": [],
   "source": [
    "# Try this\n",
    "print(0.01 + 0.02)"
   ]
  },
  {
   "cell_type": "markdown",
   "metadata": {},
   "source": [
    "### Strings"
   ]
  },
  {
   "cell_type": "markdown",
   "metadata": {},
   "source": [
    "In computer science, a string means texts. It comes the term 'a string of characters'. To present a string, a quotation mark must wrap the texts you would like present. For example, \n",
    "```python\n",
    "'Python is a easy language to learn.'\n",
    "```\n",
    "You can test if above is a string or not using a type() function. "
   ]
  },
  {
   "cell_type": "code",
   "execution_count": null,
   "metadata": {
    "collapsed": true
   },
   "outputs": [],
   "source": [
    "# Try this\n",
    "type('Python is a easy language to learn.')"
   ]
  },
  {
   "cell_type": "markdown",
   "metadata": {},
   "source": [
    "Just be careful about the apostrophes in strings, the compiler will thought you have finished the sentence and it can causes errors if not escapted properly (will tell you afterwards). Let's see an example if one didn't escape the apostrophes properly: "
   ]
  },
  {
   "cell_type": "markdown",
   "metadata": {},
   "source": [
    "```python\n",
    "'How's your day?'\n",
    "```"
   ]
  },
  {
   "cell_type": "markdown",
   "metadata": {},
   "source": [
    "As you can see from above, there are parts of the string are not in red. The compiler reads the string of 'How' but afterwards. To make sure the above snipnet does not output the wrong object, we escape the apostrophe. Which is prepend the quotation character. Using the above example, it is \n",
    "```python\n",
    "'How\\'s your day?'\n",
    "```\n",
    "Alternatively, you can use double quotation marks to present a string, such as\n",
    "```python\n",
    "\"How's your day?\"\n",
    "```\n",
    "That way there is no need to escape the apostrophe. "
   ]
  },
  {
   "cell_type": "markdown",
   "metadata": {},
   "source": [
    "### List"
   ]
  },
  {
   "cell_type": "markdown",
   "metadata": {},
   "source": [
    "When one wants to group several data into a container, we use lists in Python. For example, \n",
    "```python\n",
    "['Some text', 'Some more texts']\n",
    "```\n",
    "This list contains 2 strings. Looking deeper into a list, each elements contains the contents and the index. An index indicates where the object is stored inside the list. To access this list, let us define it properly. "
   ]
  },
  {
   "cell_type": "code",
   "execution_count": null,
   "metadata": {
    "collapsed": true
   },
   "outputs": [],
   "source": [
    "ls = [1, 2, 5, 8, 9]"
   ]
  },
  {
   "cell_type": "markdown",
   "metadata": {},
   "source": [
    "One note from above is that ls is often used as a variable representing a list, while the word 'list' itself represents the object in Python. Do not use list as a variable name as it will confuses the compiler. "
   ]
  },
  {
   "cell_type": "code",
   "execution_count": null,
   "metadata": {
    "collapsed": true
   },
   "outputs": [],
   "source": [
    "# Try this\n",
    "type(ls)"
   ]
  },
  {
   "cell_type": "markdown",
   "metadata": {},
   "source": [
    "Now we have a list object defined, we can call the elements now. To do that, we use square brakets to call the list. But before trying to call the objects in ls, be reminded that lists in Python starts with 0, not 1. This is common in some programming languages, but it is out of intuition. "
   ]
  },
  {
   "cell_type": "markdown",
   "metadata": {},
   "source": [
    "So let us do some practice first. \n",
    "```python\n",
    "ls[0]\n",
    "```\n",
    "will call the first element in ls. "
   ]
  },
  {
   "cell_type": "code",
   "execution_count": null,
   "metadata": {
    "collapsed": true
   },
   "outputs": [],
   "source": [
    "# Try this\n",
    "ls[0]"
   ]
  },
  {
   "cell_type": "markdown",
   "metadata": {},
   "source": [
    "What if we call an object that is larger than the dimension of a list? You will see an error so make sure when using loops, take care how large is your lists are. \n",
    "\n",
    "We will look further about lists in week 3."
   ]
  },
  {
   "cell_type": "markdown",
   "metadata": {},
   "source": [
    "### Dictionary"
   ]
  },
  {
   "cell_type": "markdown",
   "metadata": {},
   "source": [
    "Dictionary is a unique data type in Python. Its format is \n",
    "```python\n",
    "{key: value}\n",
    "```\n",
    "Which is useful to record data structures of an object (i.e. key) with its description entailed (i.e. value). For example, a tweet object has a user id of the sender. It can be imagined as \n",
    "```python\n",
    "{user: 'SomeUser'}\n",
    "```\n",
    "Note the string format in the value. Values can be any data type, such as integers, floats or even a list.  "
   ]
  },
  {
   "cell_type": "markdown",
   "metadata": {},
   "source": [
    "Let us create a dictionary. It is simple as copying the above format. Suppose we have a dictionary called `Sally`, which describes a person called Sally. Here's her details: \n",
    "* She is 1.72 meters tall. \n",
    "* She has a red hair. \n",
    "* She is an engineer. \n",
    "* Her facebook name is `'SallyDunn99'`.\n",
    "* She likes spending time with friends, yoga and using Instagram. \n",
    "\n",
    "How would you create a dictionary object for Sally? You can add more assumptions into your answer. "
   ]
  },
  {
   "cell_type": "code",
   "execution_count": null,
   "metadata": {},
   "outputs": [],
   "source": [
    "# Try yourself. \n",
    "user = {'height': 1.72, 'hair': 'red'}"
   ]
  },
  {
   "cell_type": "markdown",
   "metadata": {},
   "source": [
    "To call the values in the dictionary, we use the following format. Which is \n",
    "```python\n",
    "some_dictionary['key-of-interest']\n",
    "```\n",
    "So the value under `'key-of-interest'` is printed. How would you call Sally's height into the compiler? Try this below. "
   ]
  },
  {
   "cell_type": "code",
   "execution_count": null,
   "metadata": {},
   "outputs": [],
   "source": [
    "# Try yourself. \n",
    "print(user['height'])"
   ]
  },
  {
   "cell_type": "markdown",
   "metadata": {
    "collapsed": true
   },
   "source": [
    "If we want to add a new attribute of Sally, for example, nationality. We can simply say\n",
    "```python\n",
    "user['nationality'] = 'some-country'\n",
    "```"
   ]
  },
  {
   "cell_type": "code",
   "execution_count": null,
   "metadata": {
    "collapsed": true
   },
   "outputs": [],
   "source": [
    "# Try yourself. \n",
    "user['nationality'] = 'some-country'\n",
    "\n",
    "print(user)"
   ]
  },
  {
   "cell_type": "markdown",
   "metadata": {},
   "source": [
    "If we want to remove the attribute, we can use the `del` keyword. For example, \n",
    "```python\n",
    "del user['nationality']\n",
    "```"
   ]
  },
  {
   "cell_type": "markdown",
   "metadata": {},
   "source": [
    "### Numpy Data Types"
   ]
  },
  {
   "cell_type": "markdown",
   "metadata": {},
   "source": [
    "Numpy is a popular package in Python, it is very useful in computing large datasets. The main reason why it computes fastly is because it is written by C. C language is one of the common low-level language that can be picked up by machine easily, while Python requires interpretation to let the machine knows the instructions. \n",
    "\n",
    "Data types in C considers more about how your computer stores them. You might have come across with how binary numbers converts into numbers. For example, '10' in binary numbers means 2 in decimals. In computers, we store __one information__ with bits. This represents the area of computer storage, for example, have an electron or not. It really depends on how your computer is made. So let us consider the following: "
   ]
  },
  {
   "cell_type": "markdown",
   "metadata": {},
   "source": [
    "In fact, the 8 bit constraint means the largest number you can compute with is $2^8\\;=\\;256$. If we consider negative numbers, then the largest number we can compute is $127$. This number can be very small at many occassions. So in Numpy (or C), there are more data types that uses more or less memories in the computer. For instance, "
   ]
  },
  {
   "cell_type": "markdown",
   "metadata": {},
   "source": [
    "* `np.int8` means the number ranges from -128 to 127. \n",
    "* `np.int16` means the number ranges from -32768 to 32767. \n",
    "* `np.int32` means the number ranges from -2147483648 to 2147483647. \n",
    "* `np.int64` means the number ranges from -9223372036854775808 to 9223372036854775807. "
   ]
  },
  {
   "cell_type": "markdown",
   "metadata": {},
   "source": [
    "There are other numerical data types such as unsigned (e.g. `np.uint8`), float, long (dependent to computer, but each data must be greater than 32 bits) etc. "
   ]
  },
  {
   "cell_type": "markdown",
   "metadata": {},
   "source": [
    "## Drill"
   ]
  },
  {
   "cell_type": "markdown",
   "metadata": {},
   "source": [
    "In the following, how can you tell the type of following objects are: \n",
    "* 1 has a type of int?\n",
    "* 1.00 has a type of float?\n",
    "* abc has a type of string?\n",
    "* 'I am fine.' has a type of string?\n",
    "* {1, 2, 3} has a type of list or array?\n",
    "* {\"1, 2, 3\"} has a type of list or array?\n",
    "You can test this using the Python function isinstance(obj, type) or type(obj) to help you. Test them at the next cell. "
   ]
  },
  {
   "cell_type": "code",
   "execution_count": 3,
   "metadata": {},
   "outputs": [
    {
     "name": "stdout",
     "output_type": "stream",
     "text": [
      "True\n"
     ]
    },
    {
     "data": {
      "text/plain": [
       "int"
      ]
     },
     "execution_count": 3,
     "metadata": {},
     "output_type": "execute_result"
    }
   ],
   "source": [
    "# The first item is done for you. \n",
    "print(isinstance(1, int))\n",
    "type(1)\n",
    "# Test the types in below"
   ]
  },
  {
   "cell_type": "markdown",
   "metadata": {},
   "source": [
    "In the following, explain what are these operators?"
   ]
  },
  {
   "cell_type": "markdown",
   "metadata": {},
   "source": [
    "```python\n",
    "# Do not compute this cell. \n",
    "+ - * / // %\n",
    "```"
   ]
  },
  {
   "cell_type": "markdown",
   "metadata": {},
   "source": [
    "## Python"
   ]
  },
  {
   "cell_type": "markdown",
   "metadata": {},
   "source": [
    "Python is a popular language for data analytics. Its syntax is easy to write and it has a large community with many useful packages for data anlytics and scripting. In the following, let us understand the basic syntax of Python. "
   ]
  },
  {
   "cell_type": "markdown",
   "metadata": {},
   "source": [
    "```python\n",
    "# This is a comment\n",
    "from numpy import * # numpy is a package which contains many useful functions for us without writting them from scratch.\n",
    "import sys # import the whole library. \n",
    "\n",
    "cmd = input('What word means happy from you?')  # input with a bracket is a function. \n",
    "intensity = input('How intense is it?')\n",
    "intensity = int(intensity)\n",
    "print(intensity)  # Important function! Print out variables or strings on the screen. \n",
    "\n",
    "if intensity > 5:   # If something is true, then the following line will be run by compiler. \n",
    "    print('Intensity has to be less than or equals to 5.')\n",
    "else:   # If the 'if' statement is false, then this line will run instead. \n",
    "    print('{} means happy to the degree of {}'.format(cmd, intensity))\n",
    "```"
   ]
  },
  {
   "cell_type": "markdown",
   "metadata": {},
   "source": [
    "As you can see, the above code starts with importing packages (or libraries). Then it variables are defined before the main computation i started. This is the basic structure of a Python code. "
   ]
  },
  {
   "cell_type": "markdown",
   "metadata": {},
   "source": [
    "The format of a Python code is its syntax. In the following, let us explore the few cases where the Python can confuse the compiler. "
   ]
  },
  {
   "cell_type": "code",
   "execution_count": null,
   "metadata": {
    "collapsed": true
   },
   "outputs": [],
   "source": [
    "# Run this.\n",
    "a + 1\n",
    "a = 1"
   ]
  },
  {
   "cell_type": "markdown",
   "metadata": {},
   "source": [
    "What is happening?"
   ]
  },
  {
   "cell_type": "code",
   "execution_count": null,
   "metadata": {
    "collapsed": true
   },
   "outputs": [],
   "source": [
    "# Run this.\n",
    "int(\"Social science\")"
   ]
  },
  {
   "cell_type": "markdown",
   "metadata": {},
   "source": [
    "What is happening?"
   ]
  },
  {
   "cell_type": "code",
   "execution_count": null,
   "metadata": {
    "collapsed": true
   },
   "outputs": [],
   "source": [
    "# Run this.\n",
    "a = 1\n",
    "b = 2\n",
    "a = b"
   ]
  },
  {
   "cell_type": "markdown",
   "metadata": {},
   "source": [
    "What are `a` and `b` after the code has been run?"
   ]
  },
  {
   "cell_type": "code",
   "execution_count": null,
   "metadata": {
    "collapsed": true
   },
   "outputs": [],
   "source": [
    "# Run this. \n",
    "a = 3\n",
    "t = 1.4\n",
    "a = a + t/2"
   ]
  },
  {
   "cell_type": "markdown",
   "metadata": {},
   "source": [
    "What are the values of `a` and `t` after they run?"
   ]
  },
  {
   "cell_type": "markdown",
   "metadata": {},
   "source": [
    "### Variables"
   ]
  },
  {
   "cell_type": "markdown",
   "metadata": {},
   "source": [
    "As you can see above, variables is a container of data. For example, instead of writing `20` to represent someone's age. We could say \n",
    "```python\n",
    "age = 20\n",
    "```\n",
    "This is convenient when we need to use this for computation. It will be discussed in the next section with operators. "
   ]
  },
  {
   "cell_type": "markdown",
   "metadata": {},
   "source": [
    "In Python, there are conventions to name variables. It could be to align with the __specifications__, or it allows other people to read your code properly (i.e. readibility). The following the rules to name your variables in Python: \n",
    "* Technical specifications\n",
    "    * __Never start your variable with a number__\n",
    "    * You can use digits and alphabets as variable names\n",
    "    * The variable name is not a keyword in Python (e.g. `class` or `print`)\n",
    "* Conventions\n",
    "    * __Snake case__ Words are separated by underscores (e.g. `snake_case`)\n",
    "    * __Camel case__ All words start with a capital (e.g. `CamelCase`)\n",
    "    * __Pascal case__ Second and subsequent words are capitalised (e.g. `pascalCase`)\n"
   ]
  },
  {
   "cell_type": "markdown",
   "metadata": {},
   "source": [
    "For example, these are correct \n",
    "```python\n",
    "Age\n",
    "FirstClass\n",
    "```\n",
    "but the following are not\n",
    "```python\n",
    "class\n",
    "1stClass\n",
    "```"
   ]
  },
  {
   "cell_type": "markdown",
   "metadata": {
    "solution": "hidden",
    "solution_first": true
   },
   "source": [
    "__Exercise:__ Can you tell why the latter variables are incorrect?"
   ]
  },
  {
   "cell_type": "markdown",
   "metadata": {
    "solution": "hidden"
   },
   "source": [
    "* `class` is reserved for classes in Python\n",
    "* `1stClass` starts with a number"
   ]
  },
  {
   "cell_type": "code",
   "execution_count": null,
   "metadata": {
    "collapsed": true
   },
   "outputs": [],
   "source": []
  },
  {
   "cell_type": "markdown",
   "metadata": {},
   "source": [
    "## Python Operators"
   ]
  },
  {
   "cell_type": "markdown",
   "metadata": {},
   "source": [
    "Operators are symbols that computes the results using one or more variables. There are different types of operators. A mathematical operator transforms from the object. For example, negative operator gives the negative number. A logical operator computes either true or false by aggregating several open variables. \n",
    "\n",
    "So let us see from examples. "
   ]
  },
  {
   "cell_type": "markdown",
   "metadata": {},
   "source": [
    "### Mathematical Operators"
   ]
  },
  {
   "cell_type": "markdown",
   "metadata": {},
   "source": [
    "In Python, to compute plus, minus, times and divide are easy. You can simply type in the arithmetic with the `print()` function. "
   ]
  },
  {
   "cell_type": "markdown",
   "metadata": {
    "solution": "hidden",
    "solution_first": true
   },
   "source": [
    "__Exercise:__ Compute 233 + 238"
   ]
  },
  {
   "cell_type": "code",
   "execution_count": null,
   "metadata": {
    "collapsed": true,
    "solution": "hidden"
   },
   "outputs": [],
   "source": [
    "print(233+238)"
   ]
  },
  {
   "cell_type": "code",
   "execution_count": null,
   "metadata": {
    "collapsed": true
   },
   "outputs": [],
   "source": [
    "# Your code here"
   ]
  },
  {
   "cell_type": "markdown",
   "metadata": {
    "solution": "hidden",
    "solution_first": true
   },
   "source": [
    "__Exercise:__ Compute variable `a` which is the result of 2 plus three times of `x`. `x` is predfined in this exercise as `x = 26`. "
   ]
  },
  {
   "cell_type": "code",
   "execution_count": null,
   "metadata": {
    "collapsed": true,
    "solution": "hidden"
   },
   "outputs": [],
   "source": [
    "x = 26\n",
    "a = 2 + 3*x\n",
    "a"
   ]
  },
  {
   "cell_type": "code",
   "execution_count": null,
   "metadata": {
    "collapsed": true
   },
   "outputs": [],
   "source": [
    "# Your code here"
   ]
  },
  {
   "cell_type": "markdown",
   "metadata": {},
   "source": [
    "You can also do a power (exponentials) in Python. Which is using `**`. "
   ]
  },
  {
   "cell_type": "markdown",
   "metadata": {
    "solution": "hidden",
    "solution_first": true
   },
   "source": [
    "__Exercise:__ How could you test if the power symbol is `**`? Use a test case to help you. You may find `==` would be useful for comparing if both sides are equal. "
   ]
  },
  {
   "cell_type": "code",
   "execution_count": null,
   "metadata": {
    "collapsed": true,
    "solution": "hidden"
   },
   "outputs": [],
   "source": [
    "print(3*3 == 3**2)\n",
    "# If returns True, then the power operator works. "
   ]
  },
  {
   "cell_type": "code",
   "execution_count": null,
   "metadata": {
    "collapsed": true
   },
   "outputs": [],
   "source": [
    "# Your code here"
   ]
  },
  {
   "cell_type": "markdown",
   "metadata": {},
   "source": [
    "In Python, there are 2 different division operator. `/` the (normal) __division__ and `//` the __floor division__. Which the latter means only the integer part remains. Try it below: "
   ]
  },
  {
   "cell_type": "code",
   "execution_count": null,
   "metadata": {
    "collapsed": true
   },
   "outputs": [],
   "source": [
    "print(8/3)\n",
    "print(8//3)"
   ]
  },
  {
   "cell_type": "markdown",
   "metadata": {},
   "source": [
    "As you can see `8/3` will return the decimals 2.66..., while the latter `8//3` will return 2. "
   ]
  },
  {
   "cell_type": "markdown",
   "metadata": {
    "solution": "hidden",
    "solution_first": true
   },
   "source": [
    "__Exercise:__ What would the data types be after the division?"
   ]
  },
  {
   "cell_type": "code",
   "execution_count": 1,
   "metadata": {
    "solution": "hidden"
   },
   "outputs": [
    {
     "name": "stdout",
     "output_type": "stream",
     "text": [
      "<class 'float'>\n",
      "<class 'int'>\n"
     ]
    }
   ],
   "source": [
    "print(type(5/3))\n",
    "print(type(5//3))"
   ]
  },
  {
   "cell_type": "markdown",
   "metadata": {},
   "source": [
    "We can also find the remainder of a division using the modulus operator `%`. For example, \n",
    "```python\n",
    "8 % 3\n",
    "```\n",
    "will result in $2$. Which means The largest multiples of $3$ will still have 2 remaining before reaching $8$. You can see it in the example below. While $2$ groups of 3 biscuits each are chosen, so $2$ left. "
   ]
  },
  {
   "cell_type": "code",
   "execution_count": 1,
   "metadata": {},
   "outputs": [
    {
     "data": {
      "image/png": "[encoded data removed]",
      "text/plain": [
       "<IPython.core.display.Image object>"
      ]
     },
     "execution_count": 1,
     "metadata": {},
     "output_type": "execute_result"
    }
   ],
   "source": [
    "from IPython.display import Image\n",
    "Image(\"fig/Remainder.png\")"
   ]
  },
  {
   "cell_type": "markdown",
   "metadata": {},
   "source": [
    "What about negative modulus? From the example below "
   ]
  },
  {
   "cell_type": "code",
   "execution_count": 2,
   "metadata": {},
   "outputs": [
    {
     "name": "stdout",
     "output_type": "stream",
     "text": [
      "-1\n"
     ]
    }
   ],
   "source": [
    "# Try this\n",
    "print(8 % -3)"
   ]
  },
  {
   "cell_type": "markdown",
   "metadata": {},
   "source": [
    "What if we would like to use multiple mathematical operators? Universally there is a rule where which mathematical operator is computed first in a line. This is followed as (highest priority to lowest): \n",
    "* brackets `()`\n",
    "* exponential `**`\n",
    "* positive and negative numbers and bitwise negative `+X`, `-X`, `~X`\n",
    "* multiplication `*`, divisions `/`, `//`\n",
    "* plus and minus `+`, `-`\n",
    "* comparision operators `==`, `<`, `>`, `<=`, `is`, `not`, `in`, `not in`\n",
    "* logical `not`\n",
    "* logical `and`\n",
    "* logical `or`\n",
    "\n",
    "This means the highst priority will be computed first, such as brackets. "
   ]
  },
  {
   "cell_type": "markdown",
   "metadata": {
    "solution": "hidden",
    "solution_first": true
   },
   "source": [
    "__Exercise:__ What is the result of `(2 * 3) + 5 * 7//2`?"
   ]
  },
  {
   "cell_type": "code",
   "execution_count": 5,
   "metadata": {
    "solution": "hidden"
   },
   "outputs": [
    {
     "data": {
      "text/plain": [
       "23"
      ]
     },
     "execution_count": 5,
     "metadata": {},
     "output_type": "execute_result"
    }
   ],
   "source": [
    "(2 * 3) + 5 * 7//2"
   ]
  },
  {
   "cell_type": "code",
   "execution_count": null,
   "metadata": {
    "collapsed": true
   },
   "outputs": [],
   "source": [
    "# Try it yourself\n",
    "2 * 3\n",
    "7//2\n",
    "5* 7//2\n",
    "(2 * 3) + 5\n",
    "(2 * 3) + 5 * 7//2"
   ]
  },
  {
   "cell_type": "markdown",
   "metadata": {},
   "source": [
    "### Logical Operators"
   ]
  },
  {
   "cell_type": "markdown",
   "metadata": {},
   "source": [
    "To understand logical operators, let us refer to the following quote: \n",
    "\n",
    "_to be or not be_\n",
    "    \n",
    "This quote from Shakesphere depicts the dilemma of Hammet. It also shows when an object is true and false at the same time makes confusion. This is an application of logics. In life we speaking things that itself is true or false. Often when multiple statements conjunct together, it becomes false. This conjunction is a logical operator. "
   ]
  },
  {
   "cell_type": "markdown",
   "metadata": {},
   "source": [
    "The common logical operators are: AND, OR, NOT, XOR. We will explain them below. "
   ]
  },
  {
   "cell_type": "markdown",
   "metadata": {},
   "source": [
    "The `AND` operator means both input elements are true, results to `True`. \n",
    "\n",
    "<table>\n",
    "    <thead>\n",
    "    <tr>\n",
    "        <td colspan=\"3\" style=\"text-align:centre\"><b>AND</b></td>\n",
    "    </tr>\n",
    "    </thead>\n",
    "    <tr>\n",
    "        <td>A</td>\n",
    "        <td>B</td>\n",
    "        <td>A AND B</td>\n",
    "    </tr>\n",
    "    <tr>\n",
    "        <td>1</td>\n",
    "        <td>1</td>\n",
    "        <td>1</td>\n",
    "    </tr>\n",
    "    <tr>\n",
    "        <td>1</td>\n",
    "        <td>0</td>\n",
    "        <td>0</td>\n",
    "    </tr>\n",
    "    <tr>\n",
    "        <td>0</td>\n",
    "        <td>1</td>\n",
    "        <td>0</td>\n",
    "    </tr>\n",
    "    <tr>\n",
    "        <td>0</td>\n",
    "        <td>0</td>\n",
    "        <td>0</td>\n",
    "    </tr>\n",
    "</table>"
   ]
  },
  {
   "cell_type": "markdown",
   "metadata": {},
   "source": [
    "For example, if you want to see whether 2 people both agreed to do something. Let us define, \n",
    "```python\n",
    "Stacey = True\n",
    "Marilyn = True\n",
    "```\n",
    "We can use `and` to combine their opinion. So we write \n",
    "```pyton\n",
    "print(Stacey and Marilyn)\n",
    "```"
   ]
  },
  {
   "cell_type": "markdown",
   "metadata": {},
   "source": [
    "The `OR` operator returns true if any of the inputs are true. It can be summarised by the truth table below: \n",
    "\n",
    "<table>\n",
    "    <thead>\n",
    "    <tr>\n",
    "        <td colspan=\"3\" style=\"text-align:centre\"><b>OR</b></td>\n",
    "    </tr>\n",
    "    </thead>\n",
    "    <tr>\n",
    "        <td>A</td>\n",
    "        <td>B</td>\n",
    "        <td>A OR B</td>\n",
    "    </tr>\n",
    "    <tr>\n",
    "        <td>1</td>\n",
    "        <td>1</td>\n",
    "        <td>1</td>\n",
    "    </tr>\n",
    "    <tr>\n",
    "        <td>1</td>\n",
    "        <td>0</td>\n",
    "        <td>1</td>\n",
    "    </tr>\n",
    "    <tr>\n",
    "        <td>0</td>\n",
    "        <td>1</td>\n",
    "        <td>1</td>\n",
    "    </tr>\n",
    "    <tr>\n",
    "        <td>0</td>\n",
    "        <td>0</td>\n",
    "        <td>0</td>\n",
    "    </tr>\n",
    "</table>"
   ]
  },
  {
   "cell_type": "markdown",
   "metadata": {},
   "source": [
    "The `OR` operator has one thing different with the daily language. Often when we use 'or' in our language, we mean one but not ther other. This is called the exclusive OR in logics and we use `XOR` to represent them. \n",
    "\n",
    "<table>\n",
    "    <thead>\n",
    "    <tr>\n",
    "        <td colspan=\"3\" style=\"text-align:centre\"><b>XOR</b></td>\n",
    "    </tr>\n",
    "    </thead>\n",
    "    <tr>\n",
    "        <td>A</td>\n",
    "        <td>B</td>\n",
    "        <td>A XOR B</td>\n",
    "    </tr>\n",
    "    <tr>\n",
    "        <td>1</td>\n",
    "        <td>1</td>\n",
    "        <td>0</td>\n",
    "    </tr>\n",
    "    <tr>\n",
    "        <td>1</td>\n",
    "        <td>0</td>\n",
    "        <td>1</td>\n",
    "    </tr>\n",
    "    <tr>\n",
    "        <td>0</td>\n",
    "        <td>1</td>\n",
    "        <td>1</td>\n",
    "    </tr>\n",
    "    <tr>\n",
    "        <td>0</td>\n",
    "        <td>0</td>\n",
    "        <td>0</td>\n",
    "    </tr>\n",
    "</table>\n",
    "\n",
    "It is rarely used in application unlike `AND` and `OR`. "
   ]
  },
  {
   "cell_type": "markdown",
   "metadata": {},
   "source": [
    "Finally, let us look at the `NOT` operator. This simply means not the event. So here is the truth table for the `NOT` operator. \n",
    "\n",
    "<table>\n",
    "    <thead>\n",
    "    <tr>\n",
    "        <td colspan=\"3\" style=\"text-align:centre\"><b>NOT</b></td>\n",
    "    </tr>\n",
    "    </thead>\n",
    "    <tr>\n",
    "        <td>A</td>\n",
    "        <td>NOT A</td>\n",
    "    </tr>\n",
    "    <tr>\n",
    "        <td>1</td>\n",
    "        <td>0</td>\n",
    "    </tr>\n",
    "    <tr>\n",
    "        <td>0</td>\n",
    "        <td>1</td>\n",
    "    </tr>\n",
    "</table>"
   ]
  },
  {
   "cell_type": "markdown",
   "metadata": {},
   "source": [
    "In Python, these logical operators are referred as the small capital `and`, `or`, `xor` and `not`. For example, `3 > 2` in Python will return `True`. So if we are looking for the opposite of this, we type `not(3 > 2)`. "
   ]
  },
  {
   "cell_type": "markdown",
   "metadata": {
    "collapsed": true
   },
   "source": [
    "## Print"
   ]
  },
  {
   "cell_type": "markdown",
   "metadata": {
    "collapsed": true
   },
   "source": [
    "Finally, let us use data types and operations into applications. The most prominent one is printing into console. In programming, we often use a command line (Sometimes you will see this as the black and white screens with some geeky fonts on it) to program. To show what we have done, we need to use print our work into the console. If you are not sure where the data is printing into, try the following code: "
   ]
  },
  {
   "cell_type": "code",
   "execution_count": null,
   "metadata": {
    "collapsed": true
   },
   "outputs": [],
   "source": [
    "# Try me\n",
    "print('Hello world!')"
   ]
  },
  {
   "cell_type": "markdown",
   "metadata": {
    "collapsed": true
   },
   "source": [
    "You can see that \"Hello world!\" is printed on the screen. This is a very useful feature in programming. For example, if you want to see the results after a code is run, or you would like debug from a large scale of code, you will use this `print()` function. "
   ]
  },
  {
   "cell_type": "markdown",
   "metadata": {},
   "source": [
    "We can print variables using `print()`. This can be done by either 3 ways: \n",
    "* `C` syntax\n",
    "* `format()` method \n",
    "* f-string"
   ]
  },
  {
   "cell_type": "markdown",
   "metadata": {},
   "source": [
    "These 3 methods consist of different syntaxs to print objects. To see the comparision, let us use an example below. We would like to print the following sentence: \"I travel to school by `<transport>`\" everyday. Where `<transport>` can be substituted by the variable `transport`. This means \n",
    "\n",
    "__`C` syntax__\n",
    "\n",
    "Since Python is derived from `C` language, they also borrowed their method to print strings as well. To print the transport, you will need to know what data type are you trying to print. For example: \n",
    "* `%s` means strings\n",
    "* `%d` means integers\n",
    "* `%f` means float\n",
    "After the string itself, you will need to add a `%` after the string and the variable names. \n",
    "```python\n",
    "print(\"I travel to school by %s. \" % transport)\n",
    "```\n",
    "\n",
    "If there are multiple variable names, you can put all variables to print inside a bracket, with respect to order. For example, \n",
    "```python\n",
    "transport1 = 'bus'\n",
    "transport2 = 'foot'\n",
    "print(\"I travel to school by %s and %s. \" % (transport1,transport2))\n",
    "```\n",
    "\n",
    "__`.format()`__\n",
    "\n",
    "The `.format()` method simply specifies the variables as the argument of the method itself. To use it, append the method after the string you would like to print. \n",
    "```python\n",
    "print(\"I travel to school by {}. \".format(transport))\n",
    "```\n",
    "\n",
    "As a side note, you can print the literal string inside the argument of `.format()`. This means \n",
    "```python\n",
    "print(\"I travel to school by {}. \".format('bus'))\n",
    "```\n",
    "is the same as the example. If there are multiple variable names, you can put all variables to print inside a bracket, with respect to order. For example, \n",
    "```python\n",
    "transport1 = 'bus'\n",
    "transport2 = 'foot'\n",
    "print(\"I travel to school by {} and {}. \".format(transport1,transport2))\n",
    "```\n",
    "\n",
    "__f-string__\n",
    "\n",
    "f-string is the most recent method to print using Python. To do so, you will need to add `f` in front of a string with the curly bracket to print the variable you need. The variable name must be inside the curly bracket. \n",
    "```python\n",
    "print(f\"I travel to school by {transport}. \")\n",
    "```\n",
    "\n",
    "You can try this example in below: "
   ]
  },
  {
   "cell_type": "code",
   "execution_count": 4,
   "metadata": {},
   "outputs": [
    {
     "name": "stdout",
     "output_type": "stream",
     "text": [
      "I travel to school by bus. \n",
      "I travel to school by bus. \n",
      "I travel to school by bus. \n"
     ]
    }
   ],
   "source": [
    "# Try me\n",
    "\n",
    "transport = \"bus\"\n",
    "\n",
    "print(\"I travel to school by %s. \" % transport)\n",
    "print(\"I travel to school by {}. \".format(transport))\n",
    "print(f\"I travel to school by {transport}. \")"
   ]
  },
  {
   "cell_type": "markdown",
   "metadata": {},
   "source": [
    "You can also print computed values using any of the methods above. "
   ]
  },
  {
   "cell_type": "markdown",
   "metadata": {
    "solution": "hidden",
    "solution_first": true
   },
   "source": [
    "__Exercise:__ Print the following sentence: \"22 + 33 * 3 = {}\" where the curly bracket is the result from the computation. Use either `.format()` or f-string. "
   ]
  },
  {
   "cell_type": "code",
   "execution_count": 5,
   "metadata": {
    "solution": "hidden"
   },
   "outputs": [
    {
     "name": "stdout",
     "output_type": "stream",
     "text": [
      "22 + 33 * 3 = 121\n",
      "22 + 33 * 3 = 121\n",
      "22 + 33 * 3 = 121\n"
     ]
    }
   ],
   "source": [
    "# Solution\n",
    "\n",
    "## % method\n",
    "print(\"22 + 33 * 3 = %d\" % (22 + 33 * 3))\n",
    "\n",
    "## Format\n",
    "print(\"22 + 33 * 3 = {}\".format(22 + 33 * 3))\n",
    "\n",
    "## f-string\n",
    "print(f\"22 + 33 * 3 = {22 + 33 * 3}\")"
   ]
  },
  {
   "cell_type": "code",
   "execution_count": 6,
   "metadata": {},
   "outputs": [],
   "source": [
    "# Your code\n"
   ]
  },
  {
   "cell_type": "markdown",
   "metadata": {},
   "source": [
    "### Formatting Types"
   ]
  },
  {
   "cell_type": "markdown",
   "metadata": {},
   "source": [
    "When we are trying to display numbers, we can format the numbers to make the output looks pretty. To format your variables, you will need to start the bracket by a colon. For example, you can display __2 decimal points__ by `{:.2f}` where \n",
    "* `.` means decimal points. \n",
    "* `2` for 2 decimal points. \n",
    "* `f` for float.\n",
    "\n",
    "|        | Explanation                                      | Example                   | Output   |\n",
    "|--------|--------------------------------------------------|---------------------------|----------|\n",
    "| `:d`   | Integers                                         | `'{:d}'.format(20)`       | $20$     |\n",
    "| `:3d`  | Integers occupy 3 digits                         | `'{:3d}'.format(20)`      | $ 20$    |\n",
    "| `:03d` | Integers occupy 3 digits and \"0\" trailing spaces | `'{:03d}'.format(20)`     | $020$    |\n",
    "| `:f`   | Float                                            | `'{:f}'.format(3.1415)`   | $3.1415$ |\n",
    "| `:.2f` | Float with 2 decimal places                      | `'{:.2f}'.format(3.1415)` | $3.14$   |\n",
    "| `:%`   | Percentage format                                | `'{:%}'.format(0.20)`       | $20\\%$   |"
   ]
  },
  {
   "cell_type": "markdown",
   "metadata": {
    "solution": "hidden",
    "solution_first": true
   },
   "source": [
    "__Exercise:__ Display the following sentence with the suitable format: \"From the survey of {} respondants, {} people specified they have observed stray cats on the streets. Most respondants have concerned their welfare, {} respondants have seen the cats looked '{}, {} and {}'... This is {} more than last year.\"\n",
    "\n",
    "Specification (with respect to brackets order of appearing):\n",
    "* The number of surveyed respondants. The value is stored in `respondants`.\n",
    "* The number of people have seen stray cats on the streets. The value is stored in `seen`.\n",
    "* $35\\%$ is the percentage of respondants are concerning. The value is stored in `concerned`. Format this variable with no decimal points. \n",
    "* The opinions are stored in `desc`.\n",
    "* The last value is stored in `growth` and should be shown in 2 decimal points. Use percentage format. "
   ]
  },
  {
   "cell_type": "code",
   "execution_count": 28,
   "metadata": {
    "solution": "hidden",
    "solution_first": true
   },
   "outputs": [
    {
     "name": "stdout",
     "output_type": "stream",
     "text": [
      "From the survey of 3600 respondants, 1200 people specified they have observed stray cats       on the streets. Most respondants have concerned their welfare, 35%       respondants have seen the cats looked 'weak', 'endangered' and 'futile'...      This is 0.33 more than last year.\n",
      "\n",
      "From the survey of 3600 respondants, 1200 people specified they have observed stray cats       on the streets. Most respondants have concerned their welfare, 35%       respondants have seen the cats looked 'weak, endangered and futile'... This is 0.33 more than last year.\n"
     ]
    }
   ],
   "source": [
    "# Solution\n",
    "respondants = 3600\n",
    "seen = 1200\n",
    "concerned = 0.35\n",
    "desc = ['weak','endangered','futile']\n",
    "growth = 0.328445\n",
    "\n",
    "## Format\n",
    "print(\"From the survey of {} respondants, {} people specified they have observed stray cats \\\n",
    "      on the streets. Most respondants have concerned their welfare, {:.0%} \\\n",
    "      respondants have seen the cats looked '{}', '{}' and '{}'...\\\n",
    "      This is {:.2f} more than last year.\".format(respondants, seen, concerned, desc[0], desc[1], desc[2], growth))\n",
    "\n",
    "print()\n",
    "## f-string\n",
    "print(f\"From the survey of {respondants} respondants, {seen} people specified they have observed stray cats \\\n",
    "      on the streets. Most respondants have concerned their welfare, {concerned:.0%} \\\n",
    "      respondants have seen the cats looked '{desc[0]}, {desc[1]} and {desc[2]}'... This is {growth:.2f} more than last year.\")"
   ]
  },
  {
   "cell_type": "code",
   "execution_count": null,
   "metadata": {},
   "outputs": [],
   "source": [
    "# Do not change the values \n",
    "respondants = 3600\n",
    "seen = 1200\n",
    "concerned = 0.35\n",
    "desc = ['weak','endangered','futile']\n",
    "growth = 0.328445\n",
    "\n",
    "# Format the string\n",
    "print(\"From the survey of {} respondants, {} people specified they have observed stray cats \\\n",
    "      on the streets. Most respondants have concerned their welfare, {} \\\n",
    "      respondants have seen the cats looked  '{}', '{}' and '{}'... This is {} more than last year.\")"
   ]
  },
  {
   "cell_type": "markdown",
   "metadata": {},
   "source": [
    "## Conclusion"
   ]
  },
  {
   "cell_type": "markdown",
   "metadata": {},
   "source": [
    "From today, we have looked at: \n",
    "* Data types in Python\n",
    "* The basic syntax of Python\n",
    "* How to use Jupyter and its advantages\n",
    "* Mathematical and logical operators in Python\n",
    "* Display standard output"
   ]
  },
  {
   "cell_type": "markdown",
   "metadata": {
    "collapsed": true
   },
   "source": [
    "## Further Reading\n",
    "\n",
    "* [String format from W3C School](https://www.w3schools.com/python/ref_string_format.asp)"
   ]
  }
 ],
 "metadata": {
  "kernelspec": {
   "display_name": "Python 3",
   "language": "python",
   "name": "python3"
  },
  "language_info": {
   "codemirror_mode": {
    "name": "ipython",
    "version": 3
   },
   "file_extension": ".py",
   "mimetype": "text/x-python",
   "name": "python",
   "nbconvert_exporter": "python",
   "pygments_lexer": "ipython3",
   "version": "3.7.3"
  },
  "latex_envs": {
   "LaTeX_envs_menu_present": true,
   "autoclose": true,
   "autocomplete": true,
   "bibliofile": "biblio.bib",
   "cite_by": "apalike",
   "current_citInitial": 1,
   "eqLabelWithNumbers": true,
   "eqNumInitial": 1,
   "hotkeys": {
    "equation": "Ctrl-E",
    "itemize": "Ctrl-I"
   },
   "labels_anchors": false,
   "latex_user_defs": false,
   "report_style_numbering": false,
   "user_envs_cfg": false
  }
 },
 "nbformat": 4,
 "nbformat_minor": 2
}
