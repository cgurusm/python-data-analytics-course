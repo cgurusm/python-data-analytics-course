{
 "cells": [
  {
   "cell_type": "markdown",
   "metadata": {},
   "source": [
    "# Week 0 - Setup"
   ]
  },
  {
   "cell_type": "markdown",
   "metadata": {},
   "source": [
    "This notebook was adapted from Zhiya Zuo's tutorial. The original notebook is loacted in [https://github.com/zhiyzuo/python-tutorial/blob/master/0-Installation-Environment-Setup.ipynb](https://github.com/zhiyzuo/python-tutorial/blob/master/0-Installation-Environment-Setup.ipynb). There are much changes to adapt the curriculum of this course. \n",
    "\n",
    "@author: Zhiya Zuo\n",
    "\n",
    "@email: zhiya-zuo@uiowa.edu"
   ]
  },
  {
   "cell_type": "markdown",
   "metadata": {},
   "source": [
    "* Suggested reading for __macOS__ users: [Mac OS X Dev Setup](https://github.com/nicolashery/mac-dev-setup)\n",
    "* For __Windows__ users, [this](https://github.com/BurntSushi/nfldb/wiki/Python-&-pip-Windows-installation) may be helpful."
   ]
  },
  {
   "cell_type": "markdown",
   "metadata": {},
   "source": [
    "## Install Python/ Anaconda"
   ]
  },
  {
   "cell_type": "markdown",
   "metadata": {},
   "source": [
    "### macOS"
   ]
  },
  {
   "cell_type": "markdown",
   "metadata": {},
   "source": [
    "Use [__Homebrew__](https://brew.sh/) to manage your packages. Open __terminal__ (you can use __spotlight search__ to find it) and run the following command:\n",
    "\n",
    "```bash\n",
    "~$ /usr/bin/ruby -e \"$(curl -fsSL https://raw.githubusercontent.com/Homebrew/install/master/install)\"\n",
    "~$ $ echo 'export PATH=\"/usr/local/bin:$PATH\"' >> ~/.bash_profile\n",
    "```"
   ]
  },
  {
   "cell_type": "markdown",
   "metadata": {},
   "source": [
    "The second line above is to export __brew__'s path to __.bash_profile__, which will be loaded every time you open __terminal__"
   ]
  },
  {
   "cell_type": "markdown",
   "metadata": {},
   "source": [
    "Install __Python3__\n",
    "```bash\n",
    "~$ brew install python3\n",
    "```"
   ]
  },
  {
   "cell_type": "markdown",
   "metadata": {},
   "source": [
    "### Windows"
   ]
  },
  {
   "cell_type": "markdown",
   "metadata": {},
   "source": [
    "In Windows, the default option to use Jupyter notebook is through [Anaconda](https://docs.continuum.io/anaconda/install/). Anaconda also manages Python and packages, without needing to mess with the path environments. Plus, __Anaconda__ installs Python along with many useful packages. Make sure you have installed the correct distribution, either x32 or x64. If your operating system is new (e.g. Windows 10) then x64 is your choice. "
   ]
  },
  {
   "cell_type": "markdown",
   "metadata": {},
   "source": [
    "## Install Anaconda"
   ]
  },
  {
   "cell_type": "markdown",
   "metadata": {},
   "source": [
    "Reference: \n",
    "1. http://jupyter.readthedocs.io/en/latest/index.html\n",
    "2. https://github.com/ipython-contrib/jupyter_contrib_nbextensions"
   ]
  },
  {
   "cell_type": "markdown",
   "metadata": {},
   "source": [
    "If you are using __Anaconda__, no need to install it."
   ]
  },
  {
   "cell_type": "markdown",
   "metadata": {},
   "source": [
    "Open __terminal__, then:\n",
    "```bash\n",
    "~$ pip3 install jupyter \n",
    "```"
   ]
  },
  {
   "cell_type": "markdown",
   "metadata": {},
   "source": [
    "### Jupyter NbExtensions"
   ]
  },
  {
   "cell_type": "markdown",
   "metadata": {},
   "source": [
    "In this course use __extensions__ in Jupyter notebook. The most important one is the exercise extension. When this extension has been enabled, the solutions are hidden and it will make your learning experience more fun!"
   ]
  },
  {
   "cell_type": "markdown",
   "metadata": {},
   "source": [
    "To install Jupyter NbExtensions, you will need to type the following in your terminal/ command prompt. \n",
    "\n",
    "```bash\n",
    "#use this if NOT using Anaconda\n",
    "~$ pip3 install ipython jupyter jupyter_contrib_nbextensions  \n",
    "```\n",
    "\n",
    "```bash\n",
    "#use this if using Anaconda\n",
    "~$ conda install -c conda-forge jupyter_contrib_nbextensions\n",
    "```"
   ]
  },
  {
   "cell_type": "markdown",
   "metadata": {},
   "source": [
    "Finally, do:\n",
    "```bash\n",
    "~$ jupyter contrib nbextension install --user\n",
    "```"
   ]
  },
  {
   "cell_type": "markdown",
   "metadata": {},
   "source": [
    "These notebook extensions give us a lot of useful tools to make coding easier! Let's try some of them"
   ]
  },
  {
   "cell_type": "markdown",
   "metadata": {},
   "source": [
    "#### Run __Jupyter Notebook__"
   ]
  },
  {
   "cell_type": "markdown",
   "metadata": {},
   "source": [
    "Now we can run __Jupyter Notebook__:"
   ]
  },
  {
   "cell_type": "markdown",
   "metadata": {},
   "source": [
    "In terminal, do:\n",
    "```bash\n",
    "# default port\n",
    "~$ jupyter notebook --port=8888 \n",
    "```"
   ]
  },
  {
   "cell_type": "markdown",
   "metadata": {},
   "source": [
    "Here, `--port` specifies which port we want to use. If it is taken, it will use the next available one (maybe `8889`. We can open a new terminal window to run `jupyter notebook --port=8888` and check the output."
   ]
  },
  {
   "cell_type": "markdown",
   "metadata": {},
   "source": [
    "After that, make sure your extensions are activated. You can see this in the tab from the Jupyter Notebook. "
   ]
  },
  {
   "cell_type": "code",
   "execution_count": 1,
   "metadata": {},
   "outputs": [
    {
     "data": {
      "image/png": "[encoded data removed]",
      "text/plain": [
       "<IPython.core.display.Image object>"
      ]
     },
     "execution_count": 1,
     "metadata": {},
     "output_type": "execute_result"
    }
   ],
   "source": [
    "from IPython.display import Image\n",
    "Image(\"fig/ext.png\")"
   ]
  },
  {
   "cell_type": "markdown",
   "metadata": {},
   "source": [
    "In this course, we will need the following extensions activated: \n",
    "* (some) LaTeX environments for Jupyter\n",
    "* Exercise\n",
    "\n",
    "Just click on the extension, then click on 'Enable' at below. "
   ]
  },
  {
   "cell_type": "markdown",
   "metadata": {},
   "source": [
    "### Install Python Package"
   ]
  },
  {
   "cell_type": "markdown",
   "metadata": {},
   "source": [
    "To install a custom python package, you should check the instructions from the documentation website. Often packages that does not come from repository will involve more complicated install procedures (i.e. fork from the Github repository). Most packages would be easy as one command line, which involves the `pip` executable. A sample command would be \n",
    "```bash\n",
    "pip install numpy\n",
    "```"
   ]
  },
  {
   "cell_type": "markdown",
   "metadata": {},
   "source": [
    "If you have a Windows 10 (or above), keep in mind that Anaconda has its separate command prompt. So make sure you use the above command in the Anaconda Prompt. "
   ]
  },
  {
   "cell_type": "markdown",
   "metadata": {},
   "source": [
    "### Markdown"
   ]
  },
  {
   "cell_type": "markdown",
   "metadata": {},
   "source": [
    "All the materials above are written in markdown. We can switch the content type in each cell in the menu bar. Different key bindings have different shortcuts. We can use ___Help___ menu to find the corresponding shortcut."
   ]
  },
  {
   "cell_type": "markdown",
   "metadata": {},
   "source": [
    "Markdown is a lightweight markup language to format text. It is easy to use and contains formatting tools for most of the highlighting that we wants. See [here](https://github.com/adam-p/markdown-here/wiki/Markdown-Cheatsheet) for more details."
   ]
  },
  {
   "cell_type": "markdown",
   "metadata": {},
   "source": [
    "By combining the use of markdown and code as well as results really help logging one's research a lot easier."
   ]
  },
  {
   "cell_type": "markdown",
   "metadata": {},
   "source": [
    "For example, see below"
   ]
  },
  {
   "cell_type": "markdown",
   "metadata": {},
   "source": [
    "In the following, I am going to calculate something...\n",
    "$$x = 1+2.6^2-15$$"
   ]
  },
  {
   "cell_type": "code",
   "execution_count": 1,
   "metadata": {
    "ExecuteTime": {
     "end_time": "2018-09-19T23:31:34.527895Z",
     "start_time": "2018-09-19T23:31:34.499493Z"
    }
   },
   "outputs": [
    {
     "data": {
      "text/plain": [
       "-7.239999999999999"
      ]
     },
     "execution_count": 1,
     "metadata": {},
     "output_type": "execute_result"
    }
   ],
   "source": [
    "1+ 2.6**2 - 15"
   ]
  },
  {
   "cell_type": "markdown",
   "metadata": {},
   "source": [
    "As you can see, we first write down what we want to do in markdown. We can even use latex style formula to create equations! The binding of code and output also makes it easier to communicate with collaborators or just debug by oneself."
   ]
  },
  {
   "cell_type": "markdown",
   "metadata": {},
   "source": [
    "## Course Structure"
   ]
  },
  {
   "cell_type": "markdown",
   "metadata": {},
   "source": [
    "The aim of this course is to: \n",
    "* Understand the basic syntax of Python\n",
    "* Demonstrate how to analyse data using Python\n",
    "* Understand and apply the theory of statistics into real life applications\n",
    "* Plan and commit a rigourous data analytics project"
   ]
  },
  {
   "cell_type": "markdown",
   "metadata": {},
   "source": [
    "### Syllabus\n",
    "\n",
    "* __Week 0__ (We are here)\n",
    "    * Setup Anaconda and Jupyter\n",
    "    * Understand the aim of the course\n",
    "* __Week 1__ (We are here)\n",
    "    * Data types\n",
    "    * What is Python\n",
    "    * Variables\n",
    "    * Python operators\n",
    "    * Desk check\n",
    "* Week 2\n",
    "    * If...else\n",
    "    * `while`\n",
    "    * `for`\n",
    "    * Flow charts"
   ]
  },
  {
   "cell_type": "code",
   "execution_count": null,
   "metadata": {},
   "outputs": [],
   "source": []
  }
 ],
 "metadata": {
  "kernelspec": {
   "display_name": "Python 3",
   "language": "python",
   "name": "python3"
  },
  "language_info": {
   "codemirror_mode": {
    "name": "ipython",
    "version": 3
   },
   "file_extension": ".py",
   "mimetype": "text/x-python",
   "name": "python",
   "nbconvert_exporter": "python",
   "pygments_lexer": "ipython3",
   "version": "3.7.3"
  },
  "latex_envs": {
   "LaTeX_envs_menu_present": true,
   "autoclose": true,
   "autocomplete": true,
   "bibliofile": "biblio.bib",
   "cite_by": "apalike",
   "current_citInitial": 1,
   "eqLabelWithNumbers": true,
   "eqNumInitial": 1,
   "hotkeys": {
    "equation": "Ctrl-E",
    "itemize": "Ctrl-I"
   },
   "labels_anchors": false,
   "latex_user_defs": false,
   "report_style_numbering": false,
   "user_envs_cfg": false
  },
  "toc": {
   "base_numbering": 1,
   "nav_menu": {},
   "number_sections": true,
   "sideBar": true,
   "skip_h1_title": false,
   "title_cell": "Table of Contents",
   "title_sidebar": "Contents",
   "toc_cell": false,
   "toc_position": {},
   "toc_section_display": "block",
   "toc_window_display": true
  },
  "varInspector": {
   "cols": {
    "lenName": 16,
    "lenType": 16,
    "lenVar": 40
   },
   "kernels_config": {
    "python": {
     "delete_cmd_postfix": "",
     "delete_cmd_prefix": "del ",
     "library": "var_list.py",
     "varRefreshCmd": "print(var_dic_list())"
    },
    "r": {
     "delete_cmd_postfix": ") ",
     "delete_cmd_prefix": "rm(",
     "library": "var_list.r",
     "varRefreshCmd": "cat(var_dic_list()) "
    }
   },
   "types_to_exclude": [
    "module",
    "function",
    "builtin_function_or_method",
    "instance",
    "_Feature"
   ],
   "window_display": false
  }
 },
 "nbformat": 4,
 "nbformat_minor": 2
}
