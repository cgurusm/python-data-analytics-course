{
 "cells": [
  {
   "cell_type": "markdown",
   "metadata": {},
   "source": [
    "# Week 8 - Statistics with Python"
   ]
  },
  {
   "cell_type": "markdown",
   "metadata": {},
   "source": [
    "## Drill"
   ]
  },
  {
   "cell_type": "markdown",
   "metadata": {
    "solution": "hidden",
    "solution_first": true
   },
   "source": [
    "__Exercise:__ In the following, print out the results (__in 2 decimal points__) using the `.format()` method or f-string. The computation is given to you."
   ]
  },
  {
   "cell_type": "code",
   "execution_count": 15,
   "metadata": {
    "solution": "hidden"
   },
   "outputs": [
    {
     "name": "stdout",
     "output_type": "stream",
     "text": [
      "2.30\n",
      "2.30\n"
     ]
    }
   ],
   "source": [
    "# Solution\n",
    "def sum(ls): \n",
    "    i = 0\n",
    "    s = 0\n",
    "    while i < len(ls): \n",
    "        s += ls[i]\n",
    "        i += 1\n",
    "    return s\n",
    "data01 = [0, 1, 4, 1, 2, 5, 2, 3, 4, 1]\n",
    "avg = sum(data01)/len(data01)\n",
    "\n",
    "print('{0:.2f}'.format(avg))\n",
    "print(f'{avg:.2f}')"
   ]
  },
  {
   "cell_type": "code",
   "execution_count": null,
   "metadata": {},
   "outputs": [],
   "source": [
    "def sum(ls): \n",
    "    i = 0\n",
    "    s = 0\n",
    "    while i < len(ls): \n",
    "        s += ls[i]\n",
    "        i += 1\n",
    "    return s\n",
    "data01 = [0, 1, 4, 1, 2, 5, 2, 3, 4, 1]\n",
    "avg = sum(data01)/len(data01)\n",
    "\n",
    "# Your code below\n"
   ]
  },
  {
   "cell_type": "markdown",
   "metadata": {
    "solution": "hidden",
    "solution_first": true
   },
   "source": [
    "__Exercise:__ Write a code that will find the sum of the square of first 50 natural numbers. "
   ]
  },
  {
   "cell_type": "code",
   "execution_count": 1,
   "metadata": {
    "solution": "hidden"
   },
   "outputs": [
    {
     "name": "stdout",
     "output_type": "stream",
     "text": [
      "40425\n"
     ]
    }
   ],
   "source": [
    "# Solution\n",
    "sum = 0\n",
    "for i in range(50): \n",
    "    sum += i ** 2\n",
    "print(sum)"
   ]
  },
  {
   "cell_type": "code",
   "execution_count": null,
   "metadata": {},
   "outputs": [],
   "source": [
    "# Your code below\n"
   ]
  },
  {
   "cell_type": "markdown",
   "metadata": {
    "solution": "hidden",
    "solution_first": true
   },
   "source": [
    "__Exercise:__ Write a class `Fruit` for different types of fruits. A fruit should have the following attributes: \n",
    "* `colour` - A string that describes the colour of the fruit\n",
    "* `weight` - A float. If the user uses a wrong data type, print the message `'Invalid weight. Set to 0.'` and set the weight to $0$. \n",
    "\n",
    "Also write a method called `.get_colour()` that will return the colour of the fruit, and a method `set_weight()` that will set the weight of the fruit. "
   ]
  },
  {
   "cell_type": "code",
   "execution_count": null,
   "metadata": {
    "solution": "hidden"
   },
   "outputs": [],
   "source": [
    "# Solution\n",
    "class Fruit: \n",
    "    def __init__(self,colour,weight): \n",
    "        self.colour = colour\n",
    "        try: \n",
    "            self.weight = int(weight)\n",
    "        except ValueError: \n",
    "            print('Invalid weight. Set to 0.')\n",
    "            self.weight = 0\n",
    "            pass  # To continue from the error\n",
    "        \n",
    "    def get_colour(self): \n",
    "        return self.colour \n",
    "    \n",
    "    def set_weight(self,weight): \n",
    "        try: \n",
    "            self.weight = int(weight)\n",
    "        except ValueError: \n",
    "            print('Invalid weight. Set to 0.')\n",
    "            self.weight = 0\n",
    "            pass  # To continue from the error"
   ]
  },
  {
   "cell_type": "code",
   "execution_count": null,
   "metadata": {},
   "outputs": [],
   "source": [
    "# Your code below\n",
    "class Fruit: \n",
    "    def __init__():\n",
    "        pass\n",
    "\n",
    "    def get_colour(...):\n",
    "        pass \n",
    "    \n",
    "    def set_weight(...): \n",
    "        pass"
   ]
  },
  {
   "cell_type": "markdown",
   "metadata": {},
   "source": [
    "## Probability"
   ]
  },
  {
   "cell_type": "markdown",
   "metadata": {},
   "source": [
    "The study of statistics means we look at how probable of multiple events and explain them. For example, to see how happy is the person, we count how often the user include positive words in their scripts. This is interpreted as the probability of the user expresses positive words. \n",
    "\n",
    "In interpreting probability, we can map the values into language. The table below interprets what different probability values mean. \n",
    "\n",
    "| __Event__ | Impossible | Unlikely  | 50-50  |        Likely            | Certain |\n",
    "|-----------|------------|-----------|--------|--------------------------|---------|\n",
    "|    $p$    |  0         | < 50%     | 50\\%   |  > 50% and < 100%        | 100%    |\n",
    "\n",
    "Probability can range between $0\\%$ to $100\\%$. While the earlier means it will never happen, the latter means it will certainly happen. "
   ]
  },
  {
   "cell_type": "markdown",
   "metadata": {},
   "source": [
    "In programming we convert probability values into decimals. For example, while $0\\%$ is $0$, $100\\%$ becomes $1$. You can think about if you have $100$ eggs and it is certain that any eggs you touched will break. You will can multiply $100$ with $1$ to explain how many eggs you expect to break. In the context of these exercises, we will use these decimals to represent probabilities. "
   ]
  },
  {
   "cell_type": "markdown",
   "metadata": {
    "solution": "hidden",
    "solution_first": true
   },
   "source": [
    "__Exercise:__ Write a code that will return how probable the event is. Your code asks what the event is and then its probability. Finally the code will print `'The probability of {} to happen is {}. '` where \n",
    "* First bracket is the event. \n",
    "* Second bracket is the description of the probability (e.g. impossible, 50-50 et cetra. )\n",
    "\n",
    "__Sample Output__\n",
    "```\n",
    "Event: sleeping\n",
    "p: 20\n",
    "The probability of sleeping to happen is unlikely.\n",
    "```"
   ]
  },
  {
   "cell_type": "code",
   "execution_count": null,
   "metadata": {
    "solution": "hidden"
   },
   "outputs": [],
   "source": [
    "# Solution\n",
    "event = input('Event: ')\n",
    "try: \n",
    "    p = float(input('p: '))\n",
    "    if p > 1 or p < 0: \n",
    "        raise ValueError\n",
    "except ValueError: \n",
    "    print('Invalid format for probability. ')\n",
    "\n",
    "# Condition flow\n",
    "if p == 1: \n",
    "    keyword = 'certain'\n",
    "elif p == 0: \n",
    "    keyword = 'impossible'\n",
    "elif p == 0.5: \n",
    "    keyword = '50-50'\n",
    "elif p > 0.5: \n",
    "    keyword = 'likely'\n",
    "elif p < 0.5: \n",
    "    keyword = 'unlikely'\n",
    "    \n",
    "print('The probability of {} to happen is {}. '.format(event,keyword))"
   ]
  },
  {
   "cell_type": "code",
   "execution_count": null,
   "metadata": {},
   "outputs": [],
   "source": [
    "# Your code below\n"
   ]
  },
  {
   "cell_type": "markdown",
   "metadata": {},
   "source": [
    "### Monte Carlo Simulation (Optional)"
   ]
  },
  {
   "cell_type": "markdown",
   "metadata": {},
   "source": [
    "The following code prints any random number less than $10$. \n",
    "\n",
    "```python\n",
    "import random\n",
    "print(random.randint(10))\n",
    "```"
   ]
  },
  {
   "cell_type": "markdown",
   "metadata": {
    "solution": "hidden",
    "solution_first": true
   },
   "source": [
    "__Exercise:__ Write a code that will print the statement `'The probability of me sleeping early tonight is <probability>.'` Where `probability` is a random probabilistic value. "
   ]
  },
  {
   "cell_type": "code",
   "execution_count": null,
   "metadata": {
    "solution": "hidden"
   },
   "outputs": [],
   "source": [
    "# Solution\n",
    "import random \n",
    "p = random.randint(10)/10 # Does not have to be 10. \n",
    "print('The probability of me sleeping early tonight is is {}. '.format(p))"
   ]
  },
  {
   "cell_type": "code",
   "execution_count": null,
   "metadata": {},
   "outputs": [],
   "source": [
    "import random\n",
    "# Your code below \n"
   ]
  },
  {
   "cell_type": "markdown",
   "metadata": {},
   "source": [
    "## Random Variable"
   ]
  },
  {
   "cell_type": "markdown",
   "metadata": {},
   "source": [
    "In mathematics, we assign a probability value to each events. So how can we write this mathematically? By convention we map the events into __random variables__. This is like in functions we have a set of $x$ values and the $y$ axis are the probability values. This is useful because the events are modelled in ordered fashion. "
   ]
  },
  {
   "cell_type": "code",
   "execution_count": 1,
   "metadata": {},
   "outputs": [
    {
     "data": {
      "image/png": "[encoded data removed]",
      "text/plain": [
       "<IPython.core.display.Image object>"
      ]
     },
     "execution_count": 1,
     "metadata": {},
     "output_type": "execute_result"
    }
   ],
   "source": [
    "from IPython.display import Image\n",
    "Image(\"fig/RandomVariable.png\")"
   ]
  },
  {
   "cell_type": "markdown",
   "metadata": {},
   "source": [
    "### What can be a Random Variable? (Optional)"
   ]
  },
  {
   "cell_type": "markdown",
   "metadata": {},
   "source": [
    "Random variables represent the different options (or events), so it entails a value of probability. So how could we specify if a random variable when modelling real events? One suggest is the random variable must pass the __clarity test__. Which is \n",
    "\n",
    "_Imagine you are telling friend something and ask to rephrase back to you. Will your friend ended up saying the same meaning and clearly?_\n",
    "\n",
    "For example: \n",
    "* Defining a student performing _good_ or _bad_ is not a good choice. What if a student has $69$ marks? Or $50$ marks? Your friend(s) will look at you and interpret the marks with a thought. \n",
    "* Defining smoking history with variables _yes_ or _no_ is not a good choice either. Obviously if someone has smoked before we can categorise to _yes_. Does the last smoke 20 years ago count? Often in epidemic modelling, this is not as important as last smoke from yesterday. It also does not specify if it was cigarette or cigar or others. "
   ]
  },
  {
   "cell_type": "markdown",
   "metadata": {},
   "source": [
    "Examples of random variables are _male_ or _female_. Age is another common example. "
   ]
  },
  {
   "cell_type": "markdown",
   "metadata": {
    "solution": "hidden",
    "solution_first": true
   },
   "source": [
    "__Exercise:__ Which of the following are random variables?\n",
    "* Age in bins (e.g. 10-15, 16-20 et cetera.)\n",
    "* Dice rolled\n",
    "* Sum of 2 dice rolled\n",
    "* Mass of a gas cluster"
   ]
  },
  {
   "cell_type": "markdown",
   "metadata": {
    "solution": "hidden"
   },
   "source": [
    "Only mass of gas cluster is not a valid random variable. A gas cluster may contain different compositions and it was not specified here. "
   ]
  },
  {
   "cell_type": "markdown",
   "metadata": {},
   "source": [
    "## Pdf/ Cdf"
   ]
  },
  {
   "cell_type": "markdown",
   "metadata": {},
   "source": [
    "How do we put the probabilities of events together? We order the probabilities with their random variables. This becomes a probability function of random variables, or simply __probability density function__ (pdf). It is called probability mass function if the random variables are discrete numbers (integers). "
   ]
  },
  {
   "cell_type": "markdown",
   "metadata": {},
   "source": [
    "### Common Pdf"
   ]
  },
  {
   "cell_type": "markdown",
   "metadata": {},
   "source": [
    "The common pdfs are: \n",
    "* Uniform distribution\n",
    "* Binomial distribution\n",
    "* Poisson distribution\n",
    "* Chi-squared distribution\n",
    "* Normal distribution"
   ]
  },
  {
   "cell_type": "markdown",
   "metadata": {},
   "source": [
    "Uniform distribution means all events occured with the same probability. \n",
    "\n",
    "Binomial distribution $\\operatorname{Bin}(n,\\:p)$ models numbers of response of \"yes\" or \"no\" and how probable they appear. The parameters are: \n",
    "* $n$ is the total number of responses. \n",
    "* $p$ is the probability of \"yes\" (for example). \n",
    "The mean in binomial distribution is $np$. \n",
    "\n",
    "Poisson distribution $\\operatorname{Pois}(\\lambda)$ predicts the probability of number of events occured in a day. For example, how many pizzas sold on a typical day. $\\lambda$ is the expected waiting time or number of events occured. \n",
    "\n",
    "Chi-squared distribution $\\chi(k)$ studies if the observations are dependent or not. \n",
    "\n",
    "Normal distribution $N(\\mu,\\:\\sigma^2)$ is __the most important distribution__, because central limit theorem states that when we have enough data then everything will distributed with normal distribution. he parameters are: \n",
    "* $\\mu$ is the mean (and median and mode). \n",
    "* $\\sigma$ is the standard deviation. "
   ]
  },
  {
   "cell_type": "markdown",
   "metadata": {},
   "source": [
    "If you want to see what does normal distribution looks like? Try running code below and see how it looks like. You can change the mean (second argument in `stats.norm.pdf()`) and standard deviation (third argument). What does it changes? "
   ]
  },
  {
   "cell_type": "code",
   "execution_count": 1,
   "metadata": {},
   "outputs": [
    {
     "data": {
      "image/png": "[encoded data removed]",
      "text/plain": [
       "<Figure size 432x288 with 1 Axes>"
      ]
     },
     "metadata": {
      "needs_background": "light"
     },
     "output_type": "display_data"
    }
   ],
   "source": [
    "# Try me\n",
    "from scipy import stats\n",
    "import numpy as np\n",
    "from matplotlib import pyplot as plt\n",
    "%matplotlib inline\n",
    "\n",
    "x = np.linspace(-2,2,100)\n",
    "rv01 = stats.norm.pdf(x, 0, 1)\n",
    "plt.plot(x, rv01)\n",
    "plt.xlim(-2, 2)\n",
    "plt.show()"
   ]
  },
  {
   "cell_type": "markdown",
   "metadata": {
    "solution": "hidden"
   },
   "source": [
    "## Estimate Parameters (Optional)"
   ]
  },
  {
   "cell_type": "markdown",
   "metadata": {},
   "source": [
    "## Descriptive Statistics"
   ]
  },
  {
   "cell_type": "markdown",
   "metadata": {},
   "source": [
    "The meaning of descriptive statistics to summarise past data for decision making. It can be a numerical summary or visualisation. "
   ]
  },
  {
   "cell_type": "markdown",
   "metadata": {},
   "source": [
    "### Qualitative Statistics"
   ]
  },
  {
   "cell_type": "markdown",
   "metadata": {},
   "source": [
    "The aim of qualitative statistics is to use numbers to describe the series of data. For example, \n",
    "* mean\n",
    "* median\n",
    "* mode \n",
    "describes a representative point within the dataset. While \n",
    "* interquatile range\n",
    "* standard deviation (or variance)\n",
    "describes how varied are the observed data. "
   ]
  },
  {
   "cell_type": "markdown",
   "metadata": {},
   "source": [
    "### Graphical Summary"
   ]
  },
  {
   "cell_type": "markdown",
   "metadata": {},
   "source": [
    "### Linear Transformation of Data"
   ]
  },
  {
   "cell_type": "markdown",
   "metadata": {},
   "source": [
    "Later when you use data analytics, you will often have times to transform data before analysing them. For example, when you have data of different areas of a house. You may want to sum the total area of the house for analysis, since the total area of the house is more relevant to, for example, its house price. \n",
    "\n",
    "Linear transformation means if we add a constant, or scale them by a constant. By adding different columns of data also part of linear transformation (unless if it not row by row). "
   ]
  },
  {
   "cell_type": "markdown",
   "metadata": {},
   "source": [
    "You may find this helpful next week (or in week 10). The mean and standard deviation of linearly transformed data is \n",
    "\\[\n",
    "\\operatorname{E}(aX\\;+\\;b)\\;=\\;a\\operatorname{E}(X)\\;+\\;b\n",
    "\\]\n",
    "The mean of the transformed data is simply done by transforming the mean value as the same. For example, degrees of Celsius to Fahrenheit is defined by $F\\;=\\;\\frac{9}{5}C\\;+\\;32$. Let's say we have the measured temperature of several chemical samples and trying to find its mean temperature. If the mean temperature in degrees of Celsius is $11^\\circ\\mathrm{C}$, then the mean temperature in Fahrenheit is $\\frac{9}{5}\\;\\times\\;11\\;+\\;32\\;=\\;51.8^\\circ\\mathrm{F}$. \n",
    "\n",
    "The variance of the linearly transformed data is \n",
    "\\[\n",
    "\\operatorname{Var}(aX\\;+\\;b)\\;=\\;a^2\\operatorname{Var}(X)\n",
    "\\]\n",
    "Where the additional constant has no use in the transformation. "
   ]
  },
  {
   "cell_type": "markdown",
   "metadata": {},
   "source": [
    "## Experimental Design (Optional)"
   ]
  },
  {
   "cell_type": "markdown",
   "metadata": {},
   "source": [
    "## Hypothesis Testing"
   ]
  },
  {
   "cell_type": "markdown",
   "metadata": {},
   "source": [
    "### Proportion Testing"
   ]
  },
  {
   "cell_type": "markdown",
   "metadata": {},
   "source": [
    "__Hypothesis for Two-tailed test__\n",
    "\n",
    "$H_0:\\:p\\;=\\;p\\text{*} $\n",
    "\n",
    "$H_A:\\:p\\;\\neq\\;p\\text{*}$"
   ]
  },
  {
   "cell_type": "markdown",
   "metadata": {},
   "source": [
    "__Hypothesis for Upper-tailed test__\n",
    "\n",
    "$H_0:\\:p\\;=\\;p\\text{*} $\n",
    "\n",
    "$H_A:\\:p\\;>\\;p\\text{*}$"
   ]
  },
  {
   "cell_type": "markdown",
   "metadata": {},
   "source": [
    "__Hypothesis for Lower-tailed test__\n",
    "\n",
    "$H_0:\\:p\\;=\\;p\\text{*} $\n",
    "\n",
    "$H_A:\\:p\\;<\\;p\\text{*}$"
   ]
  },
  {
   "cell_type": "markdown",
   "metadata": {},
   "source": [
    "### t-test"
   ]
  },
  {
   "cell_type": "markdown",
   "metadata": {},
   "source": [
    "__Hypothesis for Lower-tailed test__\n",
    "\n",
    "$H_0:\\:p\\;=\\;p\\text{*} $\n",
    "\n",
    "$H_A:\\:p\\;\\neq\\;p\\text{*}$  (Upper tail)\n",
    "\n",
    "$H_A:\\:p\\;<\\;p\\text{*}$ (Lower tail)\n",
    "\n",
    "$H_A:\\:p\\;>\\;p\\text{*}$ (Upper tail)"
   ]
  },
  {
   "cell_type": "markdown",
   "metadata": {},
   "source": [
    "### Chi-test"
   ]
  },
  {
   "cell_type": "markdown",
   "metadata": {},
   "source": [
    "## Linear Regression"
   ]
  },
  {
   "cell_type": "markdown",
   "metadata": {},
   "source": [
    "## Multiple Regression"
   ]
  },
  {
   "cell_type": "markdown",
   "metadata": {},
   "source": [
    "## Model Selection"
   ]
  },
  {
   "cell_type": "markdown",
   "metadata": {},
   "source": [
    "## Categorical Regression (Optional)"
   ]
  },
  {
   "cell_type": "markdown",
   "metadata": {},
   "source": [
    "## Logistic Regression"
   ]
  },
  {
   "cell_type": "markdown",
   "metadata": {},
   "source": [
    "## Bayesian Statistics (Optional)"
   ]
  },
  {
   "cell_type": "markdown",
   "metadata": {},
   "source": [
    "## Information Theory (Optional)"
   ]
  },
  {
   "cell_type": "markdown",
   "metadata": {},
   "source": [
    "### Entropy (Optional)"
   ]
  },
  {
   "cell_type": "markdown",
   "metadata": {},
   "source": [
    "### Estimating Entropy (Optional)"
   ]
  },
  {
   "cell_type": "markdown",
   "metadata": {},
   "source": [
    "## Conclusion"
   ]
  }
 ],
 "metadata": {
  "kernelspec": {
   "display_name": "Python 3",
   "language": "python",
   "name": "python3"
  },
  "language_info": {
   "codemirror_mode": {
    "name": "ipython",
    "version": 3
   },
   "file_extension": ".py",
   "mimetype": "text/x-python",
   "name": "python",
   "nbconvert_exporter": "python",
   "pygments_lexer": "ipython3",
   "version": "3.7.4"
  },
  "latex_envs": {
   "LaTeX_envs_menu_present": true,
   "autoclose": true,
   "autocomplete": true,
   "bibliofile": "biblio.bib",
   "cite_by": "apalike",
   "current_citInitial": 1,
   "eqLabelWithNumbers": true,
   "eqNumInitial": 1,
   "hotkeys": {
    "equation": "Ctrl-E",
    "itemize": "Ctrl-I"
   },
   "labels_anchors": false,
   "latex_user_defs": false,
   "report_style_numbering": false,
   "user_envs_cfg": false
  }
 },
 "nbformat": 4,
 "nbformat_minor": 2
}
