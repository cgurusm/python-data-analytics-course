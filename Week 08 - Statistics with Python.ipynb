{
 "cells": [
  {
   "cell_type": "markdown",
   "metadata": {},
   "source": [
    "# Week 8 - Statistics with Python"
   ]
  },
  {
   "cell_type": "markdown",
   "metadata": {},
   "source": [
    "## Drill"
   ]
  },
  {
   "cell_type": "markdown",
   "metadata": {
    "solution": "hidden",
    "solution_first": true
   },
   "source": [
    "__Exercise:__ In the following, print out the results (__in 2 decimal points__) using the `.format()` method or f-string. The computation is given to you."
   ]
  },
  {
   "cell_type": "code",
   "execution_count": 15,
   "metadata": {
    "solution": "hidden"
   },
   "outputs": [
    {
     "name": "stdout",
     "output_type": "stream",
     "text": [
      "2.30\n",
      "2.30\n"
     ]
    }
   ],
   "source": [
    "# Solution\n",
    "def sum(ls): \n",
    "    i = 0\n",
    "    s = 0\n",
    "    while i < len(ls): \n",
    "        s += ls[i]\n",
    "        i += 1\n",
    "    return s\n",
    "data01 = [0, 1, 4, 1, 2, 5, 2, 3, 4, 1]\n",
    "avg = sum(data01)/len(data01)\n",
    "\n",
    "print('{0:.2f}'.format(avg))\n",
    "print(f'{avg:.2f}')"
   ]
  },
  {
   "cell_type": "code",
   "execution_count": null,
   "metadata": {},
   "outputs": [],
   "source": [
    "def sum(ls): \n",
    "    i = 0\n",
    "    s = 0\n",
    "    while i < len(ls): \n",
    "        s += ls[i]\n",
    "        i += 1\n",
    "    return s\n",
    "data01 = [0, 1, 4, 1, 2, 5, 2, 3, 4, 1]\n",
    "avg = sum(data01)/len(data01)\n",
    "\n",
    "# Your code below\n"
   ]
  },
  {
   "cell_type": "markdown",
   "metadata": {
    "solution": "hidden",
    "solution_first": true
   },
   "source": [
    "__Exercise:__ Write a code that will find the sum of the square of first 50 natural numbers. "
   ]
  },
  {
   "cell_type": "code",
   "execution_count": 1,
   "metadata": {
    "solution": "hidden"
   },
   "outputs": [
    {
     "name": "stdout",
     "output_type": "stream",
     "text": [
      "40425\n"
     ]
    }
   ],
   "source": [
    "# Solution\n",
    "sum = 0\n",
    "for i in range(50): \n",
    "    sum += i ** 2\n",
    "print(sum)"
   ]
  },
  {
   "cell_type": "code",
   "execution_count": null,
   "metadata": {},
   "outputs": [],
   "source": [
    "# Your code below\n"
   ]
  },
  {
   "cell_type": "markdown",
   "metadata": {
    "solution": "hidden",
    "solution_first": true
   },
   "source": [
    "__Exercise:__ Write a class `Fruit` for different types of fruits. A fruit should have the following attributes: \n",
    "* `colour` - A string that describes the colour of the fruit\n",
    "* `weight` - A float. If the user uses a wrong data type, print the message `'Invalid weight. Set to 0.'` and set the weight to $0$. \n",
    "\n",
    "Also write a method called `.get_colour()` that will return the colour of the fruit, and a method `set_weight()` that will set the weight of the fruit. "
   ]
  },
  {
   "cell_type": "code",
   "execution_count": null,
   "metadata": {
    "solution": "hidden"
   },
   "outputs": [],
   "source": [
    "# Solution\n",
    "class Fruit: \n",
    "    def __init__(self,colour,weight): \n",
    "        self.colour = colour\n",
    "        try: \n",
    "            self.weight = int(weight)\n",
    "        except ValueError: \n",
    "            print('Invalid weight. Set to 0.')\n",
    "            self.weight = 0\n",
    "            pass  # To continue from the error\n",
    "        \n",
    "    def get_colour(self): \n",
    "        return self.colour \n",
    "    \n",
    "    def set_weight(self,weight): \n",
    "        try: \n",
    "            self.weight = int(weight)\n",
    "        except ValueError: \n",
    "            print('Invalid weight. Set to 0.')\n",
    "            self.weight = 0\n",
    "            pass  # To continue from the error"
   ]
  },
  {
   "cell_type": "code",
   "execution_count": null,
   "metadata": {},
   "outputs": [],
   "source": [
    "# Your code below\n",
    "class Fruit: \n",
    "    def __init__():\n",
    "        pass\n",
    "\n",
    "    def get_colour(...):\n",
    "        pass \n",
    "    \n",
    "    def set_weight(...): \n",
    "        pass"
   ]
  },
  {
   "cell_type": "markdown",
   "metadata": {},
   "source": [
    "## Probability"
   ]
  },
  {
   "cell_type": "markdown",
   "metadata": {},
   "source": [
    "The study of statistics means we look at how probable of multiple events and explain them. For example, to see how happy is the person, we count how often the user include positive words in their scripts. This is interpreted as the probability of the user expresses positive words. \n",
    "\n",
    "In interpreting probability, we can map the values into language. The table below interprets what different probability values mean. \n",
    "\n",
    "| __Event__ | Impossible | Unlikely  | 50-50  |        Likely            | Certain |\n",
    "|-----------|------------|-----------|--------|--------------------------|---------|\n",
    "|    $p$    |  0         | < 50%     | 50\\%   |  > 50% and < 100%        | 100%    |\n",
    "\n",
    "Probability can range between $0\\%$ to $100\\%$. While the earlier means it will never happen, the latter means it will certainly happen. "
   ]
  },
  {
   "cell_type": "markdown",
   "metadata": {},
   "source": [
    "In programming we convert probability values into decimals. For example, while $0\\%$ is $0$, $100\\%$ becomes $1$. You can think about if you have $100$ eggs and it is certain that any eggs you touched will break. You will can multiply $100$ with $1$ to explain how many eggs you expect to break. In the context of these exercises, we will use these decimals to represent probabilities. "
   ]
  },
  {
   "cell_type": "markdown",
   "metadata": {
    "solution": "hidden",
    "solution_first": true
   },
   "source": [
    "__Exercise:__ Write a code that will return how probable the event is. Your code asks what the event is and then its probability. Finally the code will print `'The probability of {} to happen is {}. '` where \n",
    "* First bracket is the event. \n",
    "* Second bracket is the description of the probability (e.g. impossible, 50-50 et cetra. )\n",
    "\n",
    "__Sample Output__\n",
    "```\n",
    "Event: sleeping\n",
    "p: 20\n",
    "The probability of sleeping to happen is unlikely.\n",
    "```"
   ]
  },
  {
   "cell_type": "code",
   "execution_count": null,
   "metadata": {
    "solution": "hidden"
   },
   "outputs": [],
   "source": [
    "# Solution\n",
    "event = input('Event: ')\n",
    "try: \n",
    "    p = float(input('p: '))\n",
    "    if p > 1 or p < 0: \n",
    "        raise ValueError\n",
    "except ValueError: \n",
    "    print('Invalid format for probability. ')\n",
    "\n",
    "# Condition flow\n",
    "if p == 1: \n",
    "    keyword = 'certain'\n",
    "elif p == 0: \n",
    "    keyword = 'impossible'\n",
    "elif p == 0.5: \n",
    "    keyword = '50-50'\n",
    "elif p > 0.5: \n",
    "    keyword = 'likely'\n",
    "elif p < 0.5: \n",
    "    keyword = 'unlikely'\n",
    "    \n",
    "print('The probability of {} to happen is {}. '.format(event,keyword))"
   ]
  },
  {
   "cell_type": "code",
   "execution_count": null,
   "metadata": {},
   "outputs": [],
   "source": [
    "# Your code below\n"
   ]
  },
  {
   "cell_type": "markdown",
   "metadata": {},
   "source": [
    "### Monte Carlo Simulation (Optional)"
   ]
  },
  {
   "cell_type": "markdown",
   "metadata": {},
   "source": [
    "Monte Carlo comes the from Monte Carlo Casino in Monaco. This technique is similar to gambling in a roulette, where the computer generates a series of random numbers and check how many of them sits inside the region of interest. "
   ]
  },
  {
   "cell_type": "markdown",
   "metadata": {},
   "source": [
    "So let's start with generating random numbers in Python. The following code prints any random number less than $10$. \n",
    "\n",
    "```python\n",
    "import random\n",
    "print(random.randint(10))\n",
    "```\n",
    "Where `random.randint()` will return an integer less than $10$. You may write something similar to practice generating random numbers. "
   ]
  },
  {
   "cell_type": "markdown",
   "metadata": {
    "solution": "hidden",
    "solution_first": true
   },
   "source": [
    "__Exercise:__ A hotel can accept up to 200 people each night. To decide whether the hotel experience is good or not, it depends on whether there are more than 60 guests on a particular night. If there are less than 60 guests then it is expected that everyone will enjoy the night, and vice versa. If so, print `'Everyone will have good experience tonight. '` otherwise print `'Someone may need be disappointed by overcrowding tonight. '`. \n",
    "\n",
    "Write a code, to simulate if the experience in the hotel will be good night. No one has any information of whom will come tonight, so a random number generator would be helpful. "
   ]
  },
  {
   "cell_type": "code",
   "execution_count": null,
   "metadata": {
    "solution": "hidden"
   },
   "outputs": [],
   "source": [
    "# Solution\n",
    "import random\n",
    "seed = random.randint(10)\n",
    "cond = 60\n",
    "if seed < cond: \n",
    "    print('Everyone will have good experience tonight. ')\n",
    "else: \n",
    "    print('Someone may need be disappointed by overcrowding tonight. ')"
   ]
  },
  {
   "cell_type": "code",
   "execution_count": null,
   "metadata": {},
   "outputs": [],
   "source": [
    "import random\n",
    "# Your code below \n"
   ]
  },
  {
   "cell_type": "markdown",
   "metadata": {
    "solution": "hidden"
   },
   "source": [
    "Now we need to translate this into probability. Remember probability is \n",
    "\\[ \\frac{\\text{Number of events}}{\\text{Total number of events}}\\]\n",
    "So we can translate this into mathematics, or in code. Using the previous example, the probability of 60 guests attending a hotel with capacity of 200 people is $\\frac{60}{200}$. \n",
    "\n",
    "In the following, you will need to write a code on how to create this probability value. "
   ]
  },
  {
   "cell_type": "markdown",
   "metadata": {
    "solution": "hidden",
    "solution_first": true
   },
   "source": [
    "__Exercise:__ Write a code that will print the statement `'The probability of me sleeping early tonight is <probability>.'` Where `probability` is a random probabilistic value. Remember, probability lies between $0$ and $1$. "
   ]
  },
  {
   "cell_type": "code",
   "execution_count": null,
   "metadata": {
    "solution": "hidden"
   },
   "outputs": [],
   "source": [
    "# Solution\n",
    "import random \n",
    "p = random.randint(10)/10 # Does not have to be 10. \n",
    "print('The probability of me sleeping early tonight is is {}. '.format(p))"
   ]
  },
  {
   "cell_type": "code",
   "execution_count": null,
   "metadata": {},
   "outputs": [],
   "source": [
    "import random\n",
    "# Your code below \n"
   ]
  },
  {
   "cell_type": "markdown",
   "metadata": {},
   "source": [
    "This is about the end of introducing Monte Carlo methods. In fact, there are much more applications using Monte Carlo methods. We will discuss about this in the (optional) week 13. "
   ]
  },
  {
   "cell_type": "markdown",
   "metadata": {},
   "source": [
    "## Random Variable"
   ]
  },
  {
   "cell_type": "markdown",
   "metadata": {},
   "source": [
    "In mathematics, we assign a probability value to each events. So how can we write this mathematically? By convention we map the events into __random variables__. This is like in functions we have a set of $x$ values and the $y$ axis are the probability values. This is useful because the events are modelled in ordered fashion. "
   ]
  },
  {
   "cell_type": "code",
   "execution_count": 1,
   "metadata": {},
   "outputs": [
    {
     "data": {
      "image/png": "[encoded data removed]",
      "text/plain": [
       "<IPython.core.display.Image object>"
      ]
     },
     "execution_count": 1,
     "metadata": {},
     "output_type": "execute_result"
    }
   ],
   "source": [
    "from IPython.display import Image\n",
    "Image(\"fig/RandomVariable.png\")"
   ]
  },
  {
   "cell_type": "markdown",
   "metadata": {},
   "source": [
    "### What can be a Random Variable? (Optional)"
   ]
  },
  {
   "cell_type": "markdown",
   "metadata": {},
   "source": [
    "Random variables represent the different options (or events), so it entails a value of probability. So how could we specify if a random variable when modelling real events? One suggest is the random variable must pass the __clarity test__. Which is \n",
    "\n",
    "_Imagine you are telling friend something and ask to rephrase back to you. Will your friend ended up saying the same meaning and clearly?_\n",
    "\n",
    "For example: \n",
    "* Defining a student performing _good_ or _bad_ is not a good choice. What if a student has $69$ marks? Or $50$ marks? Your friend(s) will look at you and interpret the marks with a thought. \n",
    "* Defining smoking history with variables _yes_ or _no_ is not a good choice either. Obviously if someone has smoked before we can categorise to _yes_. Does the last smoke 20 years ago count? Often in epidemic modelling, this is not as important as last smoke from yesterday. It also does not specify if it was cigarette or cigar or others. "
   ]
  },
  {
   "cell_type": "markdown",
   "metadata": {},
   "source": [
    "Examples of random variables are _male_ or _female_. Age is another common example. "
   ]
  },
  {
   "cell_type": "markdown",
   "metadata": {
    "solution": "hidden",
    "solution_first": true
   },
   "source": [
    "__Exercise:__ Which of the following are random variables?\n",
    "* Age in bins (e.g. 10-15, 16-20 et cetera.)\n",
    "* Dice rolled\n",
    "* Sum of 2 dice rolled\n",
    "* Mass of a gas cluster"
   ]
  },
  {
   "cell_type": "markdown",
   "metadata": {
    "solution": "hidden"
   },
   "source": [
    "Only mass of gas cluster is not a valid random variable. A gas cluster may contain different compositions and it was not specified here. "
   ]
  },
  {
   "cell_type": "markdown",
   "metadata": {},
   "source": [
    "## Pdf/ Cdf"
   ]
  },
  {
   "cell_type": "markdown",
   "metadata": {},
   "source": [
    "How do we put the probabilities of events together? We order the probabilities with their random variables. This becomes a probability function of random variables, or simply __probability density function__ (pdf). It is called probability mass function if the random variables are discrete numbers (integers). "
   ]
  },
  {
   "cell_type": "markdown",
   "metadata": {},
   "source": [
    "### Common Pdf"
   ]
  },
  {
   "cell_type": "markdown",
   "metadata": {},
   "source": [
    "The common pdfs are: \n",
    "* Uniform distribution\n",
    "* Binomial distribution\n",
    "* Poisson distribution\n",
    "* Chi-squared distribution\n",
    "* Normal distribution"
   ]
  },
  {
   "cell_type": "markdown",
   "metadata": {},
   "source": [
    "Uniform distribution means all events occured with the same probability. For example, if the probability of making eggs or making cereal as breakfast are 50-50, their probability are the same. "
   ]
  },
  {
   "cell_type": "code",
   "execution_count": 8,
   "metadata": {},
   "outputs": [
    {
     "data": {
      "image/png": "[encoded data removed]",
      "text/plain": [
       "<Figure size 432x288 with 1 Axes>"
      ]
     },
     "metadata": {
      "needs_background": "light"
     },
     "output_type": "display_data"
    }
   ],
   "source": [
    "# Try me\n",
    "from scipy import stats\n",
    "import numpy as np\n",
    "from matplotlib import pyplot as plt\n",
    "%matplotlib inline\n",
    "\n",
    "x = np.linspace(0,2,100)\n",
    "rv01 = stats.uniform.pdf(x, 0, 2)\n",
    "plt.plot(x, rv01)\n",
    "plt.xlim(-0.5, 2.5)\n",
    "plt.show()"
   ]
  },
  {
   "cell_type": "markdown",
   "metadata": {},
   "source": [
    "Binomial distribution $\\operatorname{Bin}(n,\\:p)$ models numbers of response of \"yes\" or \"no\" and how probable they appear. The parameters are: \n",
    "* $n$ is the total number of responses. \n",
    "* $p$ is the probability of \"yes\" (for example). \n",
    "The mean in binomial distribution is $np$. \n",
    "\n",
    "Poisson distribution $\\operatorname{Pois}(\\lambda)$ predicts the probability of number of events occured in a day. For example, how many pizzas sold on a typical day. $\\lambda$ is the expected waiting time or number of events occured. \n",
    "\n",
    "Chi-squared distribution $\\chi(k)$ studies if the observations are dependent or not. \n",
    "\n",
    "Normal distribution $N(\\mu,\\:\\sigma^2)$ is __the most important distribution__, because central limit theorem states that when we have enough data then everything will distributed with normal distribution. he parameters are: \n",
    "* $\\mu$ is the mean (and median and mode). \n",
    "* $\\sigma$ is the standard deviation. "
   ]
  },
  {
   "cell_type": "markdown",
   "metadata": {},
   "source": [
    "If you want to see what does normal distribution looks like? Try running code below and see how it looks like. You can change the mean (second argument in `stats.norm.pdf()`) and standard deviation (third argument). What does it changes? "
   ]
  },
  {
   "cell_type": "code",
   "execution_count": 5,
   "metadata": {},
   "outputs": [
    {
     "data": {
      "image/png": "[encoded data removed]",
      "text/plain": [
       "<Figure size 432x288 with 1 Axes>"
      ]
     },
     "metadata": {
      "needs_background": "light"
     },
     "output_type": "display_data"
    }
   ],
   "source": [
    "# Try me\n",
    "from scipy import stats\n",
    "import numpy as np\n",
    "from matplotlib import pyplot as plt\n",
    "%matplotlib inline\n",
    "\n",
    "x = np.linspace(-2,2,100)\n",
    "rv02 = stats.norm.pdf(x, 0, 1)\n",
    "plt.plot(x, rv02)\n",
    "plt.xlim(-2, 2)\n",
    "plt.show()"
   ]
  },
  {
   "cell_type": "markdown",
   "metadata": {},
   "source": [
    "## Estimate Parameters (Optional)"
   ]
  },
  {
   "cell_type": "markdown",
   "metadata": {},
   "source": [
    "## Descriptive Statistics"
   ]
  },
  {
   "cell_type": "markdown",
   "metadata": {},
   "source": [
    "The meaning of descriptive statistics to summarise past data for decision making. It can be a numerical summary or visualisation. "
   ]
  },
  {
   "cell_type": "markdown",
   "metadata": {},
   "source": [
    "### Qualitative Statistics"
   ]
  },
  {
   "cell_type": "markdown",
   "metadata": {},
   "source": [
    "The aim of qualitative statistics is to use numbers to describe the series of data. For example, \n",
    "* mean\n",
    "* median\n",
    "* mode \n",
    "\n",
    "describes a representative point within the dataset. While \n",
    "* interquatile range\n",
    "* standard deviation (or variance)\n",
    "\n",
    "describes how varied are the observed data. The following figure shows how they look like in visual. From the order from top left to botton right, they represent mean (or other location parameters), range (or other scale parameters), skewness and fat-tailness. "
   ]
  },
  {
   "cell_type": "code",
   "execution_count": 1,
   "metadata": {},
   "outputs": [
    {
     "data": {
      "image/png": "[encoded data removed]",
      "text/plain": [
       "<IPython.core.display.Image object>"
      ]
     },
     "execution_count": 1,
     "metadata": {},
     "output_type": "execute_result"
    }
   ],
   "source": [
    "from IPython.display import Image\n",
    "Image(\"fig/DescriptiveStats.png\")"
   ]
  },
  {
   "cell_type": "markdown",
   "metadata": {},
   "source": [
    "To find the mean of the data, we can use the `mean()` function from `statistics` library. For example, \n",
    "\n",
    "```python\n",
    "import statistics\n",
    "\n",
    "statistics.mean([1,2,3]) # Ans: 2\n",
    "```\n",
    "\n",
    "To find out the median and mode, we can use `median()` and `mode()` from the same package. Which are \n",
    "\n",
    "```python\n",
    "import statistics\n",
    "\n",
    "statistics.median([1,2,3]) # Ans: 2\n",
    "statistics.mode([1,2,3]) # StatisticsError: no unique mode; found 3 equally common values\n",
    "statistics.mode([1,2,1,3]) # Ans: 2\n",
    "```"
   ]
  },
  {
   "cell_type": "markdown",
   "metadata": {
    "solution": "hidden",
    "solution_first": true
   },
   "source": [
    "__Exercise:__ Find out the mean and median of the following list. \n",
    "\n",
    "What can you infer from the results?"
   ]
  },
  {
   "cell_type": "markdown",
   "metadata": {
    "solution": "hidden"
   },
   "source": [
    "__Solution:__\n",
    "\n",
    "The code should be \n",
    "```python\n",
    "import statistics\n",
    "data = [1,1,1,1.5,2,2,4,5.6,8]\n",
    "\n",
    "print(statistics.mean(data))  # Note: print() is necessary since we are printing 2 rows in Jupyter. \n",
    "print(statistics.median(data))\n",
    "```\n",
    "\n",
    "You should get the mean with 2.9 and median with 2. The results shows that the data is positively (right) skewed. "
   ]
  },
  {
   "cell_type": "code",
   "execution_count": null,
   "metadata": {},
   "outputs": [],
   "source": [
    "import statistics\n",
    "\n",
    "data = [1,1,1,1.5,2,2,4,5.6,8]\n",
    "\n",
    "# Your code below\n"
   ]
  },
  {
   "cell_type": "markdown",
   "metadata": {},
   "source": [
    "If you are dealing with data frames, `pandas` have a `mean()` method that you may apply on your data frame. See below for usage. "
   ]
  },
  {
   "cell_type": "code",
   "execution_count": 12,
   "metadata": {},
   "outputs": [
    {
     "name": "stdout",
     "output_type": "stream",
     "text": [
      "a    2.000000\n",
      "b    2.333333\n",
      "dtype: float64\n",
      "\n",
      "Mean of \"a\" is 2.0. \n",
      "Mean of \"b\" is 2.3333333333333335. \n"
     ]
    }
   ],
   "source": [
    "import pandas as pd \n",
    "\n",
    "df = pd.DataFrame({'a': [0,1,1,2,3,5], 'b': [1,1,2,2,3,5]})\n",
    "\n",
    "print(df.mean())\n",
    "print()\n",
    "print('Mean of \"a\" is {}. '.format(df['a'].mean()))\n",
    "print('Mean of \"b\" is {}. '.format(df['b'].mean()))"
   ]
  },
  {
   "cell_type": "markdown",
   "metadata": {},
   "source": [
    "In describing statistics, apart from location parameters which summarises where the data densly populated (i.e. often expect to see this value of observation appears). Another main category of parameters are spread parameters. They describe how diverse the values are. Examples are standard deviation, range or interquantile range. "
   ]
  },
  {
   "cell_type": "markdown",
   "metadata": {},
   "source": [
    "In Python, we do not have a range function that calculates the range of data. The `range()` function calls the sequence of numbers and we use them in loops. It is however you can create a `stats_range()` by yourself. Try do it below when you have time. \n",
    "\n",
    "Remember, range is the distance between the largest and smallest values in your dataset (or in one column). "
   ]
  },
  {
   "cell_type": "code",
   "execution_count": null,
   "metadata": {},
   "outputs": [],
   "source": [
    "# Your code below\n",
    "\n",
    "def stats_range(???):\n",
    "    '''\n",
    "    Find the statistical range of a list. \n",
    "    '''\n",
    "    pass"
   ]
  },
  {
   "cell_type": "markdown",
   "metadata": {},
   "source": [
    "In Python, there may be methods or functions that directly calculating the interquantile range. So you may design a function to calculate the interquantile range in spare time. Remember, the interquantile range as the distance between the 3rd quantile and the 1st quantile. "
   ]
  },
  {
   "cell_type": "markdown",
   "metadata": {},
   "source": [
    "The more often used spread parameters are standard deviation and variance. The `statistics` library has a `stdev()` function to compute this. \n",
    "\n",
    "```python\n",
    "import statistics\n",
    "\n",
    "statistics.stdev([1,2,3])\n",
    "```\n",
    "\n",
    "You can calculate the variance either by the `statistics.variance()` function, or simply squaring (`statistics.stdev(...)**2`) of the standard deviation. While in data frames, you can use `std()` and `var()` to calculate the standard deviations and variance of the columns. "
   ]
  },
  {
   "cell_type": "markdown",
   "metadata": {},
   "source": [
    "Finally, we may look into skewness and kurtosis. It is appeared in `scipy.stats` as `skew()` and `kurtosis()` to calculate them. These functions tell us if the data are left or right skewed or symmetric, and if they are fat tailed or not (useful in finance or social science). "
   ]
  },
  {
   "cell_type": "markdown",
   "metadata": {},
   "source": [
    "### Graphical Summary"
   ]
  },
  {
   "cell_type": "markdown",
   "metadata": {},
   "source": [
    "We have visualised data in last week, and this week we will look into two visualisations that has signficant use in statistics. These are: \n",
    "* box plot \n",
    "* Line plot "
   ]
  },
  {
   "cell_type": "markdown",
   "metadata": {},
   "source": [
    "`matplotlib` has a functionality `boxplot()` to visualise the data using boxplot. This is shown in below. "
   ]
  },
  {
   "cell_type": "code",
   "execution_count": 16,
   "metadata": {},
   "outputs": [
    {
     "data": {
      "image/png": "[encoded data removed]",
      "text/plain": [
       "<Figure size 432x288 with 1 Axes>"
      ]
     },
     "metadata": {
      "needs_background": "light"
     },
     "output_type": "display_data"
    }
   ],
   "source": [
    "# Run me \n",
    "import matplotlib.pyplot as plt \n",
    "\n",
    "plt.boxplot([1,2,3,4,5,6,7,8,9])\n",
    "plt.show()"
   ]
  },
  {
   "cell_type": "markdown",
   "metadata": {},
   "source": [
    "Sometimes you have few data columns and you will need to visualise them in boxplot at once. `matplotlib` is able to accomodate this by using subplots. \n",
    "\n",
    "```python\n",
    "plt.figure()\n",
    "plt.subplot(2,1,1)\n",
    "...\n",
    "\n",
    "plt.subplot(2,1,2)\n",
    "...\n",
    "\n",
    "plt.show()\n",
    "```"
   ]
  },
  {
   "cell_type": "code",
   "execution_count": 6,
   "metadata": {},
   "outputs": [
    {
     "data": {
      "image/png": "[encoded data removed]",
      "text/plain": [
       "<Figure size 1440x576 with 2 Axes>"
      ]
     },
     "metadata": {
      "needs_background": "light"
     },
     "output_type": "display_data"
    }
   ],
   "source": [
    "# Run me \n",
    "import matplotlib.pyplot as plt \n",
    "\n",
    "plt.figure(figsize=(20, 8))\n",
    "plt.subplot(1,2,1)\n",
    "plt.boxplot([1,2,3,4,5,6,7,8,9])\n",
    "plt.subplot(1,2,2)\n",
    "plt.boxplot([1,2,3,3,3,6,7,8,25])\n",
    "plt.show()"
   ]
  },
  {
   "cell_type": "markdown",
   "metadata": {},
   "source": [
    "__Exercise:__ Often data are stored at one single source, for example lists or dataframes. Let us repeat this exercise but the data are now stored in a list. Use loops to visualise the data using boxplot. You should see the same thing appeared from above. "
   ]
  },
  {
   "cell_type": "code",
   "execution_count": 7,
   "metadata": {},
   "outputs": [
    {
     "data": {
      "image/png": "[encoded data removed]",
      "text/plain": [
       "<Figure size 1440x576 with 2 Axes>"
      ]
     },
     "metadata": {
      "needs_background": "light"
     },
     "output_type": "display_data"
    }
   ],
   "source": [
    "# Solution\n",
    "import matplotlib.pyplot as plt \n",
    "\n",
    "data = [[1,2,3,4,5,6,7,8,9], [1,2,3,3,3,6,7,8,25]]\n",
    "\n",
    "plt.figure(figsize=(20, 8))\n",
    "for i in range(2): \n",
    "    plt.subplot(1,2,i+1)    # i+1 for subplot index\n",
    "    plt.boxplot(data[i])    # i is index of the list\n",
    "plt.show()"
   ]
  },
  {
   "cell_type": "code",
   "execution_count": null,
   "metadata": {},
   "outputs": [],
   "source": [
    "import matplotlib.pyplot as plt \n",
    "\n",
    "data = [[1,2,3,4,5,6,7,8,9], [1,2,3,3,3,6,7,8,25]]\n",
    "\n",
    "plt.figure(figsize=(20, 8))\n",
    "\n",
    "# Your code below\n",
    "\n"
   ]
  },
  {
   "cell_type": "markdown",
   "metadata": {},
   "source": [
    "### Linear Transformation of Data"
   ]
  },
  {
   "cell_type": "markdown",
   "metadata": {},
   "source": [
    "Later when you use data analytics, you will often have times to transform data before analysing them. For example, when you have data of different areas of a house. You may want to sum the total area of the house for analysis, since the total area of the house is more relevant to, for example, its house price. \n",
    "\n",
    "Linear transformation means if we add a constant, or scale them by a constant. By adding different columns of data also part of linear transformation (unless if it not row by row). "
   ]
  },
  {
   "cell_type": "markdown",
   "metadata": {},
   "source": [
    "You may find this helpful next week (or in week 10). The mean and standard deviation of linearly transformed data is \n",
    "$\\operatorname{E}(aX\\;+\\;b)\\;=\\;a\\operatorname{E}(X)\\;+\\;b$\n",
    "The mean of the transformed data is simply done by transforming the mean value as the same. For example, degrees of Celsius to Fahrenheit is defined by $F\\;=\\;\\frac{9}{5}C\\;+\\;32$. Let's say we have the measured temperature of several chemical samples and trying to find its mean temperature. If the mean temperature in degrees of Celsius is $11^\\circ\\mathrm{C}$, then the mean temperature in Fahrenheit is $\\frac{9}{5}\\;\\times\\;11\\;+\\;32\\;=\\;51.8^\\circ\\mathrm{F}$. \n",
    "\n",
    "The variance of the linearly transformed data is \n",
    "$\\operatorname{Var}(aX\\;+\\;b)\\;=\\;a^2\\operatorname{Var}(X)$\n",
    "Where the additional constant has no use in the transformation. "
   ]
  },
  {
   "cell_type": "markdown",
   "metadata": {},
   "source": [
    "## Experimental Design (Optional)"
   ]
  },
  {
   "cell_type": "markdown",
   "metadata": {},
   "source": [
    "If you are from biological studies, humanities or related, experimental design is an important. This involves planning on studying the research question by __testing if the outcome/ results are expected under a range of factors__. The most basic principle of experimental design is we tested several independent variables and measure the dependent variables (outcome), while controlling other variables. \n",
    "\n",
    "Let us use an example, suppose we are looking how long can an object fall at different heights. So we are using height as independent variables, time to fall for dependent variable. At the same time we would want to control the room temperature, pressure. These are to prevent any external impact on our experiments, since often we proceed each experiment sets in series. More prominently, if we control the object to be experimented, which maintains the same among all sets, then it would be a better control factor. "
   ]
  },
  {
   "cell_type": "markdown",
   "metadata": {},
   "source": [
    "| Independent variable(s) | Dependent variable(s) | Control variables            |\n",
    "|-------------------------|-----------------------|------------------------------|\n",
    "| Height                  | Time to fall          | Object <br> Room temperature |"
   ]
  },
  {
   "cell_type": "markdown",
   "metadata": {},
   "source": [
    "In this section, we use the term __factor__ to represent each of these variables. For example, height is a factor, so as time to fall. Each factor allows a range of values and they are called __level__. "
   ]
  },
  {
   "cell_type": "markdown",
   "metadata": {},
   "source": [
    "Experimental design has the three main principle: __Control__, __randomisation__ and __replication__. Let us see what do they mean in below: \n",
    "* __Control groups are important in eliminating systematic errors and external effects from the experiment__. This means as an experimenter, we need to be clear of what are we measuring, and other possible factors are potential control factors. The most easy way is to ensure the control factor has one value among all experiment sets. __Blocking sets__ are designed for this when other external factor may apply. The experimenter will select one blocking factor at a time in the experiment, and measure the experiment as usual. The experiment sets that uses the same blocking factor, as a block. Experimenters may compare the effect between blocks and see how the external factor affects the results. \n",
    "* __Randomisation is another way to eliminate bias__. In simple experiments like finding the time to fall on ground, there are not much factors to play around. Often in clinical trials, there are external factors that cannot be controlled or observed. For example, demographics. They may impact to the results, and randomisation means either we assign them into groups and the experiment factors are randomly assigned (i.e. providing real medication or placebo, or apply treatment in a radomly permutated order). By such, we eliminated the effect from demographics (i.e. by assigning different demographics to same group we can see how the general effect to the medication) or subjective judgement (i.e. experimenters may have done differently which reduce effectiveness of trial). Perfect randomisation cannot be achieved but we rely on randomised design to improve this. This is discussed in next (sub)section. \n",
    "* __Replicating the experimental procedure produces results in a condient manner__. For example, if we are trying to see how many red or black balls in a bag, the best way is to take out the balls one-by-one and we conclude by finding how often we take a red or black ball on average. Experiments find results from unknown, but we can still see the expected value by replicating the sets again and again. "
   ]
  },
  {
   "cell_type": "markdown",
   "metadata": {},
   "source": [
    "We may combine and create the structure of the factors in experimenting them. \n",
    "\n",
    "* __$2^k$ Factorial__ This means we have a set of factors that accepts only binary levels. The most easy examples are \"yes\" or \"no\", \"male\" or \"female\". This is very common in life. \n",
    "* __Fractional Factorial__ It means we screen for which factor are important and we will experiment a subset of factors. \n",
    "* __$3^k$ Factorial__ An extension to the $2^k$ factorial, but this time each factors has $3$ responses. \n",
    "* __Nested__ The factors formed a hierarchical structure. The levels of the same factor does not always combine with all the level in the next factor, they might select a subset of them. \n",
    "* __Crossed__ The factors fully combined with each other. \n",
    "* __Unbalanced Designs__ This simply means some of the combination of levels has more than one observed results. Usually it's because of practical reasons that make unbalanced designs possible (e.g. balanced design produce unbalanced data size when things go wrong, too expensive, some of the level combinations are more of the interest). "
   ]
  },
  {
   "cell_type": "code",
   "execution_count": 1,
   "metadata": {},
   "outputs": [
    {
     "data": {
      "image/png": "[encoded data removed]",
      "text/plain": [
       "<IPython.core.display.Image object>"
      ]
     },
     "execution_count": 1,
     "metadata": {},
     "output_type": "execute_result"
    }
   ],
   "source": [
    "from IPython.display import Image\n",
    "Image(\"fig/CrossedNested.png\")"
   ]
  },
  {
   "cell_type": "markdown",
   "metadata": {},
   "source": [
    "### Randomised Block Design (Optional)"
   ]
  },
  {
   "cell_type": "markdown",
   "metadata": {},
   "source": [
    "When one considers experimenting with multiple factors, they should ensure any systemic bias are eliminated. Usual procedure is to compare the factors between different block designs. Depends on the structure of factors, there are many ways to create block designs. Here are an exhausted list of them: "
   ]
  },
  {
   "cell_type": "markdown",
   "metadata": {},
   "source": [
    "* __Randomised Complete Block Design__ This simply means all levels crossed over, and each cross over (namely the experiment set) is generated in a random order. The blocks are introduced as the homogeneous iteration of this randomised experiment design. This design generates very small experimental error, if not the least error among others. \n",
    "* __Latin Squares__ If there are two blocking factors, then we may align them as a latin square and arrange the blocks (and experimented level combination) within the cells. The examples are listed below the dot points. \n",
    "* __Incomplete Block__ Compared to complete block, not all factor levels are tested. The experimenter is interested between the difference of some of the factors, and the different outcomes from these. \n",
    "* __Split-plot__ Arrange different experiment sets into separate experiment plots, or equipments or blocking factors. This means each of these tests several experiment sets but they don't span the whole complete block. The nested and crossed has the form this above. \n",
    "\n",
    "A latin square may look like this: \n",
    "\n",
    "| Blocking Factor | A1 | A2 |\n",
    "|-----------------|----|----|\n",
    "| B1              | A  | B  |\n",
    "| B2              | B  | A  |\n",
    "\n",
    "| Blocking Factor | A1 | A2 | A3 |\n",
    "|-----------------|----|----|----|\n",
    "| B1              | A  | B  | C  |\n",
    "| B2              | B  | C  | B  |\n",
    "| B3              | C  | B  | A  |\n",
    "\n",
    "Where A, B are experiment sets. Each cell reads a person experiment the same combination of factors as coded as A and then on. At the same time, the person would also include the blocking factors. "
   ]
  },
  {
   "cell_type": "markdown",
   "metadata": {},
   "source": [
    "In Python, there are few libraries that manages factorial design. For example, `pyDOE` or `DOEPY`. It is out of this course's scope but you are more than welcome to look into them on the internet. You can look into their documentations and see how they might help when you conduct experiments next time: \n",
    "* [pyDOE](https://pythonhosted.org/pyDOE/)\n",
    "* [DOEPY](https://doepy.readthedocs.io/en/latest/)"
   ]
  },
  {
   "cell_type": "markdown",
   "metadata": {},
   "source": [
    "## Hypothesis Testing"
   ]
  },
  {
   "cell_type": "markdown",
   "metadata": {},
   "source": [
    "When we do conduct an experiment, or aggregating survey results. We always want to infer the conclusion from the large amount of data. Often when we obtain the results, we would want to make sure this is not due to systematic measurement errors or statistical fluctuations. __Hypothesis testing__ is aimed for testing the hypothesis and whether they are statistically significant to claim the conclusion. "
   ]
  },
  {
   "cell_type": "markdown",
   "metadata": {},
   "source": [
    "There are few ingredients to conduct a hypothesis testing, this depends on what are you trying to test. \n",
    "* A __null hypothesis__ that defines what we aimed to test of. For example, if you wanted to test if the sample mean if equal to $3$. Note that a null hypothesis has to be quantitative, or at least it can be related to a quantitative statement. The complement of a null hypothesis is the __alternative hypothesis__. If we reject the null hypothesis, that means the alternative hypothesis has some statistical significance in it. \n",
    "* __test statistic__ is the quantitative object that we used in the hypothesis testing. The hypothesis testing method uses a particular pdf and this is their variable. \n",
    "* We then set a __significance level__ to see how how much significance we need. The consensus is the signficance level above 95% ($\\alpha\\;=\\;0.05$) and we accept the null hypothesis. \n",
    "\n",
    "In hypothesis testing, one way is to see if the measured $p$-value is less than the complement of the significance level. For example, if the significance level falls on 95%, then if the $p$-value is less than $1\\;-\\;0.95\\;=\\;0.05$ then we reject the null hypothesis. The more advanced way is to look if the test statistic falls inside the rejection region. "
   ]
  },
  {
   "cell_type": "markdown",
   "metadata": {},
   "source": [
    "| Truth/ action       | $H_0$ is true | $H_0$ is false               |\n",
    "|---------------------|---------------|------------------------------|\n",
    "| Reject $H_0$        | __Type I__    | Correct Power: $1\\;-\\;\\beta$ |\n",
    "| Not rejecting $H_0$ | Correct       | __Type II__                  |"
   ]
  },
  {
   "cell_type": "markdown",
   "metadata": {},
   "source": [
    "### Proportion Testing"
   ]
  },
  {
   "cell_type": "markdown",
   "metadata": {},
   "source": [
    "We would wish to see if there is a proportion of samples have the same property. For example, if we wish to see if more than half are male. Then we use proportion testing. In here we want to test, \n",
    "\n",
    "$H_0:\\:p\\;=\\;0.5 $ (null hypothesis)\n",
    "\n",
    "$H_A:\\:p\\;\\neq\\;0.5$ (alternate hypothesis)\n",
    "\n",
    "This type of hypothesis testing uses z-score as test statistic, which is defined as \n",
    "\n",
    "$$z\\;=\\;\\frac{\\hat{p}\\;-\\;p\\text{*}}{\\sqrt{\\frac{p\\text{*}\\left(1\\;-\\;p\\text{*}\\right)}{n}}}$$\n",
    "Where $p\\text{*}$ is $0.5$ in this case. Let us say there are $25$ survey samples where $13$ of them are responded by a male. So we can get the z-score equals to $z\\;=\\;0.748$. Depends of whether you use $p$-value or critical (rejection) region. Here are the next steps: \n",
    "* Use a conversion table to see where the z-score converts to the corresponding $p$-value. Compare if it is less than the critical value (commonly $<\\;0.05$ for 95% significance). \n",
    "* Find the critical region (i.e. cutoff of z-score) from the conversion table (to $p$-value) and check if the z-score is within the critical region. \n",
    "\n",
    "Hence we have \n",
    "* The corresponding $p$-value is $p\\;=\\;0.454$ (Note this $p$ is not the $p$ in the null hypothesis). Which is larger than the critical value. \n",
    "* The critical region lies between $z\\;=\\;-1.96$ and $z\\;=\\;1.96$. The measured z-score is within the critical region. \n",
    "\n",
    "The two methods shows that we should accept the null hypothesis. "
   ]
  },
  {
   "cell_type": "markdown",
   "metadata": {},
   "source": [
    "__Hypothesis for Two-tailed test__\n",
    "\n",
    "$H_0:\\:p\\;=\\;p\\text{*} $\n",
    "\n",
    "$H_A:\\:p\\;\\neq\\;p\\text{*}$\n",
    "\n",
    "The critical region is within the critical value $\\pm z\\text{*}$. "
   ]
  },
  {
   "cell_type": "markdown",
   "metadata": {},
   "source": [
    "__Hypothesis for Upper-tailed test__\n",
    "\n",
    "$H_0:\\:p\\;=\\;p\\text{*} $\n",
    "\n",
    "$H_A:\\:p\\;>\\;p\\text{*}$\n",
    "\n",
    "The critical region is less than the critical value $z\\text{*}$. "
   ]
  },
  {
   "cell_type": "markdown",
   "metadata": {},
   "source": [
    "__Hypothesis for Lower-tailed test__\n",
    "\n",
    "$H_0:\\:p\\;=\\;p\\text{*} $\n",
    "\n",
    "$H_A:\\:p\\;<\\;p\\text{*}$\n",
    "\n",
    "The critical region is more than the critical value $-z\\text{*}$. "
   ]
  },
  {
   "cell_type": "markdown",
   "metadata": {},
   "source": [
    "In Python we have `proportions_ztest()` from `statsmodels` to conduct a proportion test. The following code will demonstrate from the example above. "
   ]
  },
  {
   "cell_type": "code",
   "execution_count": null,
   "metadata": {},
   "outputs": [],
   "source": [
    "# Run this code \n",
    "from statsmodels.stats.proportion import proportions_ztest\n",
    "\n",
    "'''\n",
    "Usage: \n",
    "\n",
    "statsmodels.stats.proportion.proportions_ztest(count, nobs, value=None, alternative='two-sided', prop_var=False)\n",
    "'''\n",
    "\n",
    "z, p = proportions_ztest(13, 25, value=0.5, alternative='two-sided')\n",
    "print(f'z = {z}')  # s-score\n",
    "print(f'p = {p}')  # p-value "
   ]
  },
  {
   "cell_type": "markdown",
   "metadata": {
    "solution": "hidden",
    "solution_first": true
   },
   "source": [
    "__Exercise:__ Write a code that will print `'There is a statistical significant evidence that majority of respondance are males.'` if we accept the null hypothesis, or print `'There are no statistical significant evidence that majority of respondance are males.'` if we reject the null hypothesis. Use `z` and/ or `p` from the cell above to help you. \n",
    "\n",
    "Take significance level as 0.05. "
   ]
  },
  {
   "cell_type": "code",
   "execution_count": 4,
   "metadata": {
    "solution": "hidden"
   },
   "outputs": [
    {
     "name": "stdout",
     "output_type": "stream",
     "text": [
      "There is a statistical significant evidence that majority of respondance are males.\n",
      "There is a statistical significant evidence that majority of respondance are males.\n"
     ]
    }
   ],
   "source": [
    "# Solution \n",
    "'''\n",
    "Use z from above. \n",
    "'''\n",
    "if z < 1.96 or z > -1.96: \n",
    "    print('There is a statistical significant evidence that majority of respondance are males.')\n",
    "else: \n",
    "    print('There are no statistical significant evidence that majority of respondance are males.')\n",
    "    \n",
    "'''\n",
    "Use p from above. \n",
    "'''\n",
    "if p > 0.05: \n",
    "    print('There is a statistical significant evidence that majority of respondance are males.')\n",
    "else: \n",
    "    print('There are no statistical significant evidence that majority of respondance are males.')"
   ]
  },
  {
   "cell_type": "code",
   "execution_count": null,
   "metadata": {},
   "outputs": [],
   "source": [
    "# Your code below \n"
   ]
  },
  {
   "cell_type": "markdown",
   "metadata": {},
   "source": [
    "### t-test"
   ]
  },
  {
   "cell_type": "markdown",
   "metadata": {},
   "source": [
    "t-test tests the sample mean, and if they are big enough, small enough or equal to a reference value. It uses a test statistic called t-score. It is defined as \n",
    "$$t\\;=\\;\\frac{\\bar{x}\\;-\\;\\mu_0}{\\frac{s}{\\sqrt{n}}}$$"
   ]
  },
  {
   "cell_type": "markdown",
   "metadata": {},
   "source": [
    "First, you need to know which pair of hypothesis is needed, the following is as a guide. \n",
    "\n",
    "__Hypothesis ($t$-test)__\n",
    "\n",
    "$H_0:\\:\\mu\\;=\\;m$\n",
    "\n",
    "$H_A:\\:\\mu\\;\\neq\\;\\mu\\text{*}$ (Two tail)\n",
    "\n",
    "$H_A:\\:\\mu\\;<\\;\\mu\\text{*}$ (Lower tail)\n",
    "\n",
    "$H_A:\\:\\mu\\;>\\;\\mu\\text{*}$ (Upper tail)\n",
    "\n",
    "For example, if you wish to test whether the sample mean is less than $99$. The hypothesis reads \n",
    "\n",
    "$H_0:\\:\\mu\\;=\\;99$\n",
    "\n",
    "$H_A:\\:\\mu\\;<\\;99$ \n",
    "\n",
    "The null hypothesis is always in this form (i.e. with equal), and our goal is to see whether we reject the null hypothesis. "
   ]
  },
  {
   "cell_type": "markdown",
   "metadata": {},
   "source": [
    "Depends of whether you use $p$-value or critical (rejection) region. Here are the next steps: \n",
    "* Use a conversion table to see where the t-score converts to the corresponding $p$-value. Compare if it is less than the critical value (commonly $<\\;0.05$ for 95% significance). \n",
    "* Find the critical region (i.e. cutoff of z-score) from the conversion table (to $p$-value) and check if the t-score is within the critical region. "
   ]
  },
  {
   "cell_type": "markdown",
   "metadata": {},
   "source": [
    "In Python we have `ttest_ind()` from `statsmodels.stats.weightstats` to calculate the t-test. The following code will demonstrate this. For example, if we want to see if a sample data has mean less than 99, then "
   ]
  },
  {
   "cell_type": "code",
   "execution_count": 14,
   "metadata": {},
   "outputs": [
    {
     "name": "stdout",
     "output_type": "stream",
     "text": [
      "t = 6.211565661652502\n",
      "p = 1.2404774744282107e-08\n"
     ]
    }
   ],
   "source": [
    "# Run this \n",
    "'''\n",
    "scipy.stats.ttest_1samp(a, popmean, axis=0, nan_policy='propagate')\n",
    "'''\n",
    "import numpy as np\n",
    "from scipy import stats\n",
    "\n",
    "np.random.seed(1000)  # fix seed to get the same result\n",
    "data_ttest01 = stats.norm.rvs(loc=105, scale=10, size=100)\n",
    "t, p = stats.ttest_1samp(data_ttest01, 99)\n",
    "print(f't = {t}')  # t-score\n",
    "print(f'p = {p}')  # p-value "
   ]
  },
  {
   "cell_type": "markdown",
   "metadata": {},
   "source": [
    "As you can see from the $p$-value the value is very small and we can conclude there is a __statistically significant__ evidence where the two distributions does not have the same mean. "
   ]
  },
  {
   "cell_type": "markdown",
   "metadata": {},
   "source": [
    "There are different types of t-tests, this depends on if you are comparing the mean values between samples to a value or between samples. They are \n",
    "* One sample t-test\n",
    "* Independent two-sample t-test\n",
    "* Paired sample t-test\n",
    "\n",
    "The one above is the one sample t-test. "
   ]
  },
  {
   "cell_type": "markdown",
   "metadata": {},
   "source": [
    "If we have two datasets and which to compare their sample means. We can use two-sample t-tests. In Python we have \n",
    "\n",
    "* `ttest_ind()` from `statsmodels.stats.weightstats`, or \n",
    "* `ttest_ind()` from `scipy.stats`\n",
    "\n",
    "to conduct an independent two-sample t-test. The following code will demonstrate from the example above using `statsmodels` library."
   ]
  },
  {
   "cell_type": "code",
   "execution_count": 12,
   "metadata": {},
   "outputs": [
    {
     "name": "stdout",
     "output_type": "stream",
     "text": [
      "t = -0.5277847254362259\n",
      "p = 0.5977660791973403\n"
     ]
    }
   ],
   "source": [
    "# Run this \n",
    "'''\n",
    "statsmodels.stats.weightstats.ttest_ind(x1, x2, alternative='two-sided', usevar='pooled', weights=None, None, value=0)\n",
    "'''\n",
    "import numpy as np\n",
    "from scipy import stats  # For creating example data \n",
    "from statsmodels.stats.weightstats import ttest_ind as statsmodels_ttest_ind\n",
    "\n",
    "np.random.seed(1000)  # fix seed to get the same result\n",
    "data_ttest02 = stats.norm.rvs(loc=5,scale=10,size=500)\n",
    "data_ttest03 = stats.norm.rvs(loc=5,scale=10,size=500)\n",
    "t, p, df = statsmodels_ttest_ind(data_ttest02, data_ttest03)\n",
    "print(f't = {t}')  # t-score\n",
    "print(f'p = {p}')  # p-value "
   ]
  },
  {
   "cell_type": "markdown",
   "metadata": {},
   "source": [
    "The following code will demonstrate from the example above using `scipy` library."
   ]
  },
  {
   "cell_type": "code",
   "execution_count": 18,
   "metadata": {},
   "outputs": [
    {
     "name": "stdout",
     "output_type": "stream",
     "text": [
      "t = -0.5277847254362273\n",
      "p = 0.5977660791973394\n"
     ]
    }
   ],
   "source": [
    "# Run this \n",
    "'''\n",
    "scipy.stats.ttest_ind(a, b, axis=0, equal_var=True, nan_policy='propagate') \n",
    "'''\n",
    "import numpy as np\n",
    "from scipy import stats\n",
    "from scipy.stats import ttest_ind as scipy_ttest_ind\n",
    "\n",
    "np.random.seed(1000)  # fix seed to get the same result\n",
    "data_ttest02 = stats.norm.rvs(loc=5,scale=10,size=500)\n",
    "data_ttest03 = stats.norm.rvs(loc=5,scale=10,size=500)\n",
    "t, p = scipy_ttest_ind(data_ttest02, data_ttest03)\n",
    "print(f't = {t}')  # t-score\n",
    "print(f'p = {p}')  # p-value "
   ]
  },
  {
   "cell_type": "markdown",
   "metadata": {},
   "source": [
    "### Chi-square test"
   ]
  },
  {
   "cell_type": "markdown",
   "metadata": {},
   "source": [
    "Chi-square test is used for testing if the categorical data are dependent (or not). Categorical data could be, for example, male and female. We test of the data collected from either categories are dependent to each other. "
   ]
  },
  {
   "cell_type": "markdown",
   "metadata": {},
   "source": [
    "The null hypothesis of chi-square test is \n",
    "\n",
    "__Hypothesis__\n",
    "\n",
    "$H_0:\\:$ Data are independent. \n",
    "\n",
    "$H_A:\\:$ Data are not independent. \n",
    "\n",
    "As a reminder, if the $p$-value is lower than the critical value then we reject the null hypothesis. "
   ]
  },
  {
   "cell_type": "markdown",
   "metadata": {},
   "source": [
    "We can use `chi2_contingency()` from `scipy` to test whether each category differs. The method accepts one required argument, which is a two-dimensional table of observed frequencies (i.e. number of occurrences) in each category. (It could ne multi-dimensional but we often not use this) In the following example, we have $2$ random variables from each categories (hence and 2-by-2 table): \n",
    "```python\n",
    "[[10,21],\n",
    " [28,5]]\n",
    "```\n",
    "Which looks like this if we handraw them: \n",
    "\n",
    "|.      | $X_1$ | $X_2$ |\n",
    "|-------|-------|-------|\n",
    "| $Y_1$ |   10  |   21  |\n",
    "| $Y_2$ |   28  |   5   |\n",
    "\n",
    "You can run the following code to see what is happening "
   ]
  },
  {
   "cell_type": "code",
   "execution_count": 10,
   "metadata": {},
   "outputs": [
    {
     "name": "stdout",
     "output_type": "stream",
     "text": [
      "16.212441774411214 5.6621024046487754e-05 1 [[18.40625 12.59375]\n",
      " [19.59375 13.40625]]\n"
     ]
    }
   ],
   "source": [
    "# Run this \n",
    "'''\n",
    "scipy.stats.chi2_contingency(observed, correction=True, lambda_=None)\n",
    "'''\n",
    "from scipy.stats import chi2_contingency\n",
    "\n",
    "chi1, p, df, expected = chi2_contingency([[10,21],[28,5]])\n",
    "print(chi1, p, df, expected)"
   ]
  },
  {
   "cell_type": "markdown",
   "metadata": {},
   "source": [
    "From the results, we can clearly see how small of the $p$-value. It shows that the counts from each category are independent to each other. The method outputs other objects: \n",
    "* `chi2` is the test statistic from the test, we use this if we follow the rejection region method. \n",
    "* `df` is the degrees of freedom, in this case it is number of categories minus one. \n",
    "* `expected` is the (contingency) table if the data are independent to each other. "
   ]
  },
  {
   "cell_type": "markdown",
   "metadata": {},
   "source": [
    "## Linear Regression"
   ]
  },
  {
   "cell_type": "markdown",
   "metadata": {},
   "source": [
    "## Multiple Regression"
   ]
  },
  {
   "cell_type": "markdown",
   "metadata": {},
   "source": [
    "## Model Selection"
   ]
  },
  {
   "cell_type": "markdown",
   "metadata": {},
   "source": [
    "## Categorical Regression (Optional)"
   ]
  },
  {
   "cell_type": "markdown",
   "metadata": {},
   "source": [
    "Catagorical variables unlike random variables, they do not necessarily follow an order (so it is meaningless to draw a regression line under male and female values). So special care has to be applied when we uses categorical variables in our analysis. Often this is done by coding. The most common one is called __dummy coding__ where we assign a flag to each catagory. For example, \n",
    "\n",
    "| Value  | $C_1$ | $C_2$ | $C_3$ |\n",
    "|--------|-------|-------|-------|\n",
    "| Male   | 0     | 1     | 0     |\n",
    "| Female | 1     | 0     | 0     |\n",
    "| Other  | 0     | 0     | 1     |\n",
    "\n",
    "In this example, we have male/ female or other gender as categories, and they assign to each dummy variables. The linear regression equation looks like: \n",
    "\n",
    "$$\\hat y\\;=\\;\\hat\\beta_1\\:C_1\\;+\\;\\hat\\beta_2\\:C_2\\;+\\;\\hat\\beta_3\\:C_3$$\n",
    "Remember the slope is something we ought to fit them next, so we should not worry about them. The slope means how each categorical variables effect the outcome, and its significance. "
   ]
  },
  {
   "cell_type": "markdown",
   "metadata": {},
   "source": [
    "In Python, we can use the `ols()` method from `statsmodels` to commit the linear regression. To denote categorical variables, we use the `C()` to denote from the categorical variables. "
   ]
  },
  {
   "cell_type": "markdown",
   "metadata": {},
   "source": [
    "## Logistic Regression"
   ]
  },
  {
   "cell_type": "markdown",
   "metadata": {},
   "source": [
    "## Bayesian Statistics (Optional)"
   ]
  },
  {
   "cell_type": "markdown",
   "metadata": {},
   "source": [
    "## Information Theory (Optional)"
   ]
  },
  {
   "cell_type": "markdown",
   "metadata": {},
   "source": [
    "### Entropy (Optional)"
   ]
  },
  {
   "cell_type": "markdown",
   "metadata": {},
   "source": [
    "### Estimating Entropy (Optional)"
   ]
  },
  {
   "cell_type": "markdown",
   "metadata": {},
   "source": [
    "## Conclusion"
   ]
  },
  {
   "cell_type": "markdown",
   "metadata": {},
   "source": [
    "In this week we have learnt about: "
   ]
  },
  {
   "cell_type": "markdown",
   "metadata": {},
   "source": [
    "## Further Readings and Reference"
   ]
  },
  {
   "cell_type": "markdown",
   "metadata": {},
   "source": [
    "* Cabrera, J. and McDougall, A. (2010). Statistical Consulting. Springer. "
   ]
  }
 ],
 "metadata": {
  "kernelspec": {
   "display_name": "Python 3",
   "language": "python",
   "name": "python3"
  },
  "language_info": {
   "codemirror_mode": {
    "name": "ipython",
    "version": 3
   },
   "file_extension": ".py",
   "mimetype": "text/x-python",
   "name": "python",
   "nbconvert_exporter": "python",
   "pygments_lexer": "ipython3",
   "version": "3.7.3"
  },
  "latex_envs": {
   "LaTeX_envs_menu_present": true,
   "autoclose": true,
   "autocomplete": true,
   "bibliofile": "biblio.bib",
   "cite_by": "apalike",
   "current_citInitial": 1,
   "eqLabelWithNumbers": true,
   "eqNumInitial": 1,
   "hotkeys": {
    "equation": "Ctrl-E",
    "itemize": "Ctrl-I"
   },
   "labels_anchors": false,
   "latex_user_defs": false,
   "report_style_numbering": false,
   "user_envs_cfg": false
  }
 },
 "nbformat": 4,
 "nbformat_minor": 2
}
