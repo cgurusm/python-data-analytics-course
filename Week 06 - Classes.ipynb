{
 "cells": [
  {
   "cell_type": "markdown",
   "metadata": {},
   "source": [
    "# Week 06 - Classes"
   ]
  },
  {
   "cell_type": "markdown",
   "metadata": {},
   "source": [
    "## Drill"
   ]
  },
  {
   "cell_type": "markdown",
   "metadata": {
    "solution": "hidden",
    "solution_first": true
   },
   "source": [
    "When a user uses `readlines()` to fetch the text lines from a `.txt` file, what is the data type returned?"
   ]
  },
  {
   "cell_type": "markdown",
   "metadata": {
    "solution": "hidden"
   },
   "source": [
    "String `str` type. "
   ]
  },
  {
   "cell_type": "markdown",
   "metadata": {},
   "source": [
    "Write a code that will find out which person has the highest score. The data file is given below. "
   ]
  },
  {
   "cell_type": "code",
   "execution_count": null,
   "metadata": {
    "collapsed": true
   },
   "outputs": [],
   "source": [
    "# Solution"
   ]
  },
  {
   "cell_type": "code",
   "execution_count": null,
   "metadata": {
    "collapsed": true
   },
   "outputs": [],
   "source": []
  },
  {
   "cell_type": "markdown",
   "metadata": {},
   "source": [
    "Write a code that will find which country has the most in 1999? Use `pandas` to help you. "
   ]
  },
  {
   "cell_type": "code",
   "execution_count": null,
   "metadata": {
    "collapsed": true
   },
   "outputs": [],
   "source": [
    "# Solution"
   ]
  },
  {
   "cell_type": "code",
   "execution_count": null,
   "metadata": {
    "collapsed": true
   },
   "outputs": [],
   "source": []
  },
  {
   "cell_type": "markdown",
   "metadata": {},
   "source": [
    "## Class of Objects"
   ]
  },
  {
   "cell_type": "markdown",
   "metadata": {},
   "source": [
    "Class is a concept in object oriented programming, which represents the groups of objects. Examples of objects could be \n",
    "* students (of a class)\n",
    "* apple (of the many fruits)\n",
    "* orange (of the many fruits)\n",
    "\n",
    "Our main goal in object oriented programming is to simulate their behaviour and compute complex results from this. "
   ]
  },
  {
   "cell_type": "markdown",
   "metadata": {},
   "source": [
    "The main syntax of a class in Python is \n",
    "```python\n",
    "class Agent: \n",
    "    def _init__(self): \n",
    "        self.id = 0\n",
    "```\n",
    "These are the main features from above: \n",
    "* A class starts with the reserved keyword `class` then the name of the class. \n",
    "* A method called `__init__()` to create an object. This is called a **constructor**. \n",
    "    * The constructor starts with the first parameter called `self`. \n",
    "    * `self` represents the object itself. \n",
    "    * Can be other names, but `self` is by convention. \n",
    "* `self.id` is the `id` of the person. This is an __attribute__ of the person. "
   ]
  },
  {
   "cell_type": "markdown",
   "metadata": {},
   "source": [
    "So in this class we will be simulating a __voting system__. So in this case, we need to create 2 classes: \n",
    "* People\n",
    "* Voting\n",
    "\n",
    "Let's start with the class of people. First, we should think about what are the attributes of each person. "
   ]
  },
  {
   "cell_type": "markdown",
   "metadata": {},
   "source": [
    "__Exercise:__ Brainstorm 5 attributes of a person. With 2 attributes that will contribute to the voting system. \n",
    "\n",
    "After that, write a constructor for the class `People`. The constructor is ready for you. "
   ]
  },
  {
   "cell_type": "code",
   "execution_count": null,
   "metadata": {
    "collapsed": true
   },
   "outputs": [],
   "source": [
    "class People: \n",
    "    def __init__(self, name, age): \n",
    "        self.name = name\n",
    "        self.age = age\n",
    "        # Write your code below\n",
    "        "
   ]
  },
  {
   "cell_type": "markdown",
   "metadata": {},
   "source": [
    "Later, we will add more attributes. However, all attributes must be included in the original constructor above. "
   ]
  },
  {
   "cell_type": "markdown",
   "metadata": {},
   "source": [
    "### Instance"
   ]
  },
  {
   "cell_type": "markdown",
   "metadata": {},
   "source": [
    "A class itself represents the concept. For example, the `class` of people represents the features of a person. In programming, we do not manipulate the class in the main code. Rather, we play around with the people. \n",
    "\n",
    "Since we have created the `class` People, we need to create a person to use later. This is by \n",
    "* creating a variable\n",
    "* create a class object and assign to it\n",
    "\n",
    "An example would this \n",
    "```python\n",
    "person01 = People('Sally', 12)\n",
    "```"
   ]
  },
  {
   "cell_type": "markdown",
   "metadata": {},
   "source": [
    "__Exercise:__ Write the code that will create a person named `'Tom'` and he is $12$ years old. Make sure if you have other parameters, fill them as well. "
   ]
  },
  {
   "cell_type": "code",
   "execution_count": null,
   "metadata": {
    "collapsed": true
   },
   "outputs": [],
   "source": [
    "# Solution\n",
    "person_2 = People('Tom', 12)"
   ]
  },
  {
   "cell_type": "code",
   "execution_count": null,
   "metadata": {
    "collapsed": true
   },
   "outputs": [],
   "source": [
    "# Your code below \n"
   ]
  },
  {
   "cell_type": "markdown",
   "metadata": {},
   "source": [
    "__Exercise:__ Write the code that will create a person named `'Robert'` and he is  $16$  years old. Make sure if you have other parameters, fill them as well."
   ]
  },
  {
   "cell_type": "code",
   "execution_count": null,
   "metadata": {
    "collapsed": true
   },
   "outputs": [],
   "source": [
    "# Solution\n",
    "person_3 = People('Robert', 16)"
   ]
  },
  {
   "cell_type": "code",
   "execution_count": null,
   "metadata": {
    "collapsed": true
   },
   "outputs": [],
   "source": [
    "# Your code below \n"
   ]
  },
  {
   "cell_type": "markdown",
   "metadata": {},
   "source": [
    "### Everything is a Object Oriented"
   ]
  },
  {
   "cell_type": "markdown",
   "metadata": {},
   "source": [
    "From week 1, we talked about data types. Can we do this with the objects we have created above? Yes, we can. In fact, you will see that the type of each person are `People`. "
   ]
  },
  {
   "cell_type": "code",
   "execution_count": null,
   "metadata": {
    "collapsed": true
   },
   "outputs": [],
   "source": [
    "# Try yourself\n",
    "type(person_2)"
   ]
  },
  {
   "cell_type": "markdown",
   "metadata": {},
   "source": [
    "In fact everything, including integers and floats are objects in Python. They have their attributes and that is why they can by computed. "
   ]
  },
  {
   "cell_type": "markdown",
   "metadata": {},
   "source": [
    "__Exericse:__ Think about what attributes define integers or floats? You can extend this to Booleans (i.e. they are part of the class of integers in Python). "
   ]
  },
  {
   "cell_type": "markdown",
   "metadata": {},
   "source": [
    "## Class of Actions"
   ]
  },
  {
   "cell_type": "markdown",
   "metadata": {},
   "source": [
    "More often classes are used in defining a set of actions. For example, when we wish to model people's opinion. We can write a class called `Opinion` and the methods simulates how people make opinions. \n",
    "\n",
    "In this class, we will be looking at an example. The following comes from the tutorial from tweepy. "
   ]
  },
  {
   "cell_type": "code",
   "execution_count": null,
   "metadata": {
    "collapsed": true
   },
   "outputs": [],
   "source": [
    "import tweepy\n",
    "\n",
    "APP_KEY = '***'\n",
    "APP_SECRET = '***'\n",
    "\n",
    "auth = tweepy.OAuthHandler('***', '***')\n",
    "auth.set_access_token(APP_KEY, APP_SECRET)\n",
    "\n",
    "class MyStreamListener(tweepy.StreamListener):\n",
    "\n",
    "    def on_status(self, status):\n",
    "        print(status.text)\n",
    "\n",
    "myStreamListener = MyStreamListener()\n",
    "myStream = tweepy.Stream(auth = api.auth, listener=myStreamListener)\n",
    "myStream.filter(follow=[\"???\"])"
   ]
  },
  {
   "cell_type": "markdown",
   "metadata": {},
   "source": [
    "## Methods"
   ]
  },
  {
   "cell_type": "markdown",
   "metadata": {
    "collapsed": true
   },
   "source": [
    "In previous weeks, we have looked into functions. Functions are templates to automate the program. When a function is inside the class, we call them __methods__. For example, people can vote and this is a method inside the class of `People`. In the `Vote` class, it can do many things to help the voting process. For example, \n",
    "* start voting time\n",
    "* count how many votes\n",
    "* close voting\n",
    "* find out who has not been voted\n",
    "\n",
    "In the following, let us create some of these methods. "
   ]
  },
  {
   "cell_type": "markdown",
   "metadata": {
    "collapsed": true
   },
   "source": [
    "The first one is to let everyone vote. So we need to create a method in `People` called `vote()`. To do so, we need to make sure each person has an attribute called `self.voted` to represent whether they have voted or not. You will need to go back to the cell when the class `People` located and write \n",
    "```python \n",
    "self.voted = 0\n",
    "```\n",
    "in the constructor. "
   ]
  },
  {
   "cell_type": "markdown",
   "metadata": {
    "collapsed": true
   },
   "source": [
    "So now, we can create the method. After the constructor (still within the class `People`), write \n",
    "```python \n",
    "def vote()\n",
    "```"
   ]
  },
  {
   "cell_type": "markdown",
   "metadata": {
    "collapsed": true
   },
   "source": [
    "At the end we will need to change the person to be voted, which we rely on the `return` keyword. This means the method becomes \n",
    "```python\n",
    "def vote(): \n",
    "    self.voted = 1\n",
    "    return self.voted\n",
    "```"
   ]
  },
  {
   "cell_type": "markdown",
   "metadata": {
    "collapsed": true
   },
   "source": [
    "This means the person who interacts with the method will reveal they have voted. To use it, we write \n",
    "```python\n",
    "person_2.vote()\n",
    "```\n",
    "This means the person has voted, but not others if never using this method. "
   ]
  },
  {
   "cell_type": "code",
   "execution_count": null,
   "metadata": {
    "collapsed": true
   },
   "outputs": [],
   "source": []
  },
  {
   "cell_type": "code",
   "execution_count": null,
   "metadata": {
    "collapsed": true
   },
   "outputs": [],
   "source": []
  },
  {
   "cell_type": "markdown",
   "metadata": {},
   "source": [
    "### Class Methods and Static Methods"
   ]
  },
  {
   "cell_type": "markdown",
   "metadata": {},
   "source": [
    "Most of the time we are writing methods that affects each instances. These are called __instance methods__. Often we would like to see how the collective behaviour works among instances and the class itself. So there is a concept of __class methods__ and __static methods__. "
   ]
  },
  {
   "cell_type": "markdown",
   "metadata": {},
   "source": [
    "Let us use an example. \n",
    "```python\n",
    "@classmethod\n",
    "def get_count(cls): \n",
    "    pass\n",
    "```\n",
    "In the example, "
   ]
  },
  {
   "cell_type": "markdown",
   "metadata": {},
   "source": [
    "To create a class method, make sure you have a declarator right before each class methods. A declarator starts with a `@` symbol. In the following, we could declare a static method with `@staticmethod`. An example would be\n",
    "```python\n",
    "@staticmethod\n",
    "def is_human(): \n",
    "    return True\n",
    "```\n",
    "As you can see, a static method does not need any parameters. It means that this function does not need any information about the class, nor the instances. For example, given we know many human traits, a static method could be "
   ]
  },
  {
   "cell_type": "code",
   "execution_count": null,
   "metadata": {
    "collapsed": true
   },
   "outputs": [],
   "source": []
  },
  {
   "cell_type": "code",
   "execution_count": null,
   "metadata": {
    "collapsed": true
   },
   "outputs": [],
   "source": []
  },
  {
   "cell_type": "code",
   "execution_count": null,
   "metadata": {
    "collapsed": true
   },
   "outputs": [],
   "source": []
  },
  {
   "cell_type": "markdown",
   "metadata": {},
   "source": [
    "## Json"
   ]
  },
  {
   "cell_type": "markdown",
   "metadata": {},
   "source": [
    "## Subclass"
   ]
  },
  {
   "cell_type": "markdown",
   "metadata": {},
   "source": [
    "## Conclusion\n",
    "\n",
    "In today, we have looked at: "
   ]
  },
  {
   "cell_type": "markdown",
   "metadata": {},
   "source": [
    "## Further Reading\n",
    "\n",
    "* The code of tweepy steam listener comes from [https://tweepy.readthedocs.io/en/latest/streaming_how_to.html](https://tweepy.readthedocs.io/en/latest/streaming_how_to.html)"
   ]
  },
  {
   "cell_type": "code",
   "execution_count": null,
   "metadata": {
    "collapsed": true
   },
   "outputs": [],
   "source": []
  }
 ],
 "metadata": {
  "kernelspec": {
   "display_name": "Python 3",
   "language": "python",
   "name": "python3"
  },
  "language_info": {
   "codemirror_mode": {
    "name": "ipython",
    "version": 3
   },
   "file_extension": ".py",
   "mimetype": "text/x-python",
   "name": "python",
   "nbconvert_exporter": "python",
   "pygments_lexer": "ipython3",
   "version": "3.6.0"
  },
  "latex_envs": {
   "LaTeX_envs_menu_present": true,
   "autoclose": true,
   "autocomplete": true,
   "bibliofile": "biblio.bib",
   "cite_by": "apalike",
   "current_citInitial": 1,
   "eqLabelWithNumbers": true,
   "eqNumInitial": 1,
   "hotkeys": {
    "equation": "Ctrl-E",
    "itemize": "Ctrl-I"
   },
   "labels_anchors": false,
   "latex_user_defs": false,
   "report_style_numbering": false,
   "user_envs_cfg": false
  }
 },
 "nbformat": 4,
 "nbformat_minor": 2
}
