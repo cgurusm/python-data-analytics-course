{
 "cells": [
  {
   "cell_type": "markdown",
   "metadata": {},
   "source": [
    "# Week 11: Network Visualisation"
   ]
  },
  {
   "cell_type": "markdown",
   "metadata": {},
   "source": [
    "Once your model has been created, you will need to visualise your work to your audiences. This week we will look into how to visualise network. "
   ]
  },
  {
   "cell_type": "markdown",
   "metadata": {},
   "source": [
    "## Drill"
   ]
  },
  {
   "cell_type": "markdown",
   "metadata": {
    "solution": "hidden",
    "solution2": "hidden",
    "solution2_first": true,
    "solution_first": true
   },
   "source": [
    "What are the differences between `for` and `while` loop?"
   ]
  },
  {
   "cell_type": "markdown",
   "metadata": {
    "solution": "hidden",
    "solution2": "hidden"
   },
   "source": [
    "* `while` loop requires a counter initiated, if applicable.\n",
    "* `while` loop requires the counter to be increased explicitly.\n",
    "* `for` loop does not change the objects inside the loop back to outside."
   ]
  },
  {
   "cell_type": "markdown",
   "metadata": {
    "solution": "hidden",
    "solution2": "hidden",
    "solution2_first": true,
    "solution_first": true
   },
   "source": [
    "What is the difference between supervised and unsupervised learning?"
   ]
  },
  {
   "cell_type": "markdown",
   "metadata": {
    "solution": "hidden",
    "solution2": "hidden"
   },
   "source": [
    "Supervised learning trains with a target variable while unsupervised does not. So they look for patterns within data. "
   ]
  },
  {
   "cell_type": "markdown",
   "metadata": {},
   "source": [
    "## Terminologies of Network"
   ]
  },
  {
   "cell_type": "markdown",
   "metadata": {},
   "source": [
    "Network is a visual representation of linked objects. An example of network is shown in below: "
   ]
  },
  {
   "cell_type": "markdown",
   "metadata": {},
   "source": [
    "<img src=\"fig/Network.png\"/>"
   ]
  },
  {
   "cell_type": "markdown",
   "metadata": {},
   "source": [
    "Network is composed of __nodes__ and connected by __links__ (sometimes called __edges__ from graph theory). For example, \n",
    "* A person represents a node\n",
    "* Relationships link each person"
   ]
  },
  {
   "cell_type": "markdown",
   "metadata": {
    "solution2": "hidden",
    "solution2_first": true
   },
   "source": [
    "__Exercise:__ What would be nodes or links/ edges in the following situation? \n",
    "* During an epidemic. \n",
    "* Your friends and aquaintances on social media. \n",
    "* Organisation chart. \n",
    "* Genetic interations of E Coli. \n",
    "* Traffic flow of Sydney."
   ]
  },
  {
   "cell_type": "markdown",
   "metadata": {
    "solution2": "hidden"
   },
   "source": [
    "__Solution__\n",
    "\n",
    "| __Question__ | __Node__ | __Link__              |\n",
    "|--------------|----------|-----------------------|\n",
    "| 1            | Person   | Interactions          |\n",
    "| 2            | Person   | Relationships         |\n",
    "| 3            | Staff    | Work relationships    |\n",
    "| 4            | Operons  | Transcription factors |\n",
    "| 5            | Place    | Road/ rail/ air link  |"
   ]
  },
  {
   "cell_type": "markdown",
   "metadata": {},
   "source": [
    "We can also make variants to network links by adding weights into them. This is presented as numerical labels into the links. "
   ]
  },
  {
   "cell_type": "markdown",
   "metadata": {},
   "source": [
    "<img src=\"fig/NetworkWeight.png\"/>"
   ]
  },
  {
   "cell_type": "markdown",
   "metadata": {},
   "source": [
    "As you can see from the figure above, the left edge is heavier than the right edge. Weights are important when we would like to characterise the interactions and compare them. For example, it can mean how significant is our relationships compared to our other friends. "
   ]
  },
  {
   "cell_type": "markdown",
   "metadata": {},
   "source": [
    "### Network Types: Undirected, Directed, Multigraph"
   ]
  },
  {
   "cell_type": "markdown",
   "metadata": {},
   "source": [
    "Links can be tailored to represent different types of relationships. For example, one way roads is represented as an arrow from onw node to another, but the opposite direction. This is a __directed graph__. The type of networks where its links does not have a direction are called __undirected__ graphs. These link represents the interactions are bidirectional. \n",
    "\n",
    "There is a type of network called multigraph, which means there are not only one way to link from a node to another. For example, from you can either walk or take a bus to university. Each modes of transport are represented by one link. "
   ]
  },
  {
   "cell_type": "markdown",
   "metadata": {},
   "source": [
    "<img src=\"fig/NetworkType.png\"/>"
   ]
  },
  {
   "cell_type": "markdown",
   "metadata": {
    "solution2": "hidden",
    "solution2_first": true
   },
   "source": [
    "__Exercise:__ Give examples if the following situations could be modelled as directed, multigraph or undirected networks?\n",
    "\n",
    "* Local road traffic network\n",
    "* State highway traffic network\n",
    "* Social relationships"
   ]
  },
  {
   "cell_type": "markdown",
   "metadata": {
    "solution2": "hidden"
   },
   "source": [
    "__Solution__\n",
    "\n",
    "| __Question__ | __Situation__                   | __Link__              |\n",
    "|--------------|---------------------------------|-----------------------|\n",
    "| 1            | Local road traffic network      | Directed              |\n",
    "| 2            | State highway traffic network   | Undirected            |\n",
    "| 3            | Social relationships            | Undirected            |"
   ]
  },
  {
   "cell_type": "markdown",
   "metadata": {},
   "source": [
    "### Network Science Quantities and Metrics"
   ]
  },
  {
   "cell_type": "markdown",
   "metadata": {},
   "source": [
    "A network is complex in its topologies. So at its first glance it is not intuitive to describe a network quantitatively. Fortunately, network science has brought in many ideas from graph theory (from mathematics). The following summarises the quantative features from graph theory: \n",
    "* __Degree__ The number of links connected to a node. \n",
    "* __Distance__ We treat each link has length $1$. \n",
    "* __Diameter__ This is the longest shortest path from a node to another in one network/ graph. \n",
    "* __Complete graph__ All nodes are directly linked one another. \n",
    "* __Path__ All viable sequences between two nodes. For example, between nodes $A$ and $B$ is node $C$. So the paths between nodes $A$ and $B$ are $A\\;-\\;B$, $B\\;-\\;C$ and $A\\;-\\;C$. \n",
    "* __Cycle__ A composite path that will run back to the same node without other nodes bypassed twice (or more). \n",
    "\n",
    "These basic measurements are important to further infer from the network. Furthermore, we can interpolate more social aspects of network. For example, __homophily__ and __weak ties__ shows how close the people (nodes) are located. Homophily means the similarlity between people. Weak ties often describes two acquaintences, it is important because in reality we met much more acquaintences than close friends and family members. Acquaintences are very helpful in resource refer or sharing and this is one of the topic of the connections between social science and network science. We can also identify __communities__ with a social network. Communities are a group of people whom they share resources and membership of the same. In network science, we develop several metrics to infer these qualitative ideas. For example, \n",
    "\n",
    "* __Closeness__ This is to measure how near are all nodes. For example, if all nodes are directly linked, the network is obviously closed together. \n",
    "* __Betweenness__ Imagine the links have flow inside them. This measures how often the link is occupied by measure the number of shortest paths passing through the link. \n",
    "* __Assortativity__ This is to find out if people are prefered to attached to others. This metric measures the degrees of each node and measure how they correlated with their neighbours. \n",
    "* __PageRank__ Famous for the ranking search results by Google. One intuition is that imagine a person randomly pass through different pages, linked by hyperlinks. The page's popularity is measured by how many in-links to the page itself. \n"
   ]
  },
  {
   "cell_type": "markdown",
   "metadata": {},
   "source": [
    "So let us start coding with network using `NetworkX` in below. "
   ]
  },
  {
   "cell_type": "markdown",
   "metadata": {},
   "source": [
    "## NetworkX"
   ]
  },
  {
   "cell_type": "markdown",
   "metadata": {},
   "source": [
    "NetworkX is a Python popular package in visualising and analysing data. To initiate the network analysis using NetworkX, we use \n",
    "```python\n",
    "import networkx as nx\n",
    "```\n",
    "When analysing networks, it is best to visualise them. To do so, we can use `matplotlib` to plot the network. This is done by \n",
    "```python\n",
    "from matlibplot import pyplot as plt\n",
    "%matplotlib inline \n",
    "```"
   ]
  },
  {
   "cell_type": "markdown",
   "metadata": {},
   "source": [
    "### Generating Networks"
   ]
  },
  {
   "cell_type": "markdown",
   "metadata": {},
   "source": [
    "In Python, networks are its own data type. We start using `networkx` by creating the network object. This can be done by \n",
    "```python \n",
    "# Undirected graph\n",
    "undirected_graph = nx.Graph()\n",
    "\n",
    "# Directed graph\n",
    "directed_graph = nx.DiGraph()\n",
    "\n",
    "# Multigraph\n",
    "multi_graph = nx.MultiGraph()\n",
    "multi_digraph = nx.MultiDiGraph()\n",
    "```"
   ]
  },
  {
   "cell_type": "markdown",
   "metadata": {},
   "source": [
    "The empty bracket does not need to be blank. Rather, we can fill in the nodes and edges in the bracket. For example, if node $1$ is linked with node $2$. Then we write \n",
    "```python\n",
    "g = nx.Graph([(1,2)])\n",
    "```\n",
    "Where `g` is a conventional name for graphs when we coding in Python. \n",
    "\n",
    "If we have created the network already. That is fine, we can still add the edges by \n",
    "```python\n",
    "# Network `g` has created.\n",
    "g.add_nodes_from([(1,2)])\n",
    "```"
   ]
  },
  {
   "cell_type": "markdown",
   "metadata": {},
   "source": [
    "If the network has more than one links, we input multiple tuples as additional edges. For example, nodes $1$ are linked with nodes $3$ and $4$. So we write \n",
    "```python\n",
    "# Using the same example\n",
    "# Create network from scratch\n",
    "g = nx.Graph([(1,2), (1,3), (1,4)])\n",
    "```\n",
    "\n",
    "```python\n",
    "# Using the same example\n",
    "# Add new links\n",
    "g.add_nodes_from([(1,3), (1,4)])\n",
    "```\n",
    "\n",
    "Of course, `networkx` has `Graph.add_node()` and `Graph.add_nodes_from([(u1,v1),(u2,v2)])` methods to add the nodes without connecting with the network. "
   ]
  },
  {
   "cell_type": "markdown",
   "metadata": {},
   "source": [
    "<img src=\"fig/Network_Create.png\"/>"
   ]
  },
  {
   "cell_type": "markdown",
   "metadata": {
    "solution": "hidden",
    "solution2": "hidden",
    "solution2_first": true,
    "solution_first": true
   },
   "source": [
    "__Exercise:__ Write a code that create a network as shown in the figure above. "
   ]
  },
  {
   "cell_type": "code",
   "execution_count": null,
   "metadata": {
    "solution": "hidden",
    "solution2": "hidden"
   },
   "outputs": [],
   "source": [
    "# Solution\n",
    "import networkx as nx\n",
    "\n",
    "g = nx.Graph([(1,2),(1,3),(2,4),(3,4),(3,5),(2,6),(2,7)])"
   ]
  },
  {
   "cell_type": "code",
   "execution_count": null,
   "metadata": {},
   "outputs": [],
   "source": [
    "# Your code \n",
    "import networkx as nx\n",
    "\n",
    "g = "
   ]
  },
  {
   "cell_type": "markdown",
   "metadata": {},
   "source": [
    "Let's dig deep into a network object. If we simply print the `g` as in below, we can see that it is a `Graph` object. "
   ]
  },
  {
   "cell_type": "code",
   "execution_count": 5,
   "metadata": {
    "solution": "hidden"
   },
   "outputs": [
    {
     "data": {
      "text/plain": [
       "<networkx.classes.graph.Graph at 0xeebf7b8>"
      ]
     },
     "execution_count": 5,
     "metadata": {},
     "output_type": "execute_result"
    }
   ],
   "source": [
    "import networkx as nx\n",
    "\n",
    "g = nx.Graph([(1,2),(1,3),(2,4),(3,4),(3,5),(2,6),(2,7)])\n",
    "\n",
    "g"
   ]
  },
  {
   "cell_type": "markdown",
   "metadata": {},
   "source": [
    "So let's look at what is inside there by printing the contents within `g`. "
   ]
  },
  {
   "cell_type": "code",
   "execution_count": 6,
   "metadata": {},
   "outputs": [
    {
     "data": {
      "text/plain": [
       "{'node_dict_factory': dict,\n",
       " 'adjlist_outer_dict_factory': dict,\n",
       " 'adjlist_inner_dict_factory': dict,\n",
       " 'edge_attr_dict_factory': dict,\n",
       " 'graph': {},\n",
       " '_node': {1: {}, 2: {}, 3: {}, 4: {}, 5: {}, 6: {}, 7: {}},\n",
       " '_adj': {1: {2: {}, 3: {}},\n",
       "  2: {1: {}, 4: {}, 6: {}, 7: {}},\n",
       "  3: {1: {}, 4: {}, 5: {}},\n",
       "  4: {2: {}, 3: {}},\n",
       "  5: {3: {}},\n",
       "  6: {2: {}},\n",
       "  7: {2: {}}}}"
      ]
     },
     "execution_count": 6,
     "metadata": {},
     "output_type": "execute_result"
    }
   ],
   "source": [
    "import networkx as nx\n",
    "\n",
    "g = nx.Graph([(1,2),(1,3),(2,4),(3,4),(3,5),(2,6),(2,7)])\n",
    "\n",
    "g.__dict__"
   ]
  },
  {
   "cell_type": "markdown",
   "metadata": {},
   "source": [
    "You should see there is a dictionary printing the information of `g`. In particular: \n",
    "* `'_node'` represents what are the nodes inside `g`\n",
    "* `'_adj'`  prints the neighbours of each nodes connected to. \n",
    "\n",
    "These information are very useful in inferring networks. We will do some exercises later using these. "
   ]
  },
  {
   "cell_type": "markdown",
   "metadata": {},
   "source": [
    "### Visualising Networks"
   ]
  },
  {
   "cell_type": "markdown",
   "metadata": {},
   "source": [
    "With the help of `matplotlib`, we can visualise networks easily. This is done by the network methods in `networkx`. In particular, \n",
    "```python\n",
    "g = nx.Graph([(1,2), (2,3), (1,3)])\n",
    "nx.draw(g)\n",
    "```"
   ]
  },
  {
   "cell_type": "code",
   "execution_count": 10,
   "metadata": {},
   "outputs": [
    {
     "data": {
      "image/png": "[encoded data removed]",
      "text/plain": [
       "<Figure size 432x288 with 1 Axes>"
      ]
     },
     "metadata": {},
     "output_type": "display_data"
    }
   ],
   "source": [
    "# Try me\n",
    "import networkx as nx\n",
    "from matplotlib import pyplot as plt\n",
    "%matplotlib inline \n",
    "\n",
    "g = nx.Graph([(1,2), (2,3), (1,3)])\n",
    "nx.draw(g, with_labels=True)"
   ]
  },
  {
   "cell_type": "markdown",
   "metadata": {
    "solution": "hidden",
    "solution2": "hidden",
    "solution2_first": true,
    "solution_first": true
   },
   "source": [
    "__Exercise:__ Write a code that will visualise the given network `sample_network`. "
   ]
  },
  {
   "cell_type": "code",
   "execution_count": 14,
   "metadata": {
    "solution": "hidden",
    "solution2": "hidden"
   },
   "outputs": [
    {
     "data": {
      "image/png": "[encoded data removed]",
      "text/plain": [
       "<Figure size 432x288 with 1 Axes>"
      ]
     },
     "metadata": {},
     "output_type": "display_data"
    }
   ],
   "source": [
    "# Solution \n",
    "\n",
    "# Libraries\n",
    "import networkx as nx\n",
    "from matplotlib import pyplot as plt\n",
    "%matplotlib inline \n",
    "\n",
    "# Import data\n",
    "from files.sample_network import g as sample_network\n",
    "\n",
    "nx.draw(sample_network, with_labels=True)"
   ]
  },
  {
   "cell_type": "code",
   "execution_count": null,
   "metadata": {},
   "outputs": [],
   "source": [
    "# Libraries\n",
    "import networkx as nx\n",
    "from matplotlib import pyplot as plt\n",
    "%matplotlib inline \n",
    "\n",
    "# Import data\n",
    "from files.sample_network import g as sample_network\n",
    "\n",
    "# Your code below\n",
    "\n"
   ]
  },
  {
   "cell_type": "markdown",
   "metadata": {
    "solution": "hidden",
    "solution2": "hidden",
    "solution2_first": true,
    "solution_first": true
   },
   "source": [
    "__Exercise:__ After you have visualised `sample_network`. Write code to answer the following questions: \n",
    "* How many nodes are there?\n",
    "* What are the degrees for each node?\n",
    "* Which nodes are singletons (i.e. nodes with $1$ degree)"
   ]
  },
  {
   "cell_type": "code",
   "execution_count": 20,
   "metadata": {
    "solution": "hidden",
    "solution2": "hidden"
   },
   "outputs": [
    {
     "name": "stdout",
     "output_type": "stream",
     "text": [
      "There are 6 nodes. \n",
      "Degree distribution: [('Mary', 4), ('Sam', 2), ('Judy', 2), ('Tom', 2), ('Kirill', 1), ('Peter', 1)] \n",
      "There are 2 singleton(s).\n"
     ]
    }
   ],
   "source": [
    "# Solution\n",
    "\n",
    "## Number of nodes\n",
    "print('There are {} nodes. '.format(len(sample_network.nodes)))\n",
    "\n",
    "## Degree\n",
    "print('Degree distribution: {} '.format(sample_network.degree))\n",
    "\n",
    "## Number of singletons \n",
    "number_of_singletons = 0\n",
    "\n",
    "for degree_info in sample_network.degree: \n",
    "    if degree_info[1] == 1: \n",
    "        number_of_singletons += 1\n",
    "print('There are {} singleton(s).'.format(number_of_singletons))"
   ]
  },
  {
   "cell_type": "code",
   "execution_count": null,
   "metadata": {},
   "outputs": [],
   "source": [
    "# Your code below\n"
   ]
  },
  {
   "cell_type": "markdown",
   "metadata": {},
   "source": [
    "`.draw()` and other similar methods have different options to customise the network. If you are interested, the following are the documentations regarding to these: \n",
    "\n",
    "* [`.draw_networkx()` documentation](https://networkx.github.io/documentation/stable/reference/generated/networkx.drawing.nx_pylab.draw_networkx.html#networkx.drawing.nx_pylab.draw_networkx)\n",
    "* [`networkx` graph examples](https://networkx.github.io/documentation/latest/auto_examples/index.html) Contains some styling examples for reference. "
   ]
  },
  {
   "cell_type": "markdown",
   "metadata": {},
   "source": [
    "### Infer Simple Network Quantities"
   ]
  },
  {
   "cell_type": "markdown",
   "metadata": {
    "solution": "hidden",
    "solution2": "hidden",
    "solution2_first": true,
    "solution_first": true
   },
   "source": [
    "__Exercise:__ Loop through all nodes in the provided network and print the name of each nodes. Each nodes are represented by an integer, so you can simply print the node itself. "
   ]
  },
  {
   "cell_type": "code",
   "execution_count": null,
   "metadata": {
    "solution": "hidden",
    "solution2": "hidden"
   },
   "outputs": [],
   "source": [
    "# Solution\n",
    "for node in g.nodes: \n",
    "    print(node.name)"
   ]
  },
  {
   "cell_type": "code",
   "execution_count": null,
   "metadata": {},
   "outputs": [],
   "source": [
    "# Your code below\n"
   ]
  },
  {
   "cell_type": "markdown",
   "metadata": {},
   "source": [
    "### Closeness "
   ]
  },
  {
   "cell_type": "markdown",
   "metadata": {},
   "source": [
    "Measure of how close are the nodes. In `networkx` this is calculated by \n",
    "```python\n",
    "from networkx.algorithms.centrality import closeness_centrality\n",
    "\n",
    "closeness_centrality(g)\n",
    "```\n",
    "\n",
    "You can check more information of the method on [official documentation](https://networkx.github.io/documentation/stable/reference/algorithms/generated/networkx.algorithms.centrality.closeness_centrality.html#networkx.algorithms.centrality.closeness_centrality). "
   ]
  },
  {
   "cell_type": "markdown",
   "metadata": {},
   "source": [
    "We can run a simple example below: "
   ]
  },
  {
   "cell_type": "code",
   "execution_count": 8,
   "metadata": {
    "solution": "hidden"
   },
   "outputs": [
    {
     "data": {
      "image/png": "[encoded data removed]",
      "text/plain": [
       "<Figure size 432x288 with 1 Axes>"
      ]
     },
     "metadata": {},
     "output_type": "display_data"
    },
    {
     "name": "stdout",
     "output_type": "stream",
     "text": [
      "The closeness centrality of g1 are:\n",
      " {1: 0.625, 2: 0.625, 3: 0.625, 5: 0.625, 4: 0.4166666666666667, 6: 0.4166666666666667}\n"
     ]
    },
    {
     "data": {
      "image/png": "[encoded data removed]",
      "text/plain": [
       "<Figure size 432x288 with 1 Axes>"
      ]
     },
     "metadata": {},
     "output_type": "display_data"
    },
    {
     "name": "stdout",
     "output_type": "stream",
     "text": [
      "The closeness centrality of g2 are:\n",
      " {1: 0.625, 2: 0.8333333333333334, 3: 0.8333333333333334, 5: 0.625, 4: 0.5, 6: 0.5}\n"
     ]
    }
   ],
   "source": [
    "# Run me\n",
    "from matplotlib import pyplot as plt\n",
    "%matplotlib inline\n",
    "\n",
    "import networkx as nx\n",
    "from networkx.algorithms.centrality import closeness_centrality\n",
    "\n",
    "g1 = nx.Graph([(1,2),(1,3),(2,5),(3,4),(3,5),(2,6)])\n",
    "value_01 = closeness_centrality(g1)\n",
    "\n",
    "g2 = nx.Graph([(1,2),(1,3),(2,3),(2,5),(3,4),(3,5),(2,6)])\n",
    "value_02 = closeness_centrality(g2)\n",
    "\n",
    "nx.draw_networkx(g1)\n",
    "plt.show()\n",
    "print('The closeness centrality of g1 are:\\n {}'.format(value_01))\n",
    "\n",
    "nx.draw_networkx(g2)\n",
    "plt.show()\n",
    "print('The closeness centrality of g2 are:\\n {}'.format(value_02))"
   ]
  },
  {
   "cell_type": "markdown",
   "metadata": {},
   "source": [
    "As you can see the values from closeness centrality is a dictionary of each node's closeness centrality. "
   ]
  },
  {
   "cell_type": "markdown",
   "metadata": {},
   "source": [
    "### Betweenness"
   ]
  },
  {
   "cell_type": "markdown",
   "metadata": {},
   "source": [
    "Measure of how many shortest paths for the specific vertex has. In terms of traffic, we can think of how a road is popular because many cars can take this as the shortpath. "
   ]
  },
  {
   "cell_type": "markdown",
   "metadata": {},
   "source": [
    "In `networkx` this is calculated by \n",
    "```python\n",
    "from networkx.algorithms.centrality import betweenness_centrality\n",
    "\n",
    "betweenness_centrality(g)\n",
    "```\n",
    "\n",
    "You can check more information of the method on [official documentation](https://networkx.github.io/documentation/stable/reference/algorithms/generated/networkx.algorithms.centrality.betweenness_centrality.html#networkx.algorithms.centrality.betweenness_centrality). "
   ]
  },
  {
   "cell_type": "markdown",
   "metadata": {},
   "source": [
    "### Assortativity"
   ]
  },
  {
   "cell_type": "markdown",
   "metadata": {},
   "source": [
    "Measure of how each nodes are mixed with other nodes. Technically speaking, how well nodes are connected with each other. It is a ranged value from $-1$ to $1$: \n",
    "* Negative values mean disortative, the network is likely to look radial. \n",
    "* $0$ means the newtork is neutral.\n",
    "* Positive values mean assortative. "
   ]
  },
  {
   "cell_type": "markdown",
   "metadata": {},
   "source": [
    "In `networkx` this is calculated by \n",
    "```python\n",
    "from networkx.algorithms.assortativity import degree_assortativity_coefficient\n",
    "\n",
    "degree_assortativity_coefficient(g)\n",
    "```\n",
    "\n",
    "You can check more information of the method on [official documentation](https://networkx.github.io/documentation/stable/reference/algorithms/generated/networkx.algorithms.assortativity.degree_assortativity_coefficient.html#networkx.algorithms.assortativity.degree_assortativity_coefficient). "
   ]
  },
  {
   "cell_type": "markdown",
   "metadata": {},
   "source": [
    "## Import Instances to Nodes"
   ]
  },
  {
   "cell_type": "markdown",
   "metadata": {},
   "source": [
    "In practice, these nodes represents a person or an object. This means in the code base, nodes have intrinsic meanings. We can encounter such fact by either: \n",
    "* renaming the nodes with the object\n",
    "* add attributes to the nodes. \n",
    "The second method is often suggested and it is a functionality provided by `networkx`. The first one becomes advantaged if the node itself has a pre-defined object representing it, and the second method is too cumbersome because it involves adding a lot of attributes to each nodes. "
   ]
  },
  {
   "cell_type": "markdown",
   "metadata": {},
   "source": [
    "Often we start our code by creating the data structures. In this case the objects have been created. `networkx` has a `.relabel_nodes()` method where the nodes label can change themselves. The usage of this method is as follows: \n",
    "```python\n",
    "# Map the old labels (key) to the new labels (value)\n",
    "mapping = {old_node: new_label, ...}\n",
    "nx.relabel_nodes(g, mapping)\n",
    "```\n",
    "You can try this in the demonstration below: "
   ]
  },
  {
   "cell_type": "code",
   "execution_count": 24,
   "metadata": {},
   "outputs": [
    {
     "data": {
      "image/png": "[encoded data removed]",
      "text/plain": [
       "<Figure size 432x288 with 1 Axes>"
      ]
     },
     "metadata": {},
     "output_type": "display_data"
    }
   ],
   "source": [
    "# Try this\n",
    "\n",
    "import networkx as nx\n",
    "from matplotlib import pyplot as plt\n",
    "%matplotlib inline \n",
    "\n",
    "social_network = nx.Graph([(1,3), (2,3), (3,4), (4,5)])\n",
    "\n",
    "class Person: \n",
    "    def __init__(self, name, age, gender):\n",
    "        self.name = name\n",
    "        self.age = age\n",
    "        self.gender = gender\n",
    "    \n",
    "population = [Person(\"Brendan\",43,\"M\"),Person(\"Julie\",80,\"F\"),Person(\"Hugo\",49,\"M\"),Person(\"Salma\",7,\"F\"),Person(\"Arham\",54,\"F\")]\n",
    "\n",
    "mapping = {1: population[0], 2: population[1], 3: population[2], 4: population[3], 5: population[4]}\n",
    "\n",
    "social_network = nx.relabel_nodes(social_network, mapping)\n",
    "\n",
    "nx.draw(social_network, with_labels=True)"
   ]
  },
  {
   "cell_type": "markdown",
   "metadata": {
    "solution": "hidden",
    "solution2": "hidden",
    "solution2_first": true,
    "solution_first": true
   },
   "source": [
    "__Exercise:__ How can we change the labels so that they show the names of the people in the visualisation?"
   ]
  },
  {
   "cell_type": "markdown",
   "metadata": {
    "solution": "hidden",
    "solution2": "hidden"
   },
   "source": [
    "There are 2 ways that we can show the names in the visualisations: \n",
    "\n",
    "__Method 1: Change the network completely__\n",
    "\n",
    "We could relabel the label with the names only. This means \n",
    "```python\n",
    "mapping = {1: population[0].name, 2: population[1].name, 3: population[2].name, 4: population[3].name, 5: population[4].name}\n",
    "\n",
    "social_network = nx.relabel_nodes(social_network, mapping)\n",
    "```\n",
    "\n",
    "__Method 2: Change the network completely__\n",
    "If you want to retain the network structure, then you can pause the `.draw()` method to show label then draw the labels separately. This is how you do it: \n",
    "```python\n",
    "# Need to set the positions first\n",
    "pos = nx.random_layout(social_network)\n",
    "nx.draw(social_network, pos=pos, with_labels=False)\n",
    "\n",
    "labels = {population[0]: population[0].name, population[1]: population[1].name, population[2]: population[2].name, population[3]: population[3].name, population[4]: population[4].name}\n",
    "\n",
    "nx.draw_networkx_labels(social_network,pos,labels)\n",
    "```\n"
   ]
  },
  {
   "cell_type": "code",
   "execution_count": null,
   "metadata": {},
   "outputs": [],
   "source": [
    "# Your code below\n"
   ]
  },
  {
   "cell_type": "markdown",
   "metadata": {},
   "source": [
    "Let's look at the other method, which is about __attributes__ of the nodes. In week 6 we have looked into classes, where everything in Python are objects. Objects have attributes to describe them. For example, as a person we are described by our names, age, gender and et cetera. \n",
    "\n",
    "We can do the same thing with network nodes, and with `networkx` it is easier to do so with their built-in methods. But first, we can add node attributes when we create the nodes. \n",
    "```python\n",
    "social_network = nx.Graph()\n",
    "\n",
    "social_network.add_node(\"Brendan\", {'age': 43, gender: \"M\"})\n",
    "```\n",
    "Note, we must define the graph object first, then add the node attributes. The above example comes from previous exercise. We can easily see that: \n",
    "* The node is defined by the name of the person. In this case it is fine. However, in reality people share the same names. `network` identify the nodes by its name, it is recommended to create a unique identifer if possible. \n",
    "* The personal information are listed as dictionaries.\n",
    "    * The feature is shown as the keys. \n",
    "    * The values are listed under each keys, which belongs to each person. "
   ]
  },
  {
   "cell_type": "markdown",
   "metadata": {
    "solution": "hidden",
    "solution2": "hidden",
    "solution2_first": true,
    "solution_first": true
   },
   "source": [
    "__Exercise:__ Can you create the nodes with attributes followed from the previous exercise? The personal information of others are shown below. \n",
    "\n",
    "| Name  | Age | Gender |\n",
    "|-------|-----|--------|\n",
    "| Julie | 80  | F      |\n",
    "| Hugo  | 49  | M      |\n",
    "| Salma | 7   | F      |\n",
    "| Arham | 54  | F      |"
   ]
  },
  {
   "cell_type": "markdown",
   "metadata": {
    "solution": "hidden",
    "solution2": "hidden"
   },
   "source": [
    "__Solution__\n",
    "\n",
    "```python\n",
    "social_network.add_node(\"Julie\", {'age': 80, gender: \"F\"})\n",
    "social_network.add_node(\"Hugo\", {'age': 49, gender: \"M\"})\n",
    "social_network.add_node(\"Salma\", {'age': 7, gender: \"F\"})\n",
    "social_network.add_node(\"Arham\", {'age': 54, gender: \"F\"})\n",
    "```"
   ]
  },
  {
   "cell_type": "markdown",
   "metadata": {},
   "source": [
    "`networkx` also has a method called `.set_node_attributes()` which allows us to add/ edit nodes attributes if we wish. For example, if we appended a new person into the network, called Brian, without any information appended. We can simply write \n",
    "```python\n",
    "social_network.add_node(\"Brian\")\n",
    "```\n",
    "Later, we have learnt that Brian is a male and his age is $12$. We then can use `.set_node_attributes()` and write \n",
    "```python\n",
    "nx.set_node_attributes(social_network, {\"Brian\": {'age': 12, gender: \"M\"}})\n",
    "```\n",
    "Beware the syntax difference from adding nodes. "
   ]
  },
  {
   "cell_type": "markdown",
   "metadata": {
    "solution": "hidden",
    "solution2": "hidden",
    "solution2_first": true,
    "solution_first": true
   },
   "source": [
    "__Exercise:__ When you add a node, can you append incomplete attributes information?\n",
    "\n",
    "For example, if I want to add a new node called `\"Sally\"` but I do not know her age, can I still use `nx.add_node()`?"
   ]
  },
  {
   "cell_type": "markdown",
   "metadata": {
    "solution": "hidden",
    "solution2": "hidden"
   },
   "source": [
    "__Answer:__ Yes, you can. "
   ]
  },
  {
   "cell_type": "markdown",
   "metadata": {
    "solution": "hidden",
    "solution2": "hidden",
    "solution2_first": true,
    "solution_first": true
   },
   "source": [
    "__Exercise:__ What if I realised Brian is aged $35$, can I simply change the attribute data with `nx.set_node_attributes()`?"
   ]
  },
  {
   "cell_type": "markdown",
   "metadata": {
    "solution": "hidden",
    "solution2": "hidden"
   },
   "source": [
    "__Answer:__ Yes, you can. "
   ]
  },
  {
   "cell_type": "markdown",
   "metadata": {},
   "source": [
    "To access the attribute values, we use the dictionary syntax. For example, to get the age of Brendan we could write \n",
    "```python\n",
    "social_network.nodes['Brendan']['age']\n",
    "```"
   ]
  },
  {
   "cell_type": "markdown",
   "metadata": {
    "solution": "hidden",
    "solution2": "hidden",
    "solution2_first": true,
    "solution_first": true
   },
   "source": [
    "__Exercise:__ Write a code that will print Brendan's gender. "
   ]
  },
  {
   "cell_type": "code",
   "execution_count": null,
   "metadata": {
    "solution": "hidden",
    "solution2": "hidden"
   },
   "outputs": [],
   "source": [
    "# Solution \n",
    "\n",
    "print(social_network.nodes['Brendan']['gender'])  # print() is fine in Jupyter"
   ]
  },
  {
   "cell_type": "code",
   "execution_count": null,
   "metadata": {},
   "outputs": [],
   "source": [
    "# Your code below \n",
    "\n",
    "print(???)"
   ]
  },
  {
   "cell_type": "markdown",
   "metadata": {},
   "source": [
    "## EDA on Network Data"
   ]
  },
  {
   "cell_type": "markdown",
   "metadata": {},
   "source": [
    "Finally, let us apply our skills by exploring the data and model them as networks. As a recap, EDA stands for exploratory data analysis. Which simply means we explore the dataset to extract the values and improve the data quality before finding useful patterns. \n",
    "\n",
    "In this section, we will look at 3 steps: \n",
    "1. Read the data files\n",
    "2. Clean the data set\n",
    "3. Explore the data, in particular\n",
    "    * Visualise the network\n",
    "    * Find statistical summaries from network"
   ]
  },
  {
   "cell_type": "markdown",
   "metadata": {},
   "source": [
    "In this exercise, we will look at a data set of pokemon data. The data is quite comprehensive and includes all pokemons up to gneration 8. First, we should identify what columns are located in the data file. So we should read the data file and read them. "
   ]
  },
  {
   "cell_type": "markdown",
   "metadata": {
    "solution": "hidden",
    "solution2": "hidden",
    "solution2_first": true,
    "solution_first": true
   },
   "source": [
    "__Exercise:__ Read the data file called `Pokemon_Gen_1-8.xlsx`. This data file is located in the `files` folder. It is an Excel file, so you may need `pd.read_excel()` for this exercise. After that, print all column names. \n",
    "\n",
    "Explain what each columns means. "
   ]
  },
  {
   "cell_type": "code",
   "execution_count": 7,
   "metadata": {
    "scrolled": true,
    "solution": "hidden",
    "solution2": "hidden"
   },
   "outputs": [
    {
     "name": "stdout",
     "output_type": "stream",
     "text": [
      "Index(['#', 'Name', 'Type 1', 'Type 2', 'HP', 'Attack', 'Defense',\n",
      "       'Sp. Attack', 'Sp. Defense', 'Speed', 'Total', 'Average', 'Generation',\n",
      "       'Legendary', 'Evolve From'],\n",
      "      dtype='object')\n"
     ]
    }
   ],
   "source": [
    "# Solution\n",
    "import pandas as pd\n",
    "pokemon_df = pd.read_excel('files/Pokemon_Gen_1-8.xlsx')\n",
    "\n",
    "print(pokemon_df.columns)"
   ]
  },
  {
   "cell_type": "code",
   "execution_count": null,
   "metadata": {},
   "outputs": [],
   "source": [
    "import pandas as pd\n",
    "# Your code below \n",
    "\n",
    "pokemon_df = pd.read_excel()"
   ]
  },
  {
   "cell_type": "markdown",
   "metadata": {},
   "source": [
    "For the purpose of the exercise, we need the last column `\"Evolve From\"`. Which links between pokemons species if one may evolve to the other. We also need the Pokedex number, a unique numbering system of all pokemons, in our analysis. This means we should filter the other columns out from the data frame. "
   ]
  },
  {
   "cell_type": "markdown",
   "metadata": {
    "solution": "hidden",
    "solution2": "hidden",
    "solution2_first": true,
    "solution_first": true
   },
   "source": [
    "__Exercise:__ Write a code to filter out the other columns. "
   ]
  },
  {
   "cell_type": "code",
   "execution_count": 10,
   "metadata": {
    "solution": "hidden",
    "solution2": "hidden"
   },
   "outputs": [
    {
     "name": "stdout",
     "output_type": "stream",
     "text": [
      "   #  Evolve From\n",
      "0  1          NaN\n",
      "1  2          1.0\n",
      "2  3          2.0\n",
      "3  3          2.0\n",
      "4  4          NaN\n"
     ]
    }
   ],
   "source": [
    "# Solution\n",
    "# You can either `DataFrame.drop()` all other columns, if you know their names. Or, reassign the two columns we need into the same data frame. \n",
    "# The latter solution is cleaner. To refrain double operation, we commented the first method. \n",
    "\n",
    "# Method 1: `DataFrame.drop()`\n",
    "# pokemon_df = pokemon_df.drop(['Name', 'Type 1', 'Type 2', 'HP', 'Attack', 'Defense',\n",
    "#        'Sp. Attack', 'Sp. Defense', 'Speed', 'Total', 'Average', 'Generation',\n",
    "#        'Legendary'], axis = 1)\n",
    "# Remember `axis = 1` means column data. \n",
    "\n",
    "# Method 2: Redefine the data frame\n",
    "pokemon_df = pokemon_df.loc[:,['#', 'Evolve From']]"
   ]
  },
  {
   "cell_type": "code",
   "execution_count": null,
   "metadata": {},
   "outputs": [],
   "source": [
    "# Your code below\n"
   ]
  },
  {
   "cell_type": "markdown",
   "metadata": {},
   "source": [
    "Then we arrive to the phase on cleaning data. Before proceeding to data analysis, we should not assume our data are all correct. In the filtered data frame, we expect each pokemon species may or may not entail a pokemon species that they are evolved from. Either you know much about pokemons or not, it is fine. We should learn about what we are analysing from the [pokedex of evolution families](https://bulbapedia.bulbagarden.net/wiki/List_of_Pok%C3%A9mon_by_evolution_family). This is where the pokemons are grouped by lines of evolution. Take some time to read them and think about the patterns of evolution. \n",
    "\n",
    "After your reading, you should found that: \n",
    "* One pokemon evolutes to another, but not in reverse direction. \n",
    "* One pokemon species may have several options to evolute. \n",
    "* It is unlikely that many pokemons may evolute to one species. \n",
    "* Pokemon can have different forms, and this affects how their evolution line. \n",
    "\n",
    "This will give you an idea that the network is a directed one. Moreover, the overall network should look like many singletons (_Nodes with no connections_) with some trees (_A special type of graphs that nodes will branch out but no cycles_). You should use this to validate if your network works.  "
   ]
  },
  {
   "cell_type": "markdown",
   "metadata": {
    "solution2": "hidden",
    "solution2_first": true
   },
   "source": [
    "__Exercise:__ Think about what could be the source of errors in the dataset. "
   ]
  },
  {
   "cell_type": "markdown",
   "metadata": {
    "solution2": "hidden"
   },
   "source": [
    "Here are the few items are possible sources of errors: \n",
    "* One pokemon in the `'#'` column has multiple `\"Evolve From\"` values. \n",
    "* Missing values.\n",
    "* The pokemon from the `\"Evolve From\"` column is either the pokemon itself, or the pokemon should be evolved to (i.e. wrong order). \n",
    "\n",
    "We should check if these exists, case by case. In the below cells(s), check the data quality and inegrity of the dataset. You may need to create new cells for each functionality. Use the __+__ button at the toolbar on the top to add cell. When we are checking each part of the cell, make sure you explain what are you doing. Either by commenting or using a markdown. "
   ]
  },
  {
   "cell_type": "code",
   "execution_count": null,
   "metadata": {},
   "outputs": [],
   "source": [
    "'''\n",
    "Check the data integrity from this cell. \n",
    "\n",
    "Make sure: \n",
    "- Create new cells for each functionality\n",
    "- Explain what you do by commenting or markdown\n",
    "'''\n"
   ]
  },
  {
   "cell_type": "markdown",
   "metadata": {},
   "source": [
    "So now we may visualise the network. So let's start to do them. First, we create the `Graph()` object. "
   ]
  },
  {
   "cell_type": "code",
   "execution_count": null,
   "metadata": {
    "solution": "hidden"
   },
   "outputs": [],
   "source": [
    "# Run this\n",
    "evolution_net = Graph()"
   ]
  },
  {
   "cell_type": "markdown",
   "metadata": {},
   "source": [
    "We then try to add the nodes (i.e. pokemons) or the evolution pathway into the graph. To do this, we need to fetch data from the data frame. The next exercise is where you develop the network. "
   ]
  },
  {
   "cell_type": "markdown",
   "metadata": {},
   "source": [
    "If you are running out of ideas, that is fine. There is one solution and we will walk through this one. \n",
    "\n",
    "The main idea is to __create a list for all links__, then we can include all singletons into the network as well. Remember our `Graph()` object starts with nothing, so must consider different cases. "
   ]
  },
  {
   "cell_type": "markdown",
   "metadata": {
    "solution": "hidden",
    "solution2": "hidden",
    "solution2_first": true,
    "solution_first": true
   },
   "source": [
    "__Exercise:__ We need to model with the columns needed. As a recap, what are the column names we needed? \n",
    "\n",
    "Write a code that will show these __two__ columns. "
   ]
  },
  {
   "cell_type": "markdown",
   "metadata": {
    "solution": "hidden",
    "solution2": "hidden"
   },
   "source": [
    "__Solution__\n",
    "\n",
    "The columns we needed are `'#'` and `'Evolve From'`. We can show them by writing \n",
    "```python\n",
    "pokemon_df[['#', 'Evolve From']]\n",
    "```"
   ]
  },
  {
   "cell_type": "markdown",
   "metadata": {},
   "source": [
    "Our thinking process is to first extract the Pokemons whom may evolve, and find the rest as singletons. At this point, we will need to filter the rows that values for the `'#'` and `'Evolve From'`. "
   ]
  },
  {
   "cell_type": "markdown",
   "metadata": {
    "solution": "hidden",
    "solution2": "hidden",
    "solution2_first": true,
    "solution_first": true
   },
   "source": [
    "__Exercise:__ Using your answer from the previous exercise, how do you query the rows that have both `'#'` and `'Evolve From'` values. "
   ]
  },
  {
   "cell_type": "markdown",
   "metadata": {
    "solution": "shown",
    "solution2": "hidden"
   },
   "source": [
    "__Solution__ \n",
    "\n",
    "Using code, \n",
    "```python\n",
    "pokemon_df[['#', 'Evolve From']][pokemon_df['Evolve From'].notna()]\n",
    "```\n",
    "It means we filter values from both `'#'` and `'Evolve From'` columns (i.e. the double square braket) and then query for the not missing values in `'Evolve From'` (using `.notna()`). "
   ]
  },
  {
   "cell_type": "markdown",
   "metadata": {},
   "source": [
    "The solution contains two more methods: `.to_records(index=False)` and `.to_list()`. Can you explain why is that?"
   ]
  },
  {
   "cell_type": "markdown",
   "metadata": {},
   "source": [
    "Remember we have said to add edges, they must be in a list. So the `.to_list()` is what we after. \n",
    "\n",
    "`.to_records(index=False)` is important when we want our list delete the index. So that the list now contains only tuples of __2__ values. "
   ]
  },
  {
   "cell_type": "markdown",
   "metadata": {},
   "source": [
    "__Remember__ you will need to add the two methods `.to_records(index=False).to_list()` at the end of your solution, and assign them with a variable. "
   ]
  },
  {
   "cell_type": "markdown",
   "metadata": {},
   "source": [
    "We now focus on the Pokemons that does not evolve. Since we are looking for individuals. One method is to include all species in Python sets. "
   ]
  },
  {
   "cell_type": "markdown",
   "metadata": {},
   "source": [
    "A set is a mathematical object that includes all the objects inside it. For example, \n",
    "```python\n",
    "{1, 2, 3}\n",
    "```\n",
    "Is a set that includes numbers $1$, $2$ and $3$. Note that a set only includes unique values, so if we have two $3$s, it does not change anything. So the set looks like \n",
    "```python\n",
    "{1, 2, 3}  # The extra 3 is absorbed\n",
    "```"
   ]
  },
  {
   "cell_type": "markdown",
   "metadata": {},
   "source": [
    "We can create our set using 2 things: \n",
    "* `set()`, and \n",
    "* list comprehension"
   ]
  },
  {
   "cell_type": "markdown",
   "metadata": {},
   "source": [
    "Let's start from list comprehension. We can view list comprehension as one-line loops. For example, instead of writing \n",
    "```python\n",
    "for x in range(3): \n",
    "    print(x)\n",
    "```\n",
    "We now write \n",
    "```python\n",
    "[print(x) for x in range(3)]\n",
    "```\n",
    "To do the same thing. \n",
    "\n",
    "A list comprehension means \n",
    "* Everything is inside a square braket. \n",
    "* The content of each iteration (i.e. `print(x)`) is first, then the declaration of the `for` loop. \n",
    "\n",
    "Note that there is no list comprehension for `while` loops. "
   ]
  },
  {
   "cell_type": "markdown",
   "metadata": {},
   "source": [
    "This means we should create our set using list comprehension in creating a set. For example, you can try the following: "
   ]
  },
  {
   "cell_type": "code",
   "execution_count": null,
   "metadata": {},
   "outputs": [],
   "source": [
    "# Try me\n",
    "print(set([x for x in range(3)]))"
   ]
  },
  {
   "cell_type": "markdown",
   "metadata": {},
   "source": [
    "You have created a set now. If you look into the list for edges to add previously. You should see there is a format there, Which is: \n",
    "```python\n",
    "ls = [(1,2), (2,3), ...]\n",
    "```\n",
    "Our job is to create the set with Pokemons (species numbers) that hasn't appeared. Note we are adding the data inside the tuple, which is within a list. So this means we will need to create a set that extracts from the values inside the tuple. "
   ]
  },
  {
   "cell_type": "markdown",
   "metadata": {
    "solution": "hidden",
    "solution2": "hidden",
    "solution2_first": true,
    "solution_first": true
   },
   "source": [
    "__Exercise:__ How can we do it?"
   ]
  },
  {
   "cell_type": "markdown",
   "metadata": {
    "solution": "hidden",
    "solution2": "hidden"
   },
   "source": [
    "__Solution:__\n",
    "\n",
    "Using the above example, we assume your list is stored in `ls`. Then your code should look like \n",
    "```python\n",
    "set([x[0] for x in ls])\n",
    "```\n",
    "This means we find all the first elements in the tuple in `ls` and add them. "
   ]
  },
  {
   "cell_type": "markdown",
   "metadata": {},
   "source": [
    "We now want to focus on aggregating the data from the second element in the tuples. Remember that repeated elements are absorbed in a set? We can add them by making the second elements as a new set, and join them together. This is done by union. \n",
    "\n",
    "Union in set theory means we join the two sets together. Let us see an example. "
   ]
  },
  {
   "cell_type": "code",
   "execution_count": null,
   "metadata": {},
   "outputs": [],
   "source": [
    "# Run this\n",
    "set01 = {1, 2, 3}\n",
    "set02 = {3, 4, 5}\n",
    "print(set01.union(set02))"
   ]
  },
  {
   "cell_type": "markdown",
   "metadata": {},
   "source": [
    "You will see that the elements from the set 01 and 02 are merged in the new union set. But the common element $3$ is not repeated in the new set. "
   ]
  },
  {
   "cell_type": "markdown",
   "metadata": {
    "solution": "hidden",
    "solution2": "hidden",
    "solution2_first": true,
    "solution_first": true
   },
   "source": [
    "__Exercise:__ How can you create a union set of the sets from first and second elements in the tuple? Remember to assign a variable after this. "
   ]
  },
  {
   "cell_type": "markdown",
   "metadata": {
    "solution": "hidden",
    "solution2": "hidden"
   },
   "source": [
    "__Solution:__\n",
    "\n",
    "Let us say the list is called `ls`. We can write \n",
    "\n",
    "```python\n",
    "evoluting_pokemons = set([x[0] for x in ls]).union(set([int(x[1]) for x in ls]))\n",
    "```"
   ]
  },
  {
   "cell_type": "markdown",
   "metadata": {},
   "source": [
    "But we are creating a set of Pokemons that may evolve, this is opposite to what we aimed! Don't worry. There is another set operation (such as union) that can find the elements that are not in there. This is called __complementary set__. To do that, we will need to create a set with all Pokemons numbers and find the complement of the set we've created. So we have the set of Pokemons that are singletons. \n",
    "\n",
    "To create complementary sets, we write \n",
    "```python\n",
    "set('All Pokemons') - set('Pokemons may Evolve')\n",
    "```\n",
    "The `-` operation means we subtract from the full set, which is finding the complementary set of the ones may evolve. "
   ]
  },
  {
   "cell_type": "markdown",
   "metadata": {
    "solution": "hidden",
    "solution2": "hidden",
    "solution2_first": true,
    "solution_first": true
   },
   "source": [
    "__Exercise:__ Find the set of Pokemons without evolving, using complementary set operation. \n",
    "\n",
    "_Remember:_ \n",
    "* What is your full set?\n",
    "* The data frame we imported is called `pokemon_df`, this will be helpful. "
   ]
  },
  {
   "cell_type": "markdown",
   "metadata": {
    "solution": "hidden",
    "solution2": "hidden"
   },
   "source": [
    "__Solution:__\n",
    "```python\n",
    "singleton_pokemons = set(pokemon_df['#'].tolist()) - evoluting_pokemons\n",
    "```"
   ]
  },
  {
   "cell_type": "code",
   "execution_count": null,
   "metadata": {},
   "outputs": [],
   "source": [
    "# Your code below\n"
   ]
  },
  {
   "cell_type": "markdown",
   "metadata": {},
   "source": [
    "After all the instructions, how many have you've been absorbed? If not, it is fine. The solution is in below. You can run that one with your code. "
   ]
  },
  {
   "cell_type": "markdown",
   "metadata": {
    "solution": "hidden",
    "solution2": "hidden",
    "solution2_first": true,
    "solution_first": true
   },
   "source": [
    "__Exercise:__ Add the nodes (i.e. pokemons) or the evolution pathway into the graph. \n",
    "\n",
    "_Hint:_ If you choose to add nodes first. You will then read from the data frame and add from the `'Name'` feature. You will then read the `'Name'` and `'Evolve From'` values and add the edges. \n",
    "\n",
    "If you choose the second path, it is esentially the other order. However, at the end make sure you have added all the singletons. `.add_edge()` or `.add_edges_from([...])` are helpful. "
   ]
  },
  {
   "cell_type": "code",
   "execution_count": null,
   "metadata": {
    "solution": "hidden",
    "solution2": "hidden"
   },
   "outputs": [],
   "source": [
    "# Solution\n",
    "edges_add = pokemon_df[['#', 'Evolve From']][pokemon_df['Evolve From'].notna()].to_records(index=False).tolist()\n",
    "evoluting_pokemons = set([x[0] for x in edges_add]).union(set([int(x[1]) for x in edges_add]))\n",
    "singleton_pokemons = set(pokemon_df['#'].tolist()) - evoluting_pokemons\n",
    "\n",
    "family_tree.add_edges_from(edges_add)\n",
    "family_tree.add_nodes_from(singleton_pokemons)"
   ]
  },
  {
   "cell_type": "code",
   "execution_count": null,
   "metadata": {},
   "outputs": [],
   "source": [
    "# Your code below\n"
   ]
  },
  {
   "cell_type": "markdown",
   "metadata": {},
   "source": [
    "Finally, we can visualise the network itself. "
   ]
  },
  {
   "cell_type": "markdown",
   "metadata": {
    "solution": "shown",
    "solution2": "hidden",
    "solution2_first": true,
    "solution_first": true
   },
   "source": [
    "__Exercise:__ Visualise the network. "
   ]
  },
  {
   "cell_type": "code",
   "execution_count": null,
   "metadata": {
    "solution": "hidden",
    "solution2": "hidden"
   },
   "outputs": [],
   "source": [
    "# Solution\n",
    "plt.figure(figsize=(20,20))\n",
    "nx.draw_networkx(evolution_net)\n",
    "plt.show()"
   ]
  },
  {
   "cell_type": "code",
   "execution_count": null,
   "metadata": {},
   "outputs": [],
   "source": [
    "plt.figure(figsize=(20,20))\n",
    "# Your code below\n"
   ]
  },
  {
   "cell_type": "markdown",
   "metadata": {},
   "source": [
    "Finally you may do some analysis of the network. For example, you can find how many singletons in the network. You may also infer the centrality values from the network. "
   ]
  },
  {
   "cell_type": "markdown",
   "metadata": {},
   "source": [
    "## Conclusion"
   ]
  },
  {
   "cell_type": "markdown",
   "metadata": {},
   "source": [
    "In today's class we have looked at: \n",
    "* How to visualise networks in Python\n",
    "* Inferring Python with simple measures\n",
    "* Explore datasets and model them with network. "
   ]
  }
 ],
 "metadata": {
  "kernelspec": {
   "display_name": "Python 3",
   "language": "python",
   "name": "python3"
  },
  "language_info": {
   "codemirror_mode": {
    "name": "ipython",
    "version": 3
   },
   "file_extension": ".py",
   "mimetype": "text/x-python",
   "name": "python",
   "nbconvert_exporter": "python",
   "pygments_lexer": "ipython3",
   "version": "3.8.8"
  },
  "latex_envs": {
   "LaTeX_envs_menu_present": true,
   "autoclose": true,
   "autocomplete": true,
   "bibliofile": "biblio.bib",
   "cite_by": "apalike",
   "current_citInitial": 1,
   "eqLabelWithNumbers": true,
   "eqNumInitial": 1,
   "hotkeys": {
    "equation": "Ctrl-E",
    "itemize": "Ctrl-I"
   },
   "labels_anchors": false,
   "latex_user_defs": false,
   "report_style_numbering": false,
   "user_envs_cfg": false
  },
  "toc": {
   "base_numbering": 1,
   "nav_menu": {},
   "number_sections": false,
   "sideBar": true,
   "skip_h1_title": false,
   "title_cell": "Table of Contents",
   "title_sidebar": "Contents",
   "toc_cell": false,
   "toc_position": {},
   "toc_section_display": true,
   "toc_window_display": false
  }
 },
 "nbformat": 4,
 "nbformat_minor": 2
}
