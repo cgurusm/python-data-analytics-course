{
 "cells": [
  {
   "cell_type": "code",
   "execution_count": 48,
   "metadata": {},
   "outputs": [],
   "source": [
    "import pandas as pd\n",
    "import random\n",
    "import scipy.stats\n",
    "import seaborn as sns\n",
    "import matplotlib.pyplot as plt\n",
    "\n",
    "def x(): \n",
    "    return random.randrange(10)\n",
    "\n",
    "def f(x): \n",
    "    return x ** 2 + 1 + random.randrange(-5, 5)\n",
    "\n",
    "def y(df): \n",
    "    df['y'] = 2*df['x1'] + 3*df['x2'] - 5*df['x3'] + random.randrange(-5, 5)\n",
    "    \n",
    "\n",
    "N = 450\n",
    "\n",
    "data = pd.DataFrame({'x1': [x() for i in range(N)]})\n",
    "data['x2'] = f(data['x1'])\n",
    "data['x3'] = [x() for i in range(N)]\n",
    "data['x4'] = [x() for i in range(N)]\n",
    "y(data)\n",
    "# data\n",
    "\n",
    "# sns.pairplot(data)\n",
    "# plt.show()\n",
    "\n",
    "# sns.heatmap(data.corr(), annot=True)\n",
    "# plt.show()\n",
    "\n",
    "data.to_csv(\"files/multi_reg.csv\", index=False)"
   ]
  }
 ],
 "metadata": {
  "kernelspec": {
   "display_name": "Python 3",
   "language": "python",
   "name": "python3"
  },
  "language_info": {
   "codemirror_mode": {
    "name": "ipython",
    "version": 3
   },
   "file_extension": ".py",
   "mimetype": "text/x-python",
   "name": "python",
   "nbconvert_exporter": "python",
   "pygments_lexer": "ipython3",
   "version": "3.7.3"
  }
 },
 "nbformat": 4,
 "nbformat_minor": 2
}
