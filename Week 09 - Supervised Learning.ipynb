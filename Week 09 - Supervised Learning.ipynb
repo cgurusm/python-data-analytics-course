{
 "cells": [
  {
   "cell_type": "markdown",
   "metadata": {},
   "source": [
    "# Week 09: Supervised Learning"
   ]
  },
  {
   "cell_type": "markdown",
   "metadata": {},
   "source": [
    "## Drill"
   ]
  },
  {
   "cell_type": "markdown",
   "metadata": {
    "solution": "hidden",
    "solution2": "hidden",
    "solution2_first": true,
    "solution_first": true
   },
   "source": [
    "__Exercise:__ Explain what libraries that are used for the applications below? \n",
    "* Data visualisation\n",
    "* Web scraping"
   ]
  },
  {
   "cell_type": "markdown",
   "metadata": {
    "solution": "hidden",
    "solution2": "hidden"
   },
   "source": [
    "__Solution:__ \n",
    "The are many libraries that do those tasks, but the following \n",
    "* Data visualisation: `matplotlib`, `seaborn`, `plotly`\n",
    "* Web scraping: `requests`, `beautifulsoap`"
   ]
  },
  {
   "cell_type": "markdown",
   "metadata": {
    "solution": "hidden",
    "solution2": "hidden",
    "solution2_first": true,
    "solution_first": true
   },
   "source": [
    "__Exercise:__ In the following, print out the results (__in 2 decimal points__) using the `.format()` method or f-string. The computation is given to you."
   ]
  },
  {
   "cell_type": "code",
   "execution_count": null,
   "metadata": {
    "solution": "hidden",
    "solution2": "hidden"
   },
   "outputs": [],
   "source": [
    "# Solution\n",
    "def sum(ls): \n",
    "    i = 0\n",
    "    s = 0\n",
    "    while i < len(ls): \n",
    "        s += ls[i]\n",
    "        i += 1\n",
    "    return s\n",
    "data01 = [0, 1, 4, 1, 2, 5, 2, 3, 4, 1]\n",
    "avg = sum(data01)/len(data01)\n",
    "\n",
    "print('{0:.2f}'.format(avg))\n",
    "print(f'{avg:.2f}')"
   ]
  },
  {
   "cell_type": "code",
   "execution_count": null,
   "metadata": {},
   "outputs": [],
   "source": [
    "def sum(ls): \n",
    "    i = 0\n",
    "    s = 0\n",
    "    while i < len(ls): \n",
    "        s += ls[i]\n",
    "        i += 1\n",
    "    return s\n",
    "data01 = [0, 1, 4, 1, 2, 5, 2, 3, 4, 1]\n",
    "avg = sum(data01)/len(data01)\n",
    "\n",
    "# Your code below\n"
   ]
  },
  {
   "cell_type": "markdown",
   "metadata": {},
   "source": [
    "## Recap"
   ]
  },
  {
   "cell_type": "markdown",
   "metadata": {},
   "source": [
    "This is a continuum of previous 2 week topics. Remember from the CRISP-DM from week 7? We have done: \n",
    "* Forming data analytics/ science project ideas\n",
    "* Finding datasets\n",
    "* Understand the datasets from EDA\n",
    "* Using statistics to understand datasets, this sometimes is part of EDA\n",
    "\n",
    "This week and next week is under the __Modelling__ and __Evaluation__ steps of CRISP-DM. In this week, we are building a class of machine learning models under supervised learning. "
   ]
  },
  {
   "cell_type": "markdown",
   "metadata": {},
   "source": [
    "## Supervised Learning"
   ]
  },
  {
   "cell_type": "markdown",
   "metadata": {},
   "source": [
    "Supervised learning is one type of machine learning. These algorithms look for a target variable. Remember from last week we talked about dependent variable? In machine learning the term target variable replaces this, while features replaces the term independent variables. For example, we predict the price of some goods based on the current features of production (e.g. size, temperature). \n",
    "\n",
    "Examples of supervised learning are\n",
    "* regression\n",
    "* classification\n",
    "\n",
    "This week we will look into the machine learning/ prediction side of them. "
   ]
  },
  {
   "cell_type": "markdown",
   "metadata": {},
   "source": [
    "In this week, we will use a library called scikit-learn. Since it is a powerful and large package, we will have to import its submodules like the following: \n",
    "```python\n",
    "from sklearn import ...\n",
    "```\n",
    "\n",
    "These will be mentioned in relevant sections. "
   ]
  },
  {
   "cell_type": "markdown",
   "metadata": {},
   "source": [
    "### But First..."
   ]
  },
  {
   "cell_type": "markdown",
   "metadata": {},
   "source": [
    "Remember from week 7, every data analytics project starts from pre-processing the data. The most common steps are:\n",
    "\n",
    "* Sample the data \n",
    "* Impute missing data\n",
    "* Remove duplicate data\n",
    "* Inconsistent data\n",
    "* Standardise/ normalise numeric value\n",
    "* Reduce dimensionality\n",
    "* Add derived features\n",
    "* Binning numeric value (into categories)\n",
    "* Convert categorical variables into binary variables\n",
    "* Select, combine, aggregate data\n",
    "\n",
    "You must check if the dataset is good for feeding into the machine learning algorithm. This is what we called as __preprocessing__ data. Couple of the methods have been introduced in week 7 and we will talk about some more below (Encoding will be mentioned in classification). "
   ]
  },
  {
   "cell_type": "markdown",
   "metadata": {},
   "source": [
    "### Standardisation, Normalisation"
   ]
  },
  {
   "cell_type": "markdown",
   "metadata": {},
   "source": [
    "Standardisation is one of the methods to make sure the data is within the same scale. For example, the highest and lowest data points are within the same digit. This method particularly ensures data is within a distribution of mean $0$ and standard deviation of $1$. The transformation is the same as z-score as from last week. \n",
    "$$Z\\;=\\;\\frac{X\\;-\\;\\mu}{\\sigma}$$\n",
    "\n",
    "We can standarise the data using `StandardScaler()` from scikit-learn. "
   ]
  },
  {
   "cell_type": "code",
   "execution_count": 1,
   "metadata": {},
   "outputs": [],
   "source": [
    "from sklearn.preprocessing import StandardScaler\n",
    "\n",
    "X = [[1], [2], [3]]\n",
    "scaler = StandardScaler()"
   ]
  },
  {
   "cell_type": "markdown",
   "metadata": {},
   "source": [
    "The same data `X` above we can calculate the mean is 2 with standard deviation of 0.816. We can put this into the equation above. "
   ]
  },
  {
   "cell_type": "markdown",
   "metadata": {},
   "source": [
    "First we need to fit the data. "
   ]
  },
  {
   "cell_type": "code",
   "execution_count": 2,
   "metadata": {},
   "outputs": [
    {
     "data": {
      "text/plain": [
       "StandardScaler()"
      ]
     },
     "execution_count": 2,
     "metadata": {},
     "output_type": "execute_result"
    }
   ],
   "source": [
    "scaler.fit(X)"
   ]
  },
  {
   "cell_type": "markdown",
   "metadata": {},
   "source": [
    "You won't see any outputs, but the `.transform()` is what you are looking for. "
   ]
  },
  {
   "cell_type": "code",
   "execution_count": 3,
   "metadata": {},
   "outputs": [
    {
     "data": {
      "text/plain": [
       "array([[-1.22474487],\n",
       "       [ 0.        ],\n",
       "       [ 1.22474487]])"
      ]
     },
     "execution_count": 3,
     "metadata": {},
     "output_type": "execute_result"
    }
   ],
   "source": [
    "scaler.transform(X)"
   ]
  },
  {
   "cell_type": "markdown",
   "metadata": {},
   "source": [
    "Is it the same as what you calculated with the equation?"
   ]
  },
  {
   "cell_type": "markdown",
   "metadata": {},
   "source": [
    "The other data transformation is called normalisation, which simply means we scale all data within $0$ and $1$. "
   ]
  },
  {
   "cell_type": "code",
   "execution_count": 11,
   "metadata": {},
   "outputs": [],
   "source": [
    "from sklearn import preprocessing"
   ]
  },
  {
   "cell_type": "markdown",
   "metadata": {},
   "source": [
    "We can test this using a sample data that only have $0$ and $1$ and expect they won't change. "
   ]
  },
  {
   "cell_type": "code",
   "execution_count": 8,
   "metadata": {},
   "outputs": [
    {
     "data": {
      "text/plain": [
       "array([[0., 0., 1.]])"
      ]
     },
     "execution_count": 8,
     "metadata": {},
     "output_type": "execute_result"
    }
   ],
   "source": [
    "preprocessing.normalize([[0, 0, 1]])"
   ]
  },
  {
   "cell_type": "markdown",
   "metadata": {},
   "source": [
    "What if we change the highest data point? We can see it will scale back to $1$. "
   ]
  },
  {
   "cell_type": "code",
   "execution_count": 9,
   "metadata": {
    "scrolled": false
   },
   "outputs": [
    {
     "data": {
      "text/plain": [
       "array([[0., 0., 1.]])"
      ]
     },
     "execution_count": 9,
     "metadata": {},
     "output_type": "execute_result"
    }
   ],
   "source": [
    "preprocessing.normalize([[0, 0, 2]])"
   ]
  },
  {
   "cell_type": "markdown",
   "metadata": {},
   "source": [
    "Finally we can use the data from standardisation (see the structure is different). "
   ]
  },
  {
   "cell_type": "code",
   "execution_count": 10,
   "metadata": {},
   "outputs": [
    {
     "data": {
      "text/plain": [
       "array([[0.26726124, 0.53452248, 0.80178373]])"
      ]
     },
     "execution_count": 10,
     "metadata": {},
     "output_type": "execute_result"
    }
   ],
   "source": [
    "# Run me (and change data to test)\n",
    "preprocessing.normalize([[1, 2, 3]])"
   ]
  },
  {
   "cell_type": "markdown",
   "metadata": {},
   "source": [
    "### Imputation"
   ]
  },
  {
   "cell_type": "markdown",
   "metadata": {},
   "source": [
    "Real data have many places where they are missing. In week 7 we know that this can be patched by __imputation__. This can be done by `SimpleImputer()`. "
   ]
  },
  {
   "cell_type": "code",
   "execution_count": 5,
   "metadata": {},
   "outputs": [],
   "source": [
    "from sklearn.impute import SimpleImputer"
   ]
  },
  {
   "cell_type": "code",
   "execution_count": 6,
   "metadata": {},
   "outputs": [],
   "source": [
    "imp = SimpleImputer()"
   ]
  },
  {
   "cell_type": "markdown",
   "metadata": {},
   "source": [
    "Let us use an example from previous. We have the same first and last data point, but the middle one is left out. "
   ]
  },
  {
   "cell_type": "code",
   "execution_count": 7,
   "metadata": {},
   "outputs": [],
   "source": [
    "import numpy as np\n",
    "\n",
    "X = [[1], [np.nan], [3]]"
   ]
  },
  {
   "cell_type": "markdown",
   "metadata": {},
   "source": [
    "So we try to fit and transform the data as before. "
   ]
  },
  {
   "cell_type": "code",
   "execution_count": 8,
   "metadata": {},
   "outputs": [
    {
     "data": {
      "text/plain": [
       "array([[1.],\n",
       "       [2.],\n",
       "       [3.]])"
      ]
     },
     "execution_count": 8,
     "metadata": {},
     "output_type": "execute_result"
    }
   ],
   "source": [
    "imp.fit(X)\n",
    "\n",
    "imp.transform(X)"
   ]
  },
  {
   "cell_type": "markdown",
   "metadata": {},
   "source": [
    "You can see that the data is filled with $2$. This the mean of the remaining values ($1$ and $3$). We can also choose different strategies such as \n",
    "* mean\n",
    "* median\n",
    "* mode\n",
    "* constant\n",
    "\n",
    "Examples are from [offical docs](https://scikit-learn.org/stable/modules/impute.html#univariate-feature-imputation). "
   ]
  },
  {
   "cell_type": "markdown",
   "metadata": {},
   "source": [
    "## Regression"
   ]
  },
  {
   "cell_type": "markdown",
   "metadata": {},
   "source": [
    "Regression is one of the important examples of supervised learning, and you may have already using them. Regression forms a line (or plane) of predicted objects. When we know all the details of the independent variables, we can calculate the output from this. "
   ]
  },
  {
   "cell_type": "markdown",
   "metadata": {},
   "source": [
    "Let us use an example using below. The left column is the independent variable weight of caught fish this morning and the right hand column is the price that the fish market demands. \n",
    "\n",
    "| Weight (kg) | Price |\n",
    "|-------------|-------|\n",
    "| 10          | 21.5  |\n",
    "| 15          | 31.5  |\n",
    "| 20          | 41.5  |\n",
    "| 22.5        | 46.5  |\n",
    "| 30          | 61.5  |"
   ]
  },
  {
   "cell_type": "markdown",
   "metadata": {},
   "source": [
    "Let us say your boat has caught $10$ kg of fish, you expect to get 21.5 dollars. What if your boat has caught 25 kg fish? You will try to intrapolate between the known data and you will get 51.5 dollars. "
   ]
  },
  {
   "cell_type": "markdown",
   "metadata": {},
   "source": [
    "### Ridge, Lasso and ElasticNet (Optional)"
   ]
  },
  {
   "cell_type": "markdown",
   "metadata": {},
   "source": [
    "This week we will talk about serveral important linear regression algorithms. In mutiple regression, we are trying to find a line that has the least distance from all the data points. This is what is called fitting the data. Sometimes we may see the data does not have a linear relationship, or they autocorrelate and the line tries to fit them. If we include outliers or make the model with too many parameters (i.e. complex) then it may overfit. When new data comes in then the regression line does not predict them well because it considers too much of the outiers or did not encounter the real trend of data. "
   ]
  },
  {
   "cell_type": "markdown",
   "metadata": {},
   "source": [
    "This is where the ridge, lasso and ElasticNet comes in. They try to smooth the regression line or minimise the highly correlated parameters. We will look into how they work in coding. First, let us create the data from it. To make it non-linear, the dependent variable is a sine curve of the first independent variable. "
   ]
  },
  {
   "cell_type": "code",
   "execution_count": 260,
   "metadata": {},
   "outputs": [
    {
     "data": {
      "text/plain": [
       "<AxesSubplot:>"
      ]
     },
     "execution_count": 260,
     "metadata": {},
     "output_type": "execute_result"
    },
    {
     "data": {
      "image/png": "[encoded data removed]",
      "text/plain": [
       "<Figure size 432x288 with 2 Axes>"
      ]
     },
     "metadata": {
      "needs_background": "light"
     },
     "output_type": "display_data"
    }
   ],
   "source": [
    "import numpy as np\n",
    "import pandas as pd\n",
    "\n",
    "import scipy.stats as stats\n",
    "\n",
    "import seaborn as sns\n",
    "\n",
    "N = 45\n",
    "\n",
    "X_1 = stats.uniform.rvs(loc=0, scale=3, size=N)\n",
    "X_2 = X_1 + stats.norm.rvs(loc=1, scale=0.05, size=N)\n",
    "X_3 = X_1 ** 3\n",
    "X_4 = 1.5 * X_1\n",
    "X_5 = X_1 + X_3\n",
    "X_6 = X_1 * stats.norm.rvs(loc=1, scale=0.5, size=N)\n",
    "\n",
    "X = pd.DataFrame({\"X_1\": X_1, \"X_2\": X_2, \"X_3\": X_3, \"X_4\": X_4, \"X_5\": X_5, \"X_6\": X_6})\n",
    "y = 2 * np.sin(X_1) + np.sin(stats.norm.rvs(loc=0, scale=0.5, size=N))\n",
    "\n",
    "sns.heatmap(X.corr())"
   ]
  },
  {
   "cell_type": "markdown",
   "metadata": {},
   "source": [
    "As you can see from the heatmap all independent variables are highly correlated. "
   ]
  },
  {
   "cell_type": "markdown",
   "metadata": {},
   "source": [
    "Now let us create an (ordinary) linear regression model. "
   ]
  },
  {
   "cell_type": "code",
   "execution_count": 261,
   "metadata": {},
   "outputs": [],
   "source": [
    "from sklearn import linear_model\n",
    "m0 = linear_model.LinearRegression()\n",
    "results_m0 = m0.fit(X, y)"
   ]
  },
  {
   "cell_type": "markdown",
   "metadata": {},
   "source": [
    "If we plot the model against one of the independent variables, we should find the line is very zig zag. That is because the random fluctuations come from fitting with other independent variables. "
   ]
  },
  {
   "cell_type": "code",
   "execution_count": 262,
   "metadata": {},
   "outputs": [
    {
     "data": {
      "image/png": "[encoded data removed]",
      "text/plain": [
       "<Figure size 432x288 with 1 Axes>"
      ]
     },
     "metadata": {
      "needs_background": "light"
     },
     "output_type": "display_data"
    }
   ],
   "source": [
    "import matplotlib.pyplot as plt\n",
    "\n",
    "plt.figure()\n",
    "plt.scatter(X_1, y)\n",
    "plt.plot(np.sort(X_1), m0.predict(X.sort_values(by='X_1')), c='orange')\n",
    "plt.xlabel('X_1')\n",
    "plt.ylabel('y')\n",
    "plt.show()"
   ]
  },
  {
   "cell_type": "code",
   "execution_count": 263,
   "metadata": {},
   "outputs": [
    {
     "data": {
      "text/plain": [
       "0.6664331554728227"
      ]
     },
     "execution_count": 263,
     "metadata": {},
     "output_type": "execute_result"
    }
   ],
   "source": [
    "results_m0.score(X, y)"
   ]
  },
  {
   "cell_type": "code",
   "execution_count": 264,
   "metadata": {},
   "outputs": [
    {
     "name": "stdout",
     "output_type": "stream",
     "text": [
      "[ 1.0976935  -2.46315345 -0.63248152  1.64654025  0.46521198 -0.04225874] 2.5402269889273468\n"
     ]
    }
   ],
   "source": [
    "print(results_m0.coef_, results_m0.intercept_)"
   ]
  },
  {
   "cell_type": "code",
   "execution_count": 278,
   "metadata": {},
   "outputs": [],
   "source": [
    "m1 = linear_model.Ridge(alpha=0.5).fit(X, y)"
   ]
  },
  {
   "cell_type": "code",
   "execution_count": 279,
   "metadata": {},
   "outputs": [
    {
     "data": {
      "text/plain": [
       "0.6420090247163779"
      ]
     },
     "execution_count": 279,
     "metadata": {},
     "output_type": "execute_result"
    }
   ],
   "source": [
    "m1.score(X, y)"
   ]
  },
  {
   "cell_type": "code",
   "execution_count": 267,
   "metadata": {
    "scrolled": false
   },
   "outputs": [
    {
     "name": "stdout",
     "output_type": "stream",
     "text": [
      "[ 0.4477292  -0.01433385 -0.30877214  0.6715938   0.13895706 -0.04635833] 0.12415231463028431\n"
     ]
    }
   ],
   "source": [
    "print(m1.coef_, m1.intercept_)"
   ]
  },
  {
   "cell_type": "code",
   "execution_count": 268,
   "metadata": {},
   "outputs": [
    {
     "name": "stderr",
     "output_type": "stream",
     "text": [
      "C:\\Users\\jy191\\AppData\\Local\\Temp/ipykernel_14528/3233258672.py:19: UserWarning: Matplotlib is currently using module://matplotlib_inline.backend_inline, which is a non-GUI backend, so cannot show the figure.\n",
      "  fig.show()\n"
     ]
    },
    {
     "data": {
      "image/png": "[encoded data removed]",
      "text/plain": [
       "<Figure size 1080x1080 with 12 Axes>"
      ]
     },
     "metadata": {
      "needs_background": "light"
     },
     "output_type": "display_data"
    }
   ],
   "source": [
    "import matplotlib.pyplot as plt\n",
    "\n",
    "alpha_ridge = [0, 1e-10, 1e-8, 1e-5, 1e-4, 1e-3, 0.1, 1, 5, 10, 50, 100]\n",
    "\n",
    "fig, ax = plt.subplots(6, 2,figsize=(15,15))\n",
    "row_no = 0\n",
    "col_no = 0\n",
    "\n",
    "for row in ax:\n",
    "    col_no = 0\n",
    "    for col in row:\n",
    "        col.title.set_text(f'alpha = {alpha_ridge[row_no * 2 + col_no]}')\n",
    "        col.scatter(X_1, y)\n",
    "        col.plot(np.sort(X_1), linear_model.Ridge(alpha=alpha_ridge[row_no * 2 + col_no]).fit(X, y).predict(X.sort_values(by='X_1')), c='orange')\n",
    "        col_no += 1\n",
    "    row_no += 1\n",
    "    \n",
    "fig.tight_layout()\n",
    "fig.show()"
   ]
  },
  {
   "cell_type": "code",
   "execution_count": 269,
   "metadata": {},
   "outputs": [],
   "source": [
    "m2 = linear_model.Lasso(alpha=0.1).fit(X, y)"
   ]
  },
  {
   "cell_type": "code",
   "execution_count": 270,
   "metadata": {},
   "outputs": [
    {
     "data": {
      "text/plain": [
       "0.5470829635404986"
      ]
     },
     "execution_count": 270,
     "metadata": {},
     "output_type": "execute_result"
    }
   ],
   "source": [
    "m2.score(X, y)"
   ]
  },
  {
   "cell_type": "code",
   "execution_count": 271,
   "metadata": {
    "scrolled": true
   },
   "outputs": [
    {
     "name": "stdout",
     "output_type": "stream",
     "text": [
      "[ 0.          0.         -0.10962287  0.66234492 -0.         -0.        ] 0.5198055043864105\n"
     ]
    }
   ],
   "source": [
    "print(m2.coef_, m2.intercept_)"
   ]
  },
  {
   "cell_type": "code",
   "execution_count": 272,
   "metadata": {},
   "outputs": [],
   "source": [
    "m3 = linear_model.ElasticNet().fit(X, y)"
   ]
  },
  {
   "cell_type": "code",
   "execution_count": 273,
   "metadata": {},
   "outputs": [
    {
     "data": {
      "text/plain": [
       "0.0"
      ]
     },
     "execution_count": 273,
     "metadata": {},
     "output_type": "execute_result"
    }
   ],
   "source": [
    "m3.score(X, y)"
   ]
  },
  {
   "cell_type": "code",
   "execution_count": 274,
   "metadata": {},
   "outputs": [
    {
     "name": "stdout",
     "output_type": "stream",
     "text": [
      "[ 0.  0. -0.  0.  0.  0.] 1.2862086017595542\n"
     ]
    }
   ],
   "source": [
    "print(m3.coef_, m3.intercept_)"
   ]
  },
  {
   "cell_type": "code",
   "execution_count": 275,
   "metadata": {
    "scrolled": false
   },
   "outputs": [
    {
     "data": {
      "text/plain": [
       "(0.6664331554728227, 0.6420090247163779, 0.5470829635404986, 0.0)"
      ]
     },
     "execution_count": 275,
     "metadata": {},
     "output_type": "execute_result"
    }
   ],
   "source": [
    "m0.score(X, y), m1.score(X, y), m2.score(X, y), m3.score(X, y)"
   ]
  },
  {
   "cell_type": "markdown",
   "metadata": {
    "solution2": "hidden",
    "solution2_first": true
   },
   "source": [
    "__Exercise:__ When you finish the exercises in the classification section. Do a \n",
    "\n",
    "* (ordinary) linear regression\n",
    "* ridge regression\n",
    "* Lasso regression\n",
    "* ElasticNet regression\n",
    "\n",
    "with the full model and discuss the scores. "
   ]
  },
  {
   "cell_type": "markdown",
   "metadata": {
    "solution2": "hidden"
   },
   "source": [
    "__Solution:__ \n",
    "\n",
    "The scores are \n",
    "\n",
    "|            | Score       |\n",
    "|------------|-------------|\n",
    "| Ordinary   | 0.612906273 |\n",
    "| Ridge      | 0.612906262 |\n",
    "| Lasso      | 0.612906259 |\n",
    "| ElasticNet | 0.516920054 |\n",
    "\n",
    "Generally this sees a decrease in quality of model. The reason why that the newer models does not outperform the ordinary ones is where \n",
    "\n",
    "* the features are not correlated to each other\n",
    "* The number of data points are sufficiently large compared to number of features. \n",
    "\n",
    "__Code:__\n",
    "```python\n",
    "import pandas as pd\n",
    "from sklearn import linear_model\n",
    "from sklearn import preprocessing\n",
    "\n",
    "df = pd.read_csv('census_ind.csv',index_col='ID')\n",
    "\n",
    "X = df.drop(columns='Salary')\n",
    "y = df['Salary']\n",
    "\n",
    "le = preprocessing.LabelEncoder()\n",
    "le.fit(df['Gender'])\n",
    "X['Gender'] = le.transform(df['Gender'])\n",
    "\n",
    "le = preprocessing.LabelEncoder()\n",
    "le.fit(df['Ethnic'])\n",
    "X['Ethnic'] = le.transform(df['Ethnic'])\n",
    "\n",
    "le = preprocessing.LabelEncoder()\n",
    "le.fit(df['Religion'])\n",
    "X['Religion'] = le.transform(df['Religion'])\n",
    "\n",
    "le = preprocessing.LabelEncoder()\n",
    "le.fit(df['Citizen'])\n",
    "X['Citizen'] = le.transform(df['Citizen'])\n",
    "\n",
    "le = preprocessing.LabelEncoder()\n",
    "le.fit(df['Maternity'])\n",
    "X['Maternity'] = le.transform(df['Maternity'])\n",
    "\n",
    "le = preprocessing.LabelEncoder()\n",
    "le.fit(df['Working'])\n",
    "X['Working'] = le.transform(df['Working'])\n",
    "\n",
    "le = preprocessing.LabelEncoder()\n",
    "le.fit(df['Finding Work'])\n",
    "X['Finding Work'] = le.transform(df['Finding Work'])\n",
    "\n",
    "le = preprocessing.LabelEncoder()\n",
    "le.fit(df['Care of Children'])\n",
    "X['Care of Children'] = le.transform(df['Care of Children'])\n",
    "\n",
    "le = preprocessing.LabelEncoder()\n",
    "le.fit(df['Care of Family'])\n",
    "X['Care of Family'] = le.transform(df['Care of Family'])\n",
    "\n",
    "le = preprocessing.LabelEncoder()\n",
    "le.fit(df['Self Employed'])\n",
    "X['Self Employed'] = le.transform(df['Self Employed'])\n",
    "\n",
    "le = preprocessing.LabelEncoder()\n",
    "le.fit(df['Owned Entity'])\n",
    "X['Owned Entity'] = le.transform(df['Owned Entity'])\n",
    "\n",
    "le = preprocessing.LabelEncoder()\n",
    "le.fit(df['Home Internet'])\n",
    "X['Home Internet'] = le.transform(df['Home Internet'])\n",
    "\n",
    "le = preprocessing.LabelEncoder()\n",
    "le.fit(df['Dwell Type'])\n",
    "X['Dwell Type'] = le.transform(df['Dwell Type'])\n",
    "\n",
    "\n",
    "# OLS\n",
    "print(linear_model.LinearRegression().fit(X, y).score(X, y))\n",
    "# Ridge\n",
    "print(linear_model.Ridge(alpha=0.5).fit(X, y).score(X, y))\n",
    "# Lasso\n",
    "print(linear_model.Lasso(alpha=0.1).fit(X, y).score(X, y))\n",
    "# ElasticNet\n",
    "print(linear_model.ElasticNet().fit(X, y).score(X, y))\n",
    "\n",
    "```"
   ]
  },
  {
   "cell_type": "markdown",
   "metadata": {},
   "source": [
    "## Classification"
   ]
  },
  {
   "cell_type": "markdown",
   "metadata": {},
   "source": [
    "* Logistic Regression\n",
    "* Naive Bayes\n",
    "* Stochastic Gradient Descent\n",
    "* Decision Tree\n",
    "* Random Forest\n",
    "* Support Vector Machine"
   ]
  },
  {
   "cell_type": "markdown",
   "metadata": {},
   "source": [
    "### Example: Interpreting Results using Logistic Regression"
   ]
  },
  {
   "cell_type": "code",
   "execution_count": 5,
   "metadata": {},
   "outputs": [],
   "source": [
    "import pandas as pd\n",
    "df = pd.read_csv('census_ind.csv',index_col='ID')"
   ]
  },
  {
   "cell_type": "code",
   "execution_count": 158,
   "metadata": {},
   "outputs": [],
   "source": [
    "X = df[['Hours of Work', 'Volunteered Hours']]\n",
    "y = df['Working']"
   ]
  },
  {
   "cell_type": "code",
   "execution_count": 52,
   "metadata": {},
   "outputs": [],
   "source": [
    "from sklearn import linear_model\n",
    "log_m = linear_model.LogisticRegression().fit(X, y)"
   ]
  },
  {
   "cell_type": "code",
   "execution_count": 53,
   "metadata": {
    "scrolled": true
   },
   "outputs": [
    {
     "data": {
      "text/plain": [
       "1.0"
      ]
     },
     "execution_count": 53,
     "metadata": {},
     "output_type": "execute_result"
    }
   ],
   "source": [
    "log_m.score(X, y)"
   ]
  },
  {
   "cell_type": "code",
   "execution_count": 54,
   "metadata": {
    "scrolled": true
   },
   "outputs": [
    {
     "data": {
      "text/plain": [
       "array(['Yes', 'Yes', 'Yes', ..., 'No', 'Yes', 'No'], dtype=object)"
      ]
     },
     "execution_count": 54,
     "metadata": {},
     "output_type": "execute_result"
    }
   ],
   "source": [
    "log_m.predict(X)"
   ]
  },
  {
   "cell_type": "code",
   "execution_count": 69,
   "metadata": {},
   "outputs": [],
   "source": [
    "le = preprocessing.LabelEncoder()\n",
    "le.fit(df['Working'])\n",
    "y = le.transform(df['Working'])"
   ]
  },
  {
   "cell_type": "code",
   "execution_count": 76,
   "metadata": {},
   "outputs": [
    {
     "name": "stderr",
     "output_type": "stream",
     "text": [
      "C:\\Users\\jy191\\Anaconda3\\lib\\site-packages\\sklearn\\base.py:445: UserWarning: X does not have valid feature names, but LogisticRegression was fitted with feature names\n",
      "  warnings.warn(\n"
     ]
    },
    {
     "data": {
      "image/png": "[encoded data removed]",
      "text/plain": [
       "<Figure size 432x288 with 1 Axes>"
      ]
     },
     "metadata": {
      "needs_background": "light"
     },
     "output_type": "display_data"
    }
   ],
   "source": [
    "import numpy as np\n",
    "import matplotlib.pyplot as plt\n",
    "\n",
    "plt.figure()\n",
    "plt.scatter(X['Hours of Work'], X['Volunteered Hours'], c=y)\n",
    "\n",
    "# Get decision boundary\n",
    "xx, yy = np.mgrid[-1:60:.01, -1:21:.01]   # Create an empty grid\n",
    "grid = np.c_[xx.ravel(), yy.ravel()]      # Flatten the array\n",
    "probs = log_m.predict_proba(grid)[:, 1].reshape(xx.shape)\n",
    "plt.contour(xx, yy, probs, levels=[.5], cmap=\"Greys\", vmin=0, vmax=1)\n",
    "\n",
    "plt.xlabel('Hours of Work')\n",
    "plt.ylabel('Volunteered Hours')\n",
    "plt.show()"
   ]
  },
  {
   "cell_type": "code",
   "execution_count": 6,
   "metadata": {},
   "outputs": [],
   "source": [
    "X = df.drop(columns=['Salary'])\n",
    "y = df['Salary'] > 50000"
   ]
  },
  {
   "cell_type": "code",
   "execution_count": 7,
   "metadata": {},
   "outputs": [],
   "source": [
    "from sklearn import preprocessing\n",
    "\n",
    "le = preprocessing.LabelEncoder()\n",
    "le.fit(df['Gender'])\n",
    "X['Gender'] = le.transform(df['Gender'])\n",
    "\n",
    "le = preprocessing.LabelEncoder()\n",
    "le.fit(df['Ethnic'])\n",
    "X['Ethnic'] = le.transform(df['Ethnic'])\n",
    "\n",
    "le = preprocessing.LabelEncoder()\n",
    "le.fit(df['Religion'])\n",
    "X['Religion'] = le.transform(df['Religion'])\n",
    "\n",
    "le = preprocessing.LabelEncoder()\n",
    "le.fit(df['Citizen'])\n",
    "X['Citizen'] = le.transform(df['Citizen'])\n",
    "\n",
    "le = preprocessing.LabelEncoder()\n",
    "le.fit(df['Maternity'])\n",
    "X['Maternity'] = le.transform(df['Maternity'])\n",
    "\n",
    "le = preprocessing.LabelEncoder()\n",
    "le.fit(df['Working'])\n",
    "X['Working'] = le.transform(df['Working'])\n",
    "\n",
    "le = preprocessing.LabelEncoder()\n",
    "le.fit(df['Finding Work'])\n",
    "X['Finding Work'] = le.transform(df['Finding Work'])\n",
    "\n",
    "le = preprocessing.LabelEncoder()\n",
    "le.fit(df['Care of Children'])\n",
    "X['Care of Children'] = le.transform(df['Care of Children'])\n",
    "\n",
    "le = preprocessing.LabelEncoder()\n",
    "le.fit(df['Care of Family'])\n",
    "X['Care of Family'] = le.transform(df['Care of Family'])\n",
    "\n",
    "le = preprocessing.LabelEncoder()\n",
    "le.fit(df['Self Employed'])\n",
    "X['Self Employed'] = le.transform(df['Self Employed'])\n",
    "\n",
    "le = preprocessing.LabelEncoder()\n",
    "le.fit(df['Owned Entity'])\n",
    "X['Owned Entity'] = le.transform(df['Owned Entity'])\n",
    "\n",
    "le = preprocessing.LabelEncoder()\n",
    "le.fit(df['Dwell Type'])\n",
    "X['Dwell Type'] = le.transform(df['Dwell Type'])\n",
    "\n",
    "le = preprocessing.LabelEncoder()\n",
    "le.fit(df['Home Internet'])\n",
    "X['Home Internet'] = le.transform(df['Home Internet'])"
   ]
  },
  {
   "cell_type": "code",
   "execution_count": 57,
   "metadata": {},
   "outputs": [
    {
     "name": "stderr",
     "output_type": "stream",
     "text": [
      "C:\\Users\\jy191\\Anaconda3\\lib\\site-packages\\sklearn\\linear_model\\_logistic.py:814: ConvergenceWarning: lbfgs failed to converge (status=1):\n",
      "STOP: TOTAL NO. of ITERATIONS REACHED LIMIT.\n",
      "\n",
      "Increase the number of iterations (max_iter) or scale the data as shown in:\n",
      "    https://scikit-learn.org/stable/modules/preprocessing.html\n",
      "Please also refer to the documentation for alternative solver options:\n",
      "    https://scikit-learn.org/stable/modules/linear_model.html#logistic-regression\n",
      "  n_iter_i = _check_optimize_result(\n"
     ]
    }
   ],
   "source": [
    "log_m1 = linear_model.LogisticRegression().fit(X, y)"
   ]
  },
  {
   "cell_type": "code",
   "execution_count": 19,
   "metadata": {},
   "outputs": [
    {
     "data": {
      "text/plain": [
       "0.9648524744328201"
      ]
     },
     "execution_count": 19,
     "metadata": {},
     "output_type": "execute_result"
    }
   ],
   "source": [
    "log_m1.score(X, y)"
   ]
  },
  {
   "cell_type": "code",
   "execution_count": 20,
   "metadata": {},
   "outputs": [
    {
     "data": {
      "text/plain": [
       "array([[ 0.01586703,  0.0072802 , -0.00273424, -0.02579465, -0.02543603,\n",
       "        -0.01677008, -0.00081009, -0.02423402,  0.03960856,  0.00099168,\n",
       "        -0.01809332,  0.04450425, -0.12714743, -0.00578246, -0.02774402,\n",
       "         0.37030089, -0.00229526, -0.02265816, -0.01150559, -0.0167867 ,\n",
       "        -0.02370565]])"
      ]
     },
     "execution_count": 20,
     "metadata": {},
     "output_type": "execute_result"
    }
   ],
   "source": [
    "log_m1.coef_"
   ]
  },
  {
   "cell_type": "markdown",
   "metadata": {
    "solution2": "hidden",
    "solution2_first": true
   },
   "source": [
    "__Exercise:__ Find out what does the model predicts for the ID 20?"
   ]
  },
  {
   "cell_type": "code",
   "execution_count": 25,
   "metadata": {
    "solution2": "hidden"
   },
   "outputs": [
    {
     "name": "stderr",
     "output_type": "stream",
     "text": [
      "C:\\Users\\jy191\\Anaconda3\\lib\\site-packages\\sklearn\\base.py:445: UserWarning: X does not have valid feature names, but LogisticRegression was fitted with feature names\n",
      "  warnings.warn(\n"
     ]
    },
    {
     "data": {
      "text/plain": [
       "array([False])"
      ]
     },
     "execution_count": 25,
     "metadata": {},
     "output_type": "execute_result"
    }
   ],
   "source": [
    "# Solution\n",
    "log_m1.predict([X.iloc[20,:]])  # Need extrac bracket as param requires 2D array. "
   ]
  },
  {
   "cell_type": "code",
   "execution_count": null,
   "metadata": {},
   "outputs": [],
   "source": [
    "# Your code below\n"
   ]
  },
  {
   "cell_type": "markdown",
   "metadata": {},
   "source": [
    "### Example: Decision Tree"
   ]
  },
  {
   "cell_type": "code",
   "execution_count": 8,
   "metadata": {},
   "outputs": [],
   "source": [
    "from sklearn import tree\n",
    "dt = tree.DecisionTreeClassifier().fit(X, y)"
   ]
  },
  {
   "cell_type": "markdown",
   "metadata": {},
   "source": [
    "```python\n",
    "tree.plot_tree(rf)\n",
    "```"
   ]
  },
  {
   "cell_type": "code",
   "execution_count": 162,
   "metadata": {},
   "outputs": [
    {
     "data": {
      "text/plain": [
       "<AxesSubplot:>"
      ]
     },
     "execution_count": 162,
     "metadata": {},
     "output_type": "execute_result"
    },
    {
     "data": {
      "image/png": "[encoded data removed]",
      "text/plain": [
       "<Figure size 432x288 with 1 Axes>"
      ]
     },
     "metadata": {
      "needs_background": "light"
     },
     "output_type": "display_data"
    }
   ],
   "source": [
    "dt_feature_importances = pd.Series(dt.feature_importances_, index=X.columns)\n",
    "dt_feature_importances.plot.bar()"
   ]
  },
  {
   "cell_type": "code",
   "execution_count": null,
   "metadata": {},
   "outputs": [],
   "source": [
    "dt.feature_importances_"
   ]
  },
  {
   "cell_type": "code",
   "execution_count": null,
   "metadata": {
    "scrolled": false
   },
   "outputs": [],
   "source": [
    "# Visualize the tree\n",
    "from sklearn.tree import export_graphviz\n",
    "import graphviz\n",
    "from IPython.display import display\n",
    "display(graphviz.Source(export_graphviz(dt, feature_names=X.columns)))"
   ]
  },
  {
   "cell_type": "code",
   "execution_count": 63,
   "metadata": {},
   "outputs": [],
   "source": [
    "dt_01 = tree.DecisionTreeClassifier(criterion=\"entropy\", max_depth=3).fit(X, y)"
   ]
  },
  {
   "cell_type": "code",
   "execution_count": 60,
   "metadata": {},
   "outputs": [
    {
     "data": {
      "text/plain": [
       "[Text(209.25, 190.26, 'X[12] <= 0.5\\nentropy = 0.22\\nsamples = 42535\\nvalue = [41040, 1495]'),\n",
       " Text(167.4, 135.9, 'X[15] <= 4.5\\nentropy = 0.309\\nsamples = 27009\\nvalue = [25514, 1495]'),\n",
       " Text(83.7, 81.53999999999999, 'X[0] <= 31.5\\nentropy = 0.222\\nsamples = 19849\\nvalue = [19143, 706]'),\n",
       " Text(41.85, 27.180000000000007, 'entropy = 0.166\\nsamples = 17841\\nvalue = [17404, 437]'),\n",
       " Text(125.55000000000001, 27.180000000000007, 'entropy = 0.568\\nsamples = 2008\\nvalue = [1739, 269]'),\n",
       " Text(251.10000000000002, 81.53999999999999, 'X[17] <= 1.5\\nentropy = 0.501\\nsamples = 7160\\nvalue = [6371, 789]'),\n",
       " Text(209.25, 27.180000000000007, 'entropy = 0.824\\nsamples = 2521\\nvalue = [1870, 651]'),\n",
       " Text(292.95, 27.180000000000007, 'entropy = 0.193\\nsamples = 4639\\nvalue = [4501, 138]'),\n",
       " Text(251.10000000000002, 135.9, 'entropy = 0.0\\nsamples = 15526\\nvalue = [15526, 0]')]"
      ]
     },
     "execution_count": 60,
     "metadata": {},
     "output_type": "execute_result"
    },
    {
     "data": {
      "image/png": "[encoded data removed]",
      "text/plain": [
       "<Figure size 432x288 with 1 Axes>"
      ]
     },
     "metadata": {
      "needs_background": "light"
     },
     "output_type": "display_data"
    }
   ],
   "source": [
    "tree.plot_tree(dt_01)"
   ]
  },
  {
   "cell_type": "code",
   "execution_count": 75,
   "metadata": {},
   "outputs": [
    {
     "data": {
      "text/plain": [
       "<AxesSubplot:>"
      ]
     },
     "execution_count": 75,
     "metadata": {},
     "output_type": "execute_result"
    },
    {
     "data": {
      "image/png": "[encoded data removed]",
      "text/plain": [
       "<Figure size 432x288 with 1 Axes>"
      ]
     },
     "metadata": {
      "needs_background": "light"
     },
     "output_type": "display_data"
    }
   ],
   "source": [
    "dt01_feature_importances = pd.Series(dt_01.feature_importances_, index=X.columns)\n",
    "dt01_feature_importances.plot.bar()"
   ]
  },
  {
   "cell_type": "code",
   "execution_count": 64,
   "metadata": {},
   "outputs": [
    {
     "data": {
      "text/plain": [
       "1.0"
      ]
     },
     "execution_count": 64,
     "metadata": {},
     "output_type": "execute_result"
    }
   ],
   "source": [
    "dt.score(X, y)"
   ]
  },
  {
   "cell_type": "code",
   "execution_count": 65,
   "metadata": {},
   "outputs": [
    {
     "data": {
      "text/plain": [
       "0.9648524744328201"
      ]
     },
     "execution_count": 65,
     "metadata": {},
     "output_type": "execute_result"
    }
   ],
   "source": [
    "dt_01.score(X, y)"
   ]
  },
  {
   "cell_type": "markdown",
   "metadata": {},
   "source": [
    "### Example: Random Forest"
   ]
  },
  {
   "cell_type": "code",
   "execution_count": 66,
   "metadata": {},
   "outputs": [],
   "source": [
    "from sklearn.ensemble import RandomForestClassifier\n",
    "rf = RandomForestClassifier(max_depth=3).fit(X, y)"
   ]
  },
  {
   "cell_type": "code",
   "execution_count": 67,
   "metadata": {},
   "outputs": [
    {
     "data": {
      "text/plain": [
       "0.9648524744328201"
      ]
     },
     "execution_count": 67,
     "metadata": {},
     "output_type": "execute_result"
    }
   ],
   "source": [
    "rf.score(X, y)"
   ]
  },
  {
   "cell_type": "code",
   "execution_count": 74,
   "metadata": {},
   "outputs": [
    {
     "data": {
      "text/plain": [
       "<AxesSubplot:>"
      ]
     },
     "execution_count": 74,
     "metadata": {},
     "output_type": "execute_result"
    },
    {
     "data": {
      "image/png": "[encoded data removed]",
      "text/plain": [
       "<Figure size 432x288 with 1 Axes>"
      ]
     },
     "metadata": {
      "needs_background": "light"
     },
     "output_type": "display_data"
    }
   ],
   "source": [
    "rf_feature_importances = pd.Series(rf.feature_importances_, index=X.columns)\n",
    "rf_feature_importances.plot.bar()"
   ]
  },
  {
   "cell_type": "markdown",
   "metadata": {},
   "source": [
    "### Example: Naive Bayes (Optional)"
   ]
  },
  {
   "cell_type": "code",
   "execution_count": 178,
   "metadata": {},
   "outputs": [],
   "source": [
    "from sklearn.naive_bayes import GaussianNB\n",
    "nnb = GaussianNB().fit(X, y)"
   ]
  },
  {
   "cell_type": "code",
   "execution_count": 8,
   "metadata": {},
   "outputs": [
    {
     "data": {
      "text/plain": [
       "0.43561772657811215"
      ]
     },
     "execution_count": 8,
     "metadata": {},
     "output_type": "execute_result"
    }
   ],
   "source": [
    "nnb.score(X, y)"
   ]
  },
  {
   "cell_type": "code",
   "execution_count": 10,
   "metadata": {},
   "outputs": [
    {
     "data": {
      "text/plain": [
       "array([[0.06438999, 0.93561001],\n",
       "       [0.0106707 , 0.9893293 ],\n",
       "       [0.00602504, 0.99397496],\n",
       "       ...,\n",
       "       [1.        , 0.        ],\n",
       "       [0.01175204, 0.98824796],\n",
       "       [1.        , 0.        ]])"
      ]
     },
     "execution_count": 10,
     "metadata": {},
     "output_type": "execute_result"
    }
   ],
   "source": [
    "nnb.predict_proba(X)"
   ]
  },
  {
   "cell_type": "markdown",
   "metadata": {},
   "source": [
    "### Confusion Matrix (Optional)"
   ]
  },
  {
   "cell_type": "code",
   "execution_count": 11,
   "metadata": {},
   "outputs": [
    {
     "data": {
      "text/plain": [
       "array([[1, 1],\n",
       "       [1, 1]], dtype=int64)"
      ]
     },
     "execution_count": 11,
     "metadata": {},
     "output_type": "execute_result"
    }
   ],
   "source": [
    "from sklearn.metrics import confusion_matrix\n",
    "\n",
    "y_true = [1, 1, 0, 0]\n",
    "y_pred = [1, 0, 1, 0]\n",
    "\n",
    "confusion_matrix(y_true, y_pred)"
   ]
  },
  {
   "cell_type": "code",
   "execution_count": 15,
   "metadata": {},
   "outputs": [
    {
     "data": {
      "image/png": "[encoded data removed]",
      "text/plain": [
       "<Figure size 288x288 with 1 Axes>"
      ]
     },
     "metadata": {
      "needs_background": "light"
     },
     "output_type": "display_data"
    }
   ],
   "source": [
    "import matplotlib.pyplot as plt\n",
    "\n",
    "plt.matshow(confusion_matrix(y_true, y_pred))\n",
    "plt.show()"
   ]
  },
  {
   "cell_type": "code",
   "execution_count": 59,
   "metadata": {
    "scrolled": true
   },
   "outputs": [
    {
     "data": {
      "text/plain": [
       "<sklearn.metrics._plot.confusion_matrix.ConfusionMatrixDisplay at 0x218f98c22b0>"
      ]
     },
     "execution_count": 59,
     "metadata": {},
     "output_type": "execute_result"
    },
    {
     "data": {
      "image/png": "[encoded data removed]",
      "text/plain": [
       "<Figure size 432x288 with 2 Axes>"
      ]
     },
     "metadata": {
      "needs_background": "light"
     },
     "output_type": "display_data"
    }
   ],
   "source": [
    "from sklearn.metrics import ConfusionMatrixDisplay\n",
    "\n",
    "ConfusionMatrixDisplay.from_estimator(log_m1, X, y)"
   ]
  },
  {
   "cell_type": "markdown",
   "metadata": {},
   "source": [
    "### Train, Test and Validation Set and Cross Validation (Optional)"
   ]
  },
  {
   "cell_type": "code",
   "execution_count": 22,
   "metadata": {
    "scrolled": true
   },
   "outputs": [
    {
     "data": {
      "text/html": [
       "<div>\n",
       "<style scoped>\n",
       "    .dataframe tbody tr th:only-of-type {\n",
       "        vertical-align: middle;\n",
       "    }\n",
       "\n",
       "    .dataframe tbody tr th {\n",
       "        vertical-align: top;\n",
       "    }\n",
       "\n",
       "    .dataframe thead th {\n",
       "        text-align: right;\n",
       "    }\n",
       "</style>\n",
       "<table border=\"1\" class=\"dataframe\">\n",
       "  <thead>\n",
       "    <tr style=\"text-align: right;\">\n",
       "      <th></th>\n",
       "      <th>Age</th>\n",
       "      <th>Gender</th>\n",
       "      <th>Location</th>\n",
       "      <th>Ethnic</th>\n",
       "      <th>Religion</th>\n",
       "      <th>Citizen</th>\n",
       "      <th>English Proficiency</th>\n",
       "      <th>Maternity</th>\n",
       "      <th>Working</th>\n",
       "      <th>Self Employed</th>\n",
       "      <th>...</th>\n",
       "      <th>Hours of Work</th>\n",
       "      <th>Finding Work</th>\n",
       "      <th>Care of Children</th>\n",
       "      <th>Care of Family</th>\n",
       "      <th>Domestic Activities Hours</th>\n",
       "      <th>Volunteered Hours</th>\n",
       "      <th>Education Level</th>\n",
       "      <th>Family</th>\n",
       "      <th>Home Internet</th>\n",
       "      <th>Dwell Type</th>\n",
       "    </tr>\n",
       "    <tr>\n",
       "      <th>ID</th>\n",
       "      <th></th>\n",
       "      <th></th>\n",
       "      <th></th>\n",
       "      <th></th>\n",
       "      <th></th>\n",
       "      <th></th>\n",
       "      <th></th>\n",
       "      <th></th>\n",
       "      <th></th>\n",
       "      <th></th>\n",
       "      <th></th>\n",
       "      <th></th>\n",
       "      <th></th>\n",
       "      <th></th>\n",
       "      <th></th>\n",
       "      <th></th>\n",
       "      <th></th>\n",
       "      <th></th>\n",
       "      <th></th>\n",
       "      <th></th>\n",
       "      <th></th>\n",
       "    </tr>\n",
       "  </thead>\n",
       "  <tbody>\n",
       "    <tr>\n",
       "      <th>0</th>\n",
       "      <td>26</td>\n",
       "      <td>0</td>\n",
       "      <td>2135</td>\n",
       "      <td>5</td>\n",
       "      <td>0</td>\n",
       "      <td>1</td>\n",
       "      <td>0.0</td>\n",
       "      <td>0</td>\n",
       "      <td>1</td>\n",
       "      <td>0</td>\n",
       "      <td>...</td>\n",
       "      <td>39.365005</td>\n",
       "      <td>0</td>\n",
       "      <td>32</td>\n",
       "      <td>2</td>\n",
       "      <td>4</td>\n",
       "      <td>7</td>\n",
       "      <td>6.0</td>\n",
       "      <td>2</td>\n",
       "      <td>1</td>\n",
       "      <td>4</td>\n",
       "    </tr>\n",
       "    <tr>\n",
       "      <th>1</th>\n",
       "      <td>21</td>\n",
       "      <td>1</td>\n",
       "      <td>2038</td>\n",
       "      <td>5</td>\n",
       "      <td>1</td>\n",
       "      <td>1</td>\n",
       "      <td>0.0</td>\n",
       "      <td>0</td>\n",
       "      <td>1</td>\n",
       "      <td>1</td>\n",
       "      <td>...</td>\n",
       "      <td>42.792924</td>\n",
       "      <td>0</td>\n",
       "      <td>33</td>\n",
       "      <td>2</td>\n",
       "      <td>3</td>\n",
       "      <td>9</td>\n",
       "      <td>8.0</td>\n",
       "      <td>2</td>\n",
       "      <td>1</td>\n",
       "      <td>1</td>\n",
       "    </tr>\n",
       "    <tr>\n",
       "      <th>2</th>\n",
       "      <td>28</td>\n",
       "      <td>0</td>\n",
       "      <td>2044</td>\n",
       "      <td>7</td>\n",
       "      <td>0</td>\n",
       "      <td>0</td>\n",
       "      <td>4.0</td>\n",
       "      <td>0</td>\n",
       "      <td>1</td>\n",
       "      <td>1</td>\n",
       "      <td>...</td>\n",
       "      <td>31.934240</td>\n",
       "      <td>0</td>\n",
       "      <td>32</td>\n",
       "      <td>2</td>\n",
       "      <td>5</td>\n",
       "      <td>13</td>\n",
       "      <td>7.0</td>\n",
       "      <td>3</td>\n",
       "      <td>1</td>\n",
       "      <td>4</td>\n",
       "    </tr>\n",
       "    <tr>\n",
       "      <th>3</th>\n",
       "      <td>26</td>\n",
       "      <td>0</td>\n",
       "      <td>2126</td>\n",
       "      <td>2</td>\n",
       "      <td>1</td>\n",
       "      <td>1</td>\n",
       "      <td>0.0</td>\n",
       "      <td>0</td>\n",
       "      <td>1</td>\n",
       "      <td>0</td>\n",
       "      <td>...</td>\n",
       "      <td>38.265747</td>\n",
       "      <td>0</td>\n",
       "      <td>36</td>\n",
       "      <td>2</td>\n",
       "      <td>4</td>\n",
       "      <td>11</td>\n",
       "      <td>1.0</td>\n",
       "      <td>2</td>\n",
       "      <td>1</td>\n",
       "      <td>2</td>\n",
       "    </tr>\n",
       "    <tr>\n",
       "      <th>4</th>\n",
       "      <td>20</td>\n",
       "      <td>2</td>\n",
       "      <td>2177</td>\n",
       "      <td>4</td>\n",
       "      <td>0</td>\n",
       "      <td>1</td>\n",
       "      <td>3.0</td>\n",
       "      <td>1</td>\n",
       "      <td>1</td>\n",
       "      <td>1</td>\n",
       "      <td>...</td>\n",
       "      <td>49.572851</td>\n",
       "      <td>0</td>\n",
       "      <td>12</td>\n",
       "      <td>2</td>\n",
       "      <td>2</td>\n",
       "      <td>14</td>\n",
       "      <td>10.0</td>\n",
       "      <td>0</td>\n",
       "      <td>1</td>\n",
       "      <td>0</td>\n",
       "    </tr>\n",
       "    <tr>\n",
       "      <th>...</th>\n",
       "      <td>...</td>\n",
       "      <td>...</td>\n",
       "      <td>...</td>\n",
       "      <td>...</td>\n",
       "      <td>...</td>\n",
       "      <td>...</td>\n",
       "      <td>...</td>\n",
       "      <td>...</td>\n",
       "      <td>...</td>\n",
       "      <td>...</td>\n",
       "      <td>...</td>\n",
       "      <td>...</td>\n",
       "      <td>...</td>\n",
       "      <td>...</td>\n",
       "      <td>...</td>\n",
       "      <td>...</td>\n",
       "      <td>...</td>\n",
       "      <td>...</td>\n",
       "      <td>...</td>\n",
       "      <td>...</td>\n",
       "      <td>...</td>\n",
       "    </tr>\n",
       "    <tr>\n",
       "      <th>42530</th>\n",
       "      <td>24</td>\n",
       "      <td>1</td>\n",
       "      <td>2070</td>\n",
       "      <td>5</td>\n",
       "      <td>2</td>\n",
       "      <td>1</td>\n",
       "      <td>0.0</td>\n",
       "      <td>0</td>\n",
       "      <td>0</td>\n",
       "      <td>0</td>\n",
       "      <td>...</td>\n",
       "      <td>0.000000</td>\n",
       "      <td>1</td>\n",
       "      <td>32</td>\n",
       "      <td>2</td>\n",
       "      <td>3</td>\n",
       "      <td>12</td>\n",
       "      <td>3.0</td>\n",
       "      <td>2</td>\n",
       "      <td>1</td>\n",
       "      <td>4</td>\n",
       "    </tr>\n",
       "    <tr>\n",
       "      <th>42531</th>\n",
       "      <td>31</td>\n",
       "      <td>0</td>\n",
       "      <td>2093</td>\n",
       "      <td>5</td>\n",
       "      <td>1</td>\n",
       "      <td>1</td>\n",
       "      <td>0.0</td>\n",
       "      <td>1</td>\n",
       "      <td>0</td>\n",
       "      <td>0</td>\n",
       "      <td>...</td>\n",
       "      <td>0.000000</td>\n",
       "      <td>1</td>\n",
       "      <td>12</td>\n",
       "      <td>1</td>\n",
       "      <td>2</td>\n",
       "      <td>7</td>\n",
       "      <td>8.0</td>\n",
       "      <td>0</td>\n",
       "      <td>1</td>\n",
       "      <td>4</td>\n",
       "    </tr>\n",
       "    <tr>\n",
       "      <th>42532</th>\n",
       "      <td>19</td>\n",
       "      <td>0</td>\n",
       "      <td>2149</td>\n",
       "      <td>7</td>\n",
       "      <td>1</td>\n",
       "      <td>1</td>\n",
       "      <td>4.0</td>\n",
       "      <td>1</td>\n",
       "      <td>0</td>\n",
       "      <td>0</td>\n",
       "      <td>...</td>\n",
       "      <td>0.000000</td>\n",
       "      <td>1</td>\n",
       "      <td>16</td>\n",
       "      <td>2</td>\n",
       "      <td>2</td>\n",
       "      <td>10</td>\n",
       "      <td>7.0</td>\n",
       "      <td>1</td>\n",
       "      <td>1</td>\n",
       "      <td>3</td>\n",
       "    </tr>\n",
       "    <tr>\n",
       "      <th>42533</th>\n",
       "      <td>21</td>\n",
       "      <td>0</td>\n",
       "      <td>2110</td>\n",
       "      <td>2</td>\n",
       "      <td>1</td>\n",
       "      <td>1</td>\n",
       "      <td>0.0</td>\n",
       "      <td>0</td>\n",
       "      <td>1</td>\n",
       "      <td>1</td>\n",
       "      <td>...</td>\n",
       "      <td>34.549397</td>\n",
       "      <td>0</td>\n",
       "      <td>31</td>\n",
       "      <td>3</td>\n",
       "      <td>1</td>\n",
       "      <td>5</td>\n",
       "      <td>1.0</td>\n",
       "      <td>3</td>\n",
       "      <td>1</td>\n",
       "      <td>1</td>\n",
       "    </tr>\n",
       "    <tr>\n",
       "      <th>42534</th>\n",
       "      <td>22</td>\n",
       "      <td>0</td>\n",
       "      <td>2114</td>\n",
       "      <td>7</td>\n",
       "      <td>0</td>\n",
       "      <td>1</td>\n",
       "      <td>4.0</td>\n",
       "      <td>1</td>\n",
       "      <td>0</td>\n",
       "      <td>0</td>\n",
       "      <td>...</td>\n",
       "      <td>0.000000</td>\n",
       "      <td>1</td>\n",
       "      <td>15</td>\n",
       "      <td>1</td>\n",
       "      <td>4</td>\n",
       "      <td>10</td>\n",
       "      <td>5.0</td>\n",
       "      <td>2</td>\n",
       "      <td>1</td>\n",
       "      <td>2</td>\n",
       "    </tr>\n",
       "  </tbody>\n",
       "</table>\n",
       "<p>42535 rows × 21 columns</p>\n",
       "</div>"
      ],
      "text/plain": [
       "       Age  Gender  Location  Ethnic  Religion  Citizen  English Proficiency  \\\n",
       "ID                                                                             \n",
       "0       26       0      2135       5         0        1                  0.0   \n",
       "1       21       1      2038       5         1        1                  0.0   \n",
       "2       28       0      2044       7         0        0                  4.0   \n",
       "3       26       0      2126       2         1        1                  0.0   \n",
       "4       20       2      2177       4         0        1                  3.0   \n",
       "...    ...     ...       ...     ...       ...      ...                  ...   \n",
       "42530   24       1      2070       5         2        1                  0.0   \n",
       "42531   31       0      2093       5         1        1                  0.0   \n",
       "42532   19       0      2149       7         1        1                  4.0   \n",
       "42533   21       0      2110       2         1        1                  0.0   \n",
       "42534   22       0      2114       7         0        1                  4.0   \n",
       "\n",
       "       Maternity  Working  Self Employed  ...  Hours of Work  Finding Work  \\\n",
       "ID                                        ...                                \n",
       "0              0        1              0  ...      39.365005             0   \n",
       "1              0        1              1  ...      42.792924             0   \n",
       "2              0        1              1  ...      31.934240             0   \n",
       "3              0        1              0  ...      38.265747             0   \n",
       "4              1        1              1  ...      49.572851             0   \n",
       "...          ...      ...            ...  ...            ...           ...   \n",
       "42530          0        0              0  ...       0.000000             1   \n",
       "42531          1        0              0  ...       0.000000             1   \n",
       "42532          1        0              0  ...       0.000000             1   \n",
       "42533          0        1              1  ...      34.549397             0   \n",
       "42534          1        0              0  ...       0.000000             1   \n",
       "\n",
       "       Care of Children  Care of Family  Domestic Activities Hours  \\\n",
       "ID                                                                   \n",
       "0                    32               2                          4   \n",
       "1                    33               2                          3   \n",
       "2                    32               2                          5   \n",
       "3                    36               2                          4   \n",
       "4                    12               2                          2   \n",
       "...                 ...             ...                        ...   \n",
       "42530                32               2                          3   \n",
       "42531                12               1                          2   \n",
       "42532                16               2                          2   \n",
       "42533                31               3                          1   \n",
       "42534                15               1                          4   \n",
       "\n",
       "       Volunteered Hours  Education Level  Family  Home Internet  Dwell Type  \n",
       "ID                                                                            \n",
       "0                      7              6.0       2              1           4  \n",
       "1                      9              8.0       2              1           1  \n",
       "2                     13              7.0       3              1           4  \n",
       "3                     11              1.0       2              1           2  \n",
       "4                     14             10.0       0              1           0  \n",
       "...                  ...              ...     ...            ...         ...  \n",
       "42530                 12              3.0       2              1           4  \n",
       "42531                  7              8.0       0              1           4  \n",
       "42532                 10              7.0       1              1           3  \n",
       "42533                  5              1.0       3              1           1  \n",
       "42534                 10              5.0       2              1           2  \n",
       "\n",
       "[42535 rows x 21 columns]"
      ]
     },
     "execution_count": 22,
     "metadata": {},
     "output_type": "execute_result"
    }
   ],
   "source": [
    "X"
   ]
  },
  {
   "cell_type": "code",
   "execution_count": 14,
   "metadata": {},
   "outputs": [
    {
     "data": {
      "text/plain": [
       "([[2, 'c', 2], [0, 'a', 2]], [[1, 'b', 2]], [0, 0], [0])"
      ]
     },
     "execution_count": 14,
     "metadata": {},
     "output_type": "execute_result"
    }
   ],
   "source": [
    "from sklearn.model_selection import train_test_split\n",
    "\n",
    "X_alt = [[0, 'a', 2], [1, 'b', 2], [2, 'c', 2]]\n",
    "y_alt = [0, 0, 0]\n",
    "\n",
    "X_train, X_test, y_train, y_test = train_test_split(X_alt, y_alt)\n",
    "X_train, X_test, y_train, y_test"
   ]
  },
  {
   "cell_type": "markdown",
   "metadata": {},
   "source": [
    "If you run the above code again, you will see the splited data becomes different. This is because the function will split the data randomly again. "
   ]
  },
  {
   "cell_type": "markdown",
   "metadata": {},
   "source": [
    "Let's try this on the example that we used in this week. "
   ]
  },
  {
   "cell_type": "code",
   "execution_count": 15,
   "metadata": {},
   "outputs": [],
   "source": [
    "X_train, X_test, y_train, y_test = train_test_split(X, y)"
   ]
  },
  {
   "cell_type": "code",
   "execution_count": 30,
   "metadata": {
    "scrolled": true
   },
   "outputs": [
    {
     "data": {
      "text/html": [
       "<div>\n",
       "<style scoped>\n",
       "    .dataframe tbody tr th:only-of-type {\n",
       "        vertical-align: middle;\n",
       "    }\n",
       "\n",
       "    .dataframe tbody tr th {\n",
       "        vertical-align: top;\n",
       "    }\n",
       "\n",
       "    .dataframe thead th {\n",
       "        text-align: right;\n",
       "    }\n",
       "</style>\n",
       "<table border=\"1\" class=\"dataframe\">\n",
       "  <thead>\n",
       "    <tr style=\"text-align: right;\">\n",
       "      <th></th>\n",
       "      <th>Age</th>\n",
       "      <th>Gender</th>\n",
       "      <th>Location</th>\n",
       "      <th>Ethnic</th>\n",
       "      <th>Religion</th>\n",
       "      <th>Citizen</th>\n",
       "      <th>English Proficiency</th>\n",
       "      <th>Maternity</th>\n",
       "      <th>Working</th>\n",
       "      <th>Self Employed</th>\n",
       "      <th>...</th>\n",
       "      <th>Hours of Work</th>\n",
       "      <th>Finding Work</th>\n",
       "      <th>Care of Children</th>\n",
       "      <th>Care of Family</th>\n",
       "      <th>Domestic Activities Hours</th>\n",
       "      <th>Volunteered Hours</th>\n",
       "      <th>Education Level</th>\n",
       "      <th>Family</th>\n",
       "      <th>Home Internet</th>\n",
       "      <th>Dwell Type</th>\n",
       "    </tr>\n",
       "    <tr>\n",
       "      <th>ID</th>\n",
       "      <th></th>\n",
       "      <th></th>\n",
       "      <th></th>\n",
       "      <th></th>\n",
       "      <th></th>\n",
       "      <th></th>\n",
       "      <th></th>\n",
       "      <th></th>\n",
       "      <th></th>\n",
       "      <th></th>\n",
       "      <th></th>\n",
       "      <th></th>\n",
       "      <th></th>\n",
       "      <th></th>\n",
       "      <th></th>\n",
       "      <th></th>\n",
       "      <th></th>\n",
       "      <th></th>\n",
       "      <th></th>\n",
       "      <th></th>\n",
       "      <th></th>\n",
       "    </tr>\n",
       "  </thead>\n",
       "  <tbody>\n",
       "    <tr>\n",
       "      <th>11796</th>\n",
       "      <td>23</td>\n",
       "      <td>0</td>\n",
       "      <td>2002</td>\n",
       "      <td>6</td>\n",
       "      <td>1</td>\n",
       "      <td>0</td>\n",
       "      <td>1.0</td>\n",
       "      <td>0</td>\n",
       "      <td>1</td>\n",
       "      <td>0</td>\n",
       "      <td>...</td>\n",
       "      <td>29.665665</td>\n",
       "      <td>0</td>\n",
       "      <td>33</td>\n",
       "      <td>0</td>\n",
       "      <td>3</td>\n",
       "      <td>6</td>\n",
       "      <td>8.0</td>\n",
       "      <td>1</td>\n",
       "      <td>1</td>\n",
       "      <td>3</td>\n",
       "    </tr>\n",
       "    <tr>\n",
       "      <th>20545</th>\n",
       "      <td>22</td>\n",
       "      <td>1</td>\n",
       "      <td>2020</td>\n",
       "      <td>5</td>\n",
       "      <td>2</td>\n",
       "      <td>0</td>\n",
       "      <td>0.0</td>\n",
       "      <td>0</td>\n",
       "      <td>0</td>\n",
       "      <td>0</td>\n",
       "      <td>...</td>\n",
       "      <td>0.000000</td>\n",
       "      <td>1</td>\n",
       "      <td>35</td>\n",
       "      <td>2</td>\n",
       "      <td>5</td>\n",
       "      <td>7</td>\n",
       "      <td>1.0</td>\n",
       "      <td>2</td>\n",
       "      <td>1</td>\n",
       "      <td>4</td>\n",
       "    </tr>\n",
       "    <tr>\n",
       "      <th>33807</th>\n",
       "      <td>28</td>\n",
       "      <td>2</td>\n",
       "      <td>2197</td>\n",
       "      <td>5</td>\n",
       "      <td>0</td>\n",
       "      <td>1</td>\n",
       "      <td>0.0</td>\n",
       "      <td>0</td>\n",
       "      <td>0</td>\n",
       "      <td>0</td>\n",
       "      <td>...</td>\n",
       "      <td>0.000000</td>\n",
       "      <td>1</td>\n",
       "      <td>35</td>\n",
       "      <td>2</td>\n",
       "      <td>4</td>\n",
       "      <td>8</td>\n",
       "      <td>1.0</td>\n",
       "      <td>2</td>\n",
       "      <td>1</td>\n",
       "      <td>4</td>\n",
       "    </tr>\n",
       "    <tr>\n",
       "      <th>35792</th>\n",
       "      <td>26</td>\n",
       "      <td>1</td>\n",
       "      <td>2212</td>\n",
       "      <td>5</td>\n",
       "      <td>0</td>\n",
       "      <td>1</td>\n",
       "      <td>0.0</td>\n",
       "      <td>1</td>\n",
       "      <td>0</td>\n",
       "      <td>0</td>\n",
       "      <td>...</td>\n",
       "      <td>0.000000</td>\n",
       "      <td>1</td>\n",
       "      <td>9</td>\n",
       "      <td>3</td>\n",
       "      <td>3</td>\n",
       "      <td>8</td>\n",
       "      <td>3.0</td>\n",
       "      <td>1</td>\n",
       "      <td>1</td>\n",
       "      <td>4</td>\n",
       "    </tr>\n",
       "    <tr>\n",
       "      <th>42494</th>\n",
       "      <td>19</td>\n",
       "      <td>1</td>\n",
       "      <td>2500</td>\n",
       "      <td>7</td>\n",
       "      <td>1</td>\n",
       "      <td>1</td>\n",
       "      <td>4.0</td>\n",
       "      <td>0</td>\n",
       "      <td>0</td>\n",
       "      <td>0</td>\n",
       "      <td>...</td>\n",
       "      <td>0.000000</td>\n",
       "      <td>1</td>\n",
       "      <td>34</td>\n",
       "      <td>3</td>\n",
       "      <td>6</td>\n",
       "      <td>5</td>\n",
       "      <td>4.0</td>\n",
       "      <td>1</td>\n",
       "      <td>1</td>\n",
       "      <td>4</td>\n",
       "    </tr>\n",
       "    <tr>\n",
       "      <th>...</th>\n",
       "      <td>...</td>\n",
       "      <td>...</td>\n",
       "      <td>...</td>\n",
       "      <td>...</td>\n",
       "      <td>...</td>\n",
       "      <td>...</td>\n",
       "      <td>...</td>\n",
       "      <td>...</td>\n",
       "      <td>...</td>\n",
       "      <td>...</td>\n",
       "      <td>...</td>\n",
       "      <td>...</td>\n",
       "      <td>...</td>\n",
       "      <td>...</td>\n",
       "      <td>...</td>\n",
       "      <td>...</td>\n",
       "      <td>...</td>\n",
       "      <td>...</td>\n",
       "      <td>...</td>\n",
       "      <td>...</td>\n",
       "      <td>...</td>\n",
       "    </tr>\n",
       "    <tr>\n",
       "      <th>591</th>\n",
       "      <td>25</td>\n",
       "      <td>0</td>\n",
       "      <td>2075</td>\n",
       "      <td>5</td>\n",
       "      <td>1</td>\n",
       "      <td>1</td>\n",
       "      <td>0.0</td>\n",
       "      <td>0</td>\n",
       "      <td>1</td>\n",
       "      <td>0</td>\n",
       "      <td>...</td>\n",
       "      <td>32.078482</td>\n",
       "      <td>0</td>\n",
       "      <td>34</td>\n",
       "      <td>4</td>\n",
       "      <td>2</td>\n",
       "      <td>6</td>\n",
       "      <td>9.0</td>\n",
       "      <td>1</td>\n",
       "      <td>1</td>\n",
       "      <td>2</td>\n",
       "    </tr>\n",
       "    <tr>\n",
       "      <th>29211</th>\n",
       "      <td>17</td>\n",
       "      <td>0</td>\n",
       "      <td>2005</td>\n",
       "      <td>6</td>\n",
       "      <td>0</td>\n",
       "      <td>0</td>\n",
       "      <td>2.0</td>\n",
       "      <td>0</td>\n",
       "      <td>0</td>\n",
       "      <td>0</td>\n",
       "      <td>...</td>\n",
       "      <td>0.000000</td>\n",
       "      <td>1</td>\n",
       "      <td>32</td>\n",
       "      <td>2</td>\n",
       "      <td>4</td>\n",
       "      <td>3</td>\n",
       "      <td>10.0</td>\n",
       "      <td>1</td>\n",
       "      <td>1</td>\n",
       "      <td>3</td>\n",
       "    </tr>\n",
       "    <tr>\n",
       "      <th>24154</th>\n",
       "      <td>27</td>\n",
       "      <td>0</td>\n",
       "      <td>2017</td>\n",
       "      <td>5</td>\n",
       "      <td>2</td>\n",
       "      <td>1</td>\n",
       "      <td>0.0</td>\n",
       "      <td>0</td>\n",
       "      <td>1</td>\n",
       "      <td>0</td>\n",
       "      <td>...</td>\n",
       "      <td>29.411981</td>\n",
       "      <td>0</td>\n",
       "      <td>33</td>\n",
       "      <td>1</td>\n",
       "      <td>3</td>\n",
       "      <td>4</td>\n",
       "      <td>10.0</td>\n",
       "      <td>2</td>\n",
       "      <td>1</td>\n",
       "      <td>4</td>\n",
       "    </tr>\n",
       "    <tr>\n",
       "      <th>11914</th>\n",
       "      <td>34</td>\n",
       "      <td>1</td>\n",
       "      <td>2012</td>\n",
       "      <td>5</td>\n",
       "      <td>0</td>\n",
       "      <td>1</td>\n",
       "      <td>0.0</td>\n",
       "      <td>1</td>\n",
       "      <td>0</td>\n",
       "      <td>0</td>\n",
       "      <td>...</td>\n",
       "      <td>0.000000</td>\n",
       "      <td>1</td>\n",
       "      <td>15</td>\n",
       "      <td>2</td>\n",
       "      <td>3</td>\n",
       "      <td>9</td>\n",
       "      <td>1.0</td>\n",
       "      <td>0</td>\n",
       "      <td>1</td>\n",
       "      <td>4</td>\n",
       "    </tr>\n",
       "    <tr>\n",
       "      <th>32419</th>\n",
       "      <td>33</td>\n",
       "      <td>1</td>\n",
       "      <td>2155</td>\n",
       "      <td>5</td>\n",
       "      <td>0</td>\n",
       "      <td>1</td>\n",
       "      <td>0.0</td>\n",
       "      <td>0</td>\n",
       "      <td>1</td>\n",
       "      <td>1</td>\n",
       "      <td>...</td>\n",
       "      <td>42.984010</td>\n",
       "      <td>0</td>\n",
       "      <td>34</td>\n",
       "      <td>2</td>\n",
       "      <td>3</td>\n",
       "      <td>8</td>\n",
       "      <td>8.0</td>\n",
       "      <td>1</td>\n",
       "      <td>1</td>\n",
       "      <td>4</td>\n",
       "    </tr>\n",
       "  </tbody>\n",
       "</table>\n",
       "<p>31901 rows × 21 columns</p>\n",
       "</div>"
      ],
      "text/plain": [
       "       Age  Gender  Location  Ethnic  Religion  Citizen  English Proficiency  \\\n",
       "ID                                                                             \n",
       "11796   23       0      2002       6         1        0                  1.0   \n",
       "20545   22       1      2020       5         2        0                  0.0   \n",
       "33807   28       2      2197       5         0        1                  0.0   \n",
       "35792   26       1      2212       5         0        1                  0.0   \n",
       "42494   19       1      2500       7         1        1                  4.0   \n",
       "...    ...     ...       ...     ...       ...      ...                  ...   \n",
       "591     25       0      2075       5         1        1                  0.0   \n",
       "29211   17       0      2005       6         0        0                  2.0   \n",
       "24154   27       0      2017       5         2        1                  0.0   \n",
       "11914   34       1      2012       5         0        1                  0.0   \n",
       "32419   33       1      2155       5         0        1                  0.0   \n",
       "\n",
       "       Maternity  Working  Self Employed  ...  Hours of Work  Finding Work  \\\n",
       "ID                                        ...                                \n",
       "11796          0        1              0  ...      29.665665             0   \n",
       "20545          0        0              0  ...       0.000000             1   \n",
       "33807          0        0              0  ...       0.000000             1   \n",
       "35792          1        0              0  ...       0.000000             1   \n",
       "42494          0        0              0  ...       0.000000             1   \n",
       "...          ...      ...            ...  ...            ...           ...   \n",
       "591            0        1              0  ...      32.078482             0   \n",
       "29211          0        0              0  ...       0.000000             1   \n",
       "24154          0        1              0  ...      29.411981             0   \n",
       "11914          1        0              0  ...       0.000000             1   \n",
       "32419          0        1              1  ...      42.984010             0   \n",
       "\n",
       "       Care of Children  Care of Family  Domestic Activities Hours  \\\n",
       "ID                                                                   \n",
       "11796                33               0                          3   \n",
       "20545                35               2                          5   \n",
       "33807                35               2                          4   \n",
       "35792                 9               3                          3   \n",
       "42494                34               3                          6   \n",
       "...                 ...             ...                        ...   \n",
       "591                  34               4                          2   \n",
       "29211                32               2                          4   \n",
       "24154                33               1                          3   \n",
       "11914                15               2                          3   \n",
       "32419                34               2                          3   \n",
       "\n",
       "       Volunteered Hours  Education Level  Family  Home Internet  Dwell Type  \n",
       "ID                                                                            \n",
       "11796                  6              8.0       1              1           3  \n",
       "20545                  7              1.0       2              1           4  \n",
       "33807                  8              1.0       2              1           4  \n",
       "35792                  8              3.0       1              1           4  \n",
       "42494                  5              4.0       1              1           4  \n",
       "...                  ...              ...     ...            ...         ...  \n",
       "591                    6              9.0       1              1           2  \n",
       "29211                  3             10.0       1              1           3  \n",
       "24154                  4             10.0       2              1           4  \n",
       "11914                  9              1.0       0              1           4  \n",
       "32419                  8              8.0       1              1           4  \n",
       "\n",
       "[31901 rows x 21 columns]"
      ]
     },
     "execution_count": 30,
     "metadata": {},
     "output_type": "execute_result"
    }
   ],
   "source": [
    "X_train"
   ]
  },
  {
   "cell_type": "code",
   "execution_count": 37,
   "metadata": {
    "scrolled": true
   },
   "outputs": [
    {
     "name": "stderr",
     "output_type": "stream",
     "text": [
      "C:\\Users\\jy191\\Anaconda3\\lib\\site-packages\\sklearn\\linear_model\\_logistic.py:814: ConvergenceWarning: lbfgs failed to converge (status=1):\n",
      "STOP: TOTAL NO. of ITERATIONS REACHED LIMIT.\n",
      "\n",
      "Increase the number of iterations (max_iter) or scale the data as shown in:\n",
      "    https://scikit-learn.org/stable/modules/preprocessing.html\n",
      "Please also refer to the documentation for alternative solver options:\n",
      "    https://scikit-learn.org/stable/modules/linear_model.html#logistic-regression\n",
      "  n_iter_i = _check_optimize_result(\n"
     ]
    }
   ],
   "source": [
    "from sklearn import linear_model\n",
    "m0 = linear_model.LogisticRegression().fit(X_train, y_train)"
   ]
  },
  {
   "cell_type": "code",
   "execution_count": 38,
   "metadata": {
    "scrolled": true
   },
   "outputs": [
    {
     "data": {
      "text/plain": [
       "0.965236199492179"
      ]
     },
     "execution_count": 38,
     "metadata": {},
     "output_type": "execute_result"
    }
   ],
   "source": [
    "m0.score(X_train, y_train)"
   ]
  },
  {
   "cell_type": "code",
   "execution_count": 39,
   "metadata": {},
   "outputs": [
    {
     "data": {
      "text/plain": [
       "0.9637013353394771"
      ]
     },
     "execution_count": 39,
     "metadata": {},
     "output_type": "execute_result"
    }
   ],
   "source": [
    "m0.score(X_test, y_test)"
   ]
  },
  {
   "cell_type": "markdown",
   "metadata": {},
   "source": [
    "### Tuning Hyperparameters (Optional)"
   ]
  },
  {
   "cell_type": "code",
   "execution_count": 9,
   "metadata": {
    "scrolled": true
   },
   "outputs": [
    {
     "name": "stdout",
     "output_type": "stream",
     "text": [
      "Fitting 5 folds for each of 6 candidates, totalling 30 fits\n",
      "[CV 1/5] END ....max_depth=1, max_features=sqrt;, score=0.965 total time=   0.0s\n",
      "[CV 2/5] END ....max_depth=1, max_features=sqrt;, score=0.965 total time=   0.0s\n",
      "[CV 3/5] END ....max_depth=1, max_features=sqrt;, score=0.965 total time=   0.0s\n",
      "[CV 4/5] END ....max_depth=1, max_features=sqrt;, score=0.965 total time=   0.0s\n",
      "[CV 5/5] END ....max_depth=1, max_features=sqrt;, score=0.965 total time=   0.0s\n",
      "[CV 1/5] END ....max_depth=1, max_features=log2;, score=0.965 total time=   0.0s\n",
      "[CV 2/5] END ....max_depth=1, max_features=log2;, score=0.965 total time=   0.0s\n",
      "[CV 3/5] END ....max_depth=1, max_features=log2;, score=0.965 total time=   0.0s\n",
      "[CV 4/5] END ....max_depth=1, max_features=log2;, score=0.965 total time=   0.0s\n",
      "[CV 5/5] END ....max_depth=1, max_features=log2;, score=0.965 total time=   0.0s\n",
      "[CV 1/5] END ....max_depth=2, max_features=sqrt;, score=0.965 total time=   0.0s\n",
      "[CV 2/5] END ....max_depth=2, max_features=sqrt;, score=0.965 total time=   0.0s\n",
      "[CV 3/5] END ....max_depth=2, max_features=sqrt;, score=0.965 total time=   0.0s\n",
      "[CV 4/5] END ....max_depth=2, max_features=sqrt;, score=0.965 total time=   0.0s\n",
      "[CV 5/5] END ....max_depth=2, max_features=sqrt;, score=0.965 total time=   0.0s\n",
      "[CV 1/5] END ....max_depth=2, max_features=log2;, score=0.965 total time=   0.0s\n",
      "[CV 2/5] END ....max_depth=2, max_features=log2;, score=0.965 total time=   0.0s\n",
      "[CV 3/5] END ....max_depth=2, max_features=log2;, score=0.965 total time=   0.0s\n",
      "[CV 4/5] END ....max_depth=2, max_features=log2;, score=0.965 total time=   0.0s\n",
      "[CV 5/5] END ....max_depth=2, max_features=log2;, score=0.965 total time=   0.0s\n",
      "[CV 1/5] END ....max_depth=3, max_features=sqrt;, score=0.965 total time=   0.0s\n",
      "[CV 2/5] END ....max_depth=3, max_features=sqrt;, score=0.965 total time=   0.0s\n",
      "[CV 3/5] END ....max_depth=3, max_features=sqrt;, score=0.965 total time=   0.0s\n",
      "[CV 4/5] END ....max_depth=3, max_features=sqrt;, score=0.965 total time=   0.0s\n",
      "[CV 5/5] END ....max_depth=3, max_features=sqrt;, score=0.965 total time=   0.0s\n",
      "[CV 1/5] END ....max_depth=3, max_features=log2;, score=0.965 total time=   0.0s\n",
      "[CV 2/5] END ....max_depth=3, max_features=log2;, score=0.965 total time=   0.0s\n",
      "[CV 3/5] END ....max_depth=3, max_features=log2;, score=0.965 total time=   0.0s\n",
      "[CV 4/5] END ....max_depth=3, max_features=log2;, score=0.965 total time=   0.0s\n",
      "[CV 5/5] END ....max_depth=3, max_features=log2;, score=0.965 total time=   0.0s\n"
     ]
    },
    {
     "data": {
      "text/plain": [
       "GridSearchCV(estimator=DecisionTreeClassifier(),\n",
       "             param_grid={'max_depth': [1, 2, 3],\n",
       "                         'max_features': ['sqrt', 'log2']},\n",
       "             verbose=4)"
      ]
     },
     "execution_count": 9,
     "metadata": {},
     "output_type": "execute_result"
    }
   ],
   "source": [
    "from sklearn.model_selection import GridSearchCV\n",
    "\n",
    "gs = GridSearchCV(estimator=tree.DecisionTreeClassifier(), param_grid={'max_depth': [1, 2, 3], 'max_features': ['sqrt', 'log2']}, verbose=4)\n",
    "gs.fit(X, y)"
   ]
  },
  {
   "cell_type": "code",
   "execution_count": 10,
   "metadata": {},
   "outputs": [
    {
     "data": {
      "text/plain": [
       "(DecisionTreeClassifier(max_depth=1, max_features='sqrt'), 0.9648524744328201)"
      ]
     },
     "execution_count": 10,
     "metadata": {},
     "output_type": "execute_result"
    }
   ],
   "source": [
    "gs.best_estimator_, gs.best_score_"
   ]
  },
  {
   "cell_type": "code",
   "execution_count": 11,
   "metadata": {},
   "outputs": [
    {
     "data": {
      "text/plain": [
       "{'mean_fit_time': array([0.02238688, 0.02098746, 0.0221869 , 0.02198319, 0.02298636,\n",
       "        0.02198739]),\n",
       " 'std_fit_time': array([0.00646501, 0.00227931, 0.00074778, 0.00199731, 0.00252855,\n",
       "        0.00189648]),\n",
       " 'mean_score_time': array([0.00419798, 0.00519719, 0.00579653, 0.0044014 , 0.00539746,\n",
       "        0.00599742]),\n",
       " 'std_score_time': array([0.00097959, 0.00193827, 0.00159935, 0.00150193, 0.0019586 ,\n",
       "        0.00189648]),\n",
       " 'param_max_depth': masked_array(data=[1, 1, 2, 2, 3, 3],\n",
       "              mask=[False, False, False, False, False, False],\n",
       "        fill_value='?',\n",
       "             dtype=object),\n",
       " 'param_max_features': masked_array(data=['sqrt', 'log2', 'sqrt', 'log2', 'sqrt', 'log2'],\n",
       "              mask=[False, False, False, False, False, False],\n",
       "        fill_value='?',\n",
       "             dtype=object),\n",
       " 'params': [{'max_depth': 1, 'max_features': 'sqrt'},\n",
       "  {'max_depth': 1, 'max_features': 'log2'},\n",
       "  {'max_depth': 2, 'max_features': 'sqrt'},\n",
       "  {'max_depth': 2, 'max_features': 'log2'},\n",
       "  {'max_depth': 3, 'max_features': 'sqrt'},\n",
       "  {'max_depth': 3, 'max_features': 'log2'}],\n",
       " 'split0_test_score': array([0.96485247, 0.96485247, 0.96485247, 0.96485247, 0.96485247,\n",
       "        0.96485247]),\n",
       " 'split1_test_score': array([0.96485247, 0.96485247, 0.96485247, 0.96485247, 0.96473492,\n",
       "        0.96473492]),\n",
       " 'split2_test_score': array([0.96485247, 0.96485247, 0.96485247, 0.96485247, 0.96473492,\n",
       "        0.96485247]),\n",
       " 'split3_test_score': array([0.96485247, 0.96485247, 0.96485247, 0.96485247, 0.96485247,\n",
       "        0.96485247]),\n",
       " 'split4_test_score': array([0.96485247, 0.96485247, 0.96485247, 0.96485247, 0.96485247,\n",
       "        0.96485247]),\n",
       " 'mean_test_score': array([0.96485247, 0.96485247, 0.96485247, 0.96485247, 0.96480545,\n",
       "        0.96482896]),\n",
       " 'std_test_score': array([0.00000000e+00, 0.00000000e+00, 0.00000000e+00, 0.00000000e+00,\n",
       "        5.75876277e-05, 4.70201011e-05]),\n",
       " 'rank_test_score': array([1, 1, 1, 1, 6, 5])}"
      ]
     },
     "execution_count": 11,
     "metadata": {},
     "output_type": "execute_result"
    }
   ],
   "source": [
    "gs.cv_results_"
   ]
  },
  {
   "cell_type": "code",
   "execution_count": 174,
   "metadata": {},
   "outputs": [
    {
     "name": "stdout",
     "output_type": "stream",
     "text": [
      "Fitting 5 folds for each of 6 candidates, totalling 30 fits\n",
      "[CV 1/5] END ....max_depth=1, max_features=sqrt;, score=0.966 total time=   0.0s\n",
      "[CV 2/5] END ....max_depth=1, max_features=sqrt;, score=0.966 total time=   0.0s\n",
      "[CV 3/5] END ....max_depth=1, max_features=sqrt;, score=0.966 total time=   0.0s\n",
      "[CV 4/5] END ....max_depth=1, max_features=sqrt;, score=0.966 total time=   0.0s\n",
      "[CV 5/5] END ....max_depth=1, max_features=sqrt;, score=0.966 total time=   0.0s\n",
      "[CV 1/5] END ....max_depth=1, max_features=log2;, score=0.966 total time=   0.0s\n",
      "[CV 2/5] END ....max_depth=1, max_features=log2;, score=0.966 total time=   0.0s\n",
      "[CV 3/5] END ....max_depth=1, max_features=log2;, score=0.966 total time=   0.0s\n",
      "[CV 4/5] END ....max_depth=1, max_features=log2;, score=0.966 total time=   0.0s\n",
      "[CV 5/5] END ....max_depth=1, max_features=log2;, score=0.966 total time=   0.0s\n",
      "[CV 1/5] END ....max_depth=2, max_features=sqrt;, score=0.966 total time=   0.0s\n",
      "[CV 2/5] END ....max_depth=2, max_features=sqrt;, score=0.966 total time=   0.0s\n",
      "[CV 3/5] END ....max_depth=2, max_features=sqrt;, score=0.966 total time=   0.0s\n",
      "[CV 4/5] END ....max_depth=2, max_features=sqrt;, score=0.966 total time=   0.0s\n",
      "[CV 5/5] END ....max_depth=2, max_features=sqrt;, score=0.966 total time=   0.0s\n",
      "[CV 1/5] END ....max_depth=2, max_features=log2;, score=0.966 total time=   0.0s\n",
      "[CV 2/5] END ....max_depth=2, max_features=log2;, score=0.966 total time=   0.0s\n",
      "[CV 3/5] END ....max_depth=2, max_features=log2;, score=0.966 total time=   0.0s\n",
      "[CV 4/5] END ....max_depth=2, max_features=log2;, score=0.966 total time=   0.0s\n",
      "[CV 5/5] END ....max_depth=2, max_features=log2;, score=0.966 total time=   0.0s\n",
      "[CV 1/5] END ....max_depth=3, max_features=sqrt;, score=0.966 total time=   0.0s\n",
      "[CV 2/5] END ....max_depth=3, max_features=sqrt;, score=0.966 total time=   0.0s\n",
      "[CV 3/5] END ....max_depth=3, max_features=sqrt;, score=0.966 total time=   0.0s\n",
      "[CV 4/5] END ....max_depth=3, max_features=sqrt;, score=0.966 total time=   0.0s\n",
      "[CV 5/5] END ....max_depth=3, max_features=sqrt;, score=0.966 total time=   0.0s\n",
      "[CV 1/5] END ....max_depth=3, max_features=log2;, score=0.966 total time=   0.0s\n",
      "[CV 2/5] END ....max_depth=3, max_features=log2;, score=0.966 total time=   0.0s\n",
      "[CV 3/5] END ....max_depth=3, max_features=log2;, score=0.966 total time=   0.0s\n",
      "[CV 4/5] END ....max_depth=3, max_features=log2;, score=0.966 total time=   0.0s\n",
      "[CV 5/5] END ....max_depth=3, max_features=log2;, score=0.966 total time=   0.0s\n"
     ]
    },
    {
     "data": {
      "text/plain": [
       "GridSearchCV(estimator=DecisionTreeClassifier(),\n",
       "             param_grid={'max_depth': [1, 2, 3],\n",
       "                         'max_features': ['sqrt', 'log2']},\n",
       "             verbose=4)"
      ]
     },
     "execution_count": 174,
     "metadata": {},
     "output_type": "execute_result"
    }
   ],
   "source": [
    "gs = GridSearchCV(estimator=tree.DecisionTreeClassifier(), param_grid={'max_depth': [1, 2, 3], 'max_features': ['sqrt', 'log2']}, verbose=4)\n",
    "gs.fit(X_train, y_train)"
   ]
  },
  {
   "cell_type": "code",
   "execution_count": 175,
   "metadata": {
    "scrolled": true
   },
   "outputs": [
    {
     "data": {
      "text/plain": [
       "(DecisionTreeClassifier(max_depth=1, max_features='sqrt'), 0.9660512227965172)"
      ]
     },
     "execution_count": 175,
     "metadata": {},
     "output_type": "execute_result"
    }
   ],
   "source": [
    "gs.best_estimator_, gs.best_score_"
   ]
  },
  {
   "cell_type": "code",
   "execution_count": 183,
   "metadata": {},
   "outputs": [
    {
     "name": "stdout",
     "output_type": "stream",
     "text": [
      "Fitting 5 folds for each of 4 candidates, totalling 20 fits\n",
      "[CV 1/5] END ....................n_estimators=1;, score=0.966 total time=   0.0s\n",
      "[CV 2/5] END ....................n_estimators=1;, score=0.966 total time=   0.0s\n",
      "[CV 3/5] END ....................n_estimators=1;, score=0.966 total time=   0.0s\n",
      "[CV 4/5] END ....................n_estimators=1;, score=0.966 total time=   0.0s\n",
      "[CV 5/5] END ....................n_estimators=1;, score=0.966 total time=   0.0s\n",
      "[CV 1/5] END ....................n_estimators=2;, score=0.966 total time=   0.0s\n",
      "[CV 2/5] END ....................n_estimators=2;, score=0.966 total time=   0.0s\n",
      "[CV 3/5] END ....................n_estimators=2;, score=0.966 total time=   0.0s\n",
      "[CV 4/5] END ....................n_estimators=2;, score=0.966 total time=   0.0s\n",
      "[CV 5/5] END ....................n_estimators=2;, score=0.966 total time=   0.0s\n",
      "[CV 1/5] END ....................n_estimators=3;, score=0.966 total time=   0.0s\n",
      "[CV 2/5] END ....................n_estimators=3;, score=0.966 total time=   0.0s\n",
      "[CV 3/5] END ....................n_estimators=3;, score=0.966 total time=   0.0s\n",
      "[CV 4/5] END ....................n_estimators=3;, score=0.966 total time=   0.0s\n",
      "[CV 5/5] END ....................n_estimators=3;, score=0.966 total time=   0.0s\n",
      "[CV 1/5] END ....................n_estimators=5;, score=0.966 total time=   0.0s\n",
      "[CV 2/5] END ....................n_estimators=5;, score=0.966 total time=   0.0s\n",
      "[CV 3/5] END ....................n_estimators=5;, score=0.966 total time=   0.0s\n",
      "[CV 4/5] END ....................n_estimators=5;, score=0.966 total time=   0.0s\n",
      "[CV 5/5] END ....................n_estimators=5;, score=0.966 total time=   0.0s\n"
     ]
    },
    {
     "data": {
      "text/plain": [
       "GridSearchCV(estimator=AdaBoostClassifier(),\n",
       "             param_grid={'n_estimators': [1, 2, 3, 5]}, verbose=4)"
      ]
     },
     "execution_count": 183,
     "metadata": {},
     "output_type": "execute_result"
    }
   ],
   "source": [
    "gs_alt = GridSearchCV(estimator=AdaBoostClassifier(), param_grid={'n_estimators': [1, 2, 3, 5]}, verbose=4)\n",
    "gs_alt.fit(X_train, y_train)"
   ]
  },
  {
   "cell_type": "code",
   "execution_count": 184,
   "metadata": {},
   "outputs": [
    {
     "data": {
      "text/plain": [
       "(AdaBoostClassifier(n_estimators=1), 0.9660512227965172)"
      ]
     },
     "execution_count": 184,
     "metadata": {},
     "output_type": "execute_result"
    }
   ],
   "source": [
    "gs_alt.best_estimator_, gs_alt.best_score_"
   ]
  },
  {
   "cell_type": "markdown",
   "metadata": {},
   "source": [
    "### Ensemble Methods (Optional)"
   ]
  },
  {
   "cell_type": "code",
   "execution_count": 207,
   "metadata": {},
   "outputs": [],
   "source": [
    "from sklearn.linear_model import RidgeClassifier\n",
    "from sklearn import tree\n",
    "from sklearn.ensemble import AdaBoostClassifier\n",
    "from sklearn.ensemble import GradientBoostingClassifier\n",
    "\n",
    "estimators = [('tree', tree.DecisionTreeClassifier(max_depth=1, max_features='sqrt')), ('ridge', RidgeClassifier(alpha=1e-08, solver='svd')), ('ada', AdaBoostClassifier(n_estimators=1))]\n",
    "final_estimator = GradientBoostingClassifier(n_estimators=12, subsample=0.5, min_samples_leaf=25, max_features=1, random_state=42)"
   ]
  },
  {
   "cell_type": "code",
   "execution_count": 208,
   "metadata": {},
   "outputs": [
    {
     "data": {
      "text/plain": [
       "StackingClassifier(estimators=[('tree',\n",
       "                                DecisionTreeClassifier(max_depth=1,\n",
       "                                                       max_features='sqrt')),\n",
       "                               ('ridge',\n",
       "                                RidgeClassifier(alpha=1e-08, solver='svd')),\n",
       "                               ('ada', AdaBoostClassifier(n_estimators=1))],\n",
       "                   final_estimator=GradientBoostingClassifier(max_features=1,\n",
       "                                                              min_samples_leaf=25,\n",
       "                                                              n_estimators=12,\n",
       "                                                              random_state=42,\n",
       "                                                              subsample=0.5))"
      ]
     },
     "execution_count": 208,
     "metadata": {},
     "output_type": "execute_result"
    }
   ],
   "source": [
    "from sklearn.ensemble import StackingClassifier\n",
    "\n",
    "m_f = StackingClassifier(estimators=estimators, final_estimator=final_estimator)\n",
    "m_f.fit(X_train, y_train)"
   ]
  },
  {
   "cell_type": "code",
   "execution_count": 209,
   "metadata": {},
   "outputs": [],
   "source": [
    "y_pred = m_f.predict(X_test)"
   ]
  },
  {
   "cell_type": "code",
   "execution_count": 212,
   "metadata": {},
   "outputs": [
    {
     "name": "stdout",
     "output_type": "stream",
     "text": [
      "0.961256347564416\n"
     ]
    }
   ],
   "source": [
    "from sklearn.metrics import accuracy_score\n",
    "print(accuracy_score(y_test, y_pred))"
   ]
  },
  {
   "cell_type": "markdown",
   "metadata": {},
   "source": [
    "### Evaluate your Model"
   ]
  },
  {
   "cell_type": "code",
   "execution_count": 12,
   "metadata": {},
   "outputs": [],
   "source": [
    "from sklearn.metrics import roc_curve"
   ]
  },
  {
   "cell_type": "code",
   "execution_count": 16,
   "metadata": {},
   "outputs": [],
   "source": [
    "from sklearn.linear_model import RidgeClassifier\n",
    "y_score = RidgeClassifier().fit(X_train, y_train).decision_function(X_test)"
   ]
  },
  {
   "cell_type": "code",
   "execution_count": 17,
   "metadata": {},
   "outputs": [],
   "source": [
    "fpr, tpr, _ = roc_curve(y_test.ravel(), y_score.ravel())"
   ]
  },
  {
   "cell_type": "code",
   "execution_count": 18,
   "metadata": {},
   "outputs": [
    {
     "data": {
      "text/plain": [
       "0.755796360294429"
      ]
     },
     "execution_count": 18,
     "metadata": {},
     "output_type": "execute_result"
    }
   ],
   "source": [
    "from sklearn.metrics import auc\n",
    "auc(fpr, tpr)"
   ]
  },
  {
   "cell_type": "code",
   "execution_count": 19,
   "metadata": {},
   "outputs": [
    {
     "data": {
      "image/png": "[encoded data removed]",
      "text/plain": [
       "<Figure size 432x288 with 1 Axes>"
      ]
     },
     "metadata": {
      "needs_background": "light"
     },
     "output_type": "display_data"
    }
   ],
   "source": [
    "import matplotlib.pyplot as plt\n",
    "\n",
    "plt.figure()\n",
    "plt.plot(fpr, tpr, color=\"orange\", label=\"ROC curve (AUC = %0.2f)\" % auc(fpr, tpr))\n",
    "plt.plot([0, 1], [0, 1], color=\"navy\", linestyle=\"--\")\n",
    "plt.xlim([0.0, 1.0])\n",
    "plt.ylim([0.0, 1.05])\n",
    "plt.xlabel(\"False Positive Rate\")\n",
    "plt.ylabel(\"True Positive Rate\")\n",
    "plt.title(\"ROC Curve\")\n",
    "plt.legend(loc=\"lower right\")\n",
    "plt.show()"
   ]
  },
  {
   "cell_type": "code",
   "execution_count": 50,
   "metadata": {},
   "outputs": [
    {
     "data": {
      "image/png": "[encoded data removed]",
      "text/plain": [
       "<Figure size 432x288 with 1 Axes>"
      ]
     },
     "metadata": {
      "needs_background": "light"
     },
     "output_type": "display_data"
    }
   ],
   "source": [
    "import numpy as np\n",
    "\n",
    "from sklearn import tree\n",
    "\n",
    "from sklearn.impute import SimpleImputer\n",
    "from sklearn.metrics import confusion_matrix\n",
    "import matplotlib.pyplot as plt\n",
    "\n",
    "imp = SimpleImputer(missing_values=np.nan, strategy='constant', fill_value=1)\n",
    "\n",
    "tpr = []\n",
    "fpr = []\n",
    "\n",
    "max_depth = [5, 10, 20, 50, 100, 150]\n",
    "\n",
    "for i in range(len(max_depth)):\n",
    "    y_pred = tree.DecisionTreeClassifier(max_depth=max_depth[i]).fit(X, y).predict(X)\n",
    "    tn, fp, fn, tp = confusion_matrix(y, y_pred).ravel()\n",
    "    \n",
    "    tpr.append(tp/(tp+fp))\n",
    "    fpr.append(fp/(fp+tn))\n",
    "\n",
    "plt.figure()\n",
    "plt.scatter(fpr, tpr)\n",
    "plt.plot([0, 1], [0, 1], color=\"navy\", linestyle=\"--\")\n",
    "plt.xlim([-0.01, 1.0])\n",
    "plt.ylim([0.0, 1.05])\n",
    "plt.xlabel('False Positive Rate')\n",
    "plt.ylabel('True Positive Rate')\n",
    "plt.show()"
   ]
  },
  {
   "cell_type": "markdown",
   "metadata": {},
   "source": [
    "## Application: Classifying Texts"
   ]
  },
  {
   "cell_type": "markdown",
   "metadata": {},
   "source": [
    "Now we have gone through the techniques of supervised learning, let us apply them on classifying texts. In this week, we will look at classifying positive and negative texts. This is useful when we are trying to find negative comments, fake news or spamming messages. "
   ]
  },
  {
   "cell_type": "markdown",
   "metadata": {},
   "source": [
    "In these examples it requires text data as inputs. Text is not numerical so we need to convert them to quantitative data. `sklearn` offers `.CountVectorizer()` which converts texts into their frequency counts. Let us see an example. "
   ]
  },
  {
   "cell_type": "code",
   "execution_count": 17,
   "metadata": {},
   "outputs": [],
   "source": [
    "# Try me\n",
    "from sklearn.feature_extraction.text import CountVectorizer\n",
    "\n",
    "corpus = [\"Here’s to your health and the New Year.\", \n",
    "          \"Although it wasn't a pot of gold, Nancy was still enthralled at what she found at the end of the rainbow.\", \n",
    "          \"You have every right to be angry, but that doesn't give you the right to be mean.\", \n",
    "          \"The hand sanitizer was actually very cold.\", \n",
    "          \"Sometimes you have to just give up and win by cheating.\", \n",
    "          \"The blinking lights of the antenna tower came into focus just as I heard a loud snap.\", \n",
    "          \"After a long talk, they decided to break up.\", \n",
    "          \"She couldn't decide of the glass was half empty or half full so she drank it.\", \n",
    "          \"Malls are great places to shop; I can find everything I need under one roof.\", \n",
    "          \"His eyes met mine on the street.\", \n",
    "          \"She is never happy until she finds something to be unhappy about; then, she is overjoyed.\", \n",
    "          \"She had that tint of craziness in her soul that made her believe she could actually make a difference.\", \n",
    "          \"Where do I put this box?\", \n",
    "          \"Mary plays the little lamb.\", \n",
    "          \"It isn't difficult to do a handstand if you just stand on your hands.\"]\n",
    "\n",
    "vectoriser = CountVectorizer()  # We generate the CountVectorizer object first and use it to count from `corpus`\n",
    "X = vectoriser.fit_transform(corpus)"
   ]
  },
  {
   "cell_type": "markdown",
   "metadata": {},
   "source": [
    "The cell outputs a term-document matrix which shows the frequency of words appeared. This is done by `.fit_transform()`. Now `X` contains the frequency data and if we simply print it, it does not print the data that we wanted. The `CountVectorizer()` has an attribute called `vocabulary_` (There is an underscore at the end) which shows the frequency of each words appeared. "
   ]
  },
  {
   "cell_type": "code",
   "execution_count": 18,
   "metadata": {},
   "outputs": [
    {
     "data": {
      "text/plain": [
       "{'here': 56,\n",
       " 'to': 111,\n",
       " 'your': 125,\n",
       " 'health': 53,\n",
       " 'and': 4,\n",
       " 'the': 106,\n",
       " 'new': 80,\n",
       " 'year': 123,\n",
       " 'although': 3,\n",
       " 'it': 63,\n",
       " 'wasn': 119,\n",
       " 'pot': 88,\n",
       " 'of': 81,\n",
       " 'gold': 44,\n",
       " 'nancy': 77,\n",
       " 'was': 118,\n",
       " 'still': 102,\n",
       " 'enthralled': 33,\n",
       " 'at': 9,\n",
       " 'what': 120,\n",
       " 'she': 94,\n",
       " 'found': 40,\n",
       " 'end': 32,\n",
       " 'rainbow': 90,\n",
       " 'you': 124,\n",
       " 'have': 52,\n",
       " 'every': 34,\n",
       " 'right': 91,\n",
       " 'be': 10,\n",
       " 'angry': 5,\n",
       " 'but': 15,\n",
       " 'that': 105,\n",
       " 'doesn': 29,\n",
       " 'give': 42,\n",
       " 'mean': 74,\n",
       " 'hand': 48,\n",
       " 'sanitizer': 93,\n",
       " 'actually': 1,\n",
       " 'very': 117,\n",
       " 'cold': 20,\n",
       " 'sometimes': 99,\n",
       " 'just': 64,\n",
       " 'up': 116,\n",
       " 'win': 122,\n",
       " 'by': 16,\n",
       " 'cheating': 19,\n",
       " 'blinking': 12,\n",
       " 'lights': 66,\n",
       " 'antenna': 6,\n",
       " 'tower': 112,\n",
       " 'came': 17,\n",
       " 'into': 60,\n",
       " 'focus': 39,\n",
       " 'as': 8,\n",
       " 'heard': 54,\n",
       " 'loud': 69,\n",
       " 'snap': 96,\n",
       " 'after': 2,\n",
       " 'long': 68,\n",
       " 'talk': 104,\n",
       " 'they': 108,\n",
       " 'decided': 25,\n",
       " 'break': 14,\n",
       " 'couldn': 22,\n",
       " 'decide': 24,\n",
       " 'glass': 43,\n",
       " 'half': 47,\n",
       " 'empty': 31,\n",
       " 'or': 84,\n",
       " 'full': 41,\n",
       " 'so': 97,\n",
       " 'drank': 30,\n",
       " 'malls': 72,\n",
       " 'are': 7,\n",
       " 'great': 45,\n",
       " 'places': 86,\n",
       " 'shop': 95,\n",
       " 'can': 18,\n",
       " 'find': 37,\n",
       " 'everything': 35,\n",
       " 'need': 78,\n",
       " 'under': 113,\n",
       " 'one': 83,\n",
       " 'roof': 92,\n",
       " 'his': 57,\n",
       " 'eyes': 36,\n",
       " 'met': 75,\n",
       " 'mine': 76,\n",
       " 'on': 82,\n",
       " 'street': 103,\n",
       " 'is': 61,\n",
       " 'never': 79,\n",
       " 'happy': 51,\n",
       " 'until': 115,\n",
       " 'finds': 38,\n",
       " 'something': 98,\n",
       " 'unhappy': 114,\n",
       " 'about': 0,\n",
       " 'then': 107,\n",
       " 'overjoyed': 85,\n",
       " 'had': 46,\n",
       " 'tint': 110,\n",
       " 'craziness': 23,\n",
       " 'in': 59,\n",
       " 'her': 55,\n",
       " 'soul': 100,\n",
       " 'made': 70,\n",
       " 'believe': 11,\n",
       " 'could': 21,\n",
       " 'make': 71,\n",
       " 'difference': 26,\n",
       " 'where': 121,\n",
       " 'do': 28,\n",
       " 'put': 89,\n",
       " 'this': 109,\n",
       " 'box': 13,\n",
       " 'mary': 73,\n",
       " 'plays': 87,\n",
       " 'little': 67,\n",
       " 'lamb': 65,\n",
       " 'isn': 62,\n",
       " 'difficult': 27,\n",
       " 'handstand': 50,\n",
       " 'if': 58,\n",
       " 'stand': 101,\n",
       " 'hands': 49}"
      ]
     },
     "execution_count": 18,
     "metadata": {},
     "output_type": "execute_result"
    }
   ],
   "source": [
    "vectoriser.vocabulary_"
   ]
  },
  {
   "cell_type": "markdown",
   "metadata": {},
   "source": [
    "Too difficult to read all of them? You can visualise them with a bar plot. "
   ]
  },
  {
   "cell_type": "code",
   "execution_count": 19,
   "metadata": {},
   "outputs": [
    {
     "data": {
      "image/png": "[encoded data removed]",
      "text/plain": [
       "<Figure size 1440x648 with 1 Axes>"
      ]
     },
     "metadata": {
      "needs_background": "light"
     },
     "output_type": "display_data"
    }
   ],
   "source": [
    "import matplotlib.pyplot as plt\n",
    "\n",
    "plt.figure(figsize=(20,9))\n",
    "plt.bar(range(len(vectoriser.vocabulary_)), list(vectoriser.vocabulary_.values()), align='center')\n",
    "plt.xticks(range(len(vectoriser.vocabulary_)), list(vectoriser.vocabulary_.keys()), rotation=70)\n",
    "plt.xlabel(\"Words\")\n",
    "plt.ylabel(\"Frequency\")\n",
    "plt.show()"
   ]
  },
  {
   "cell_type": "markdown",
   "metadata": {},
   "source": [
    "You can see that there are many words. Some of them are not necessary: They are the minor words that we use in conversations such as \"and\", \"I\" but they do not span anything meaningful. These are called __stopping words__ and too many unecessary words can contaminate our data quality. We can remove them in our analysis with the keyword `stop_words`. Let's see this in below: "
   ]
  },
  {
   "cell_type": "code",
   "execution_count": 20,
   "metadata": {},
   "outputs": [
    {
     "data": {
      "image/png": "[encoded data removed]",
      "text/plain": [
       "<Figure size 1440x648 with 1 Axes>"
      ]
     },
     "metadata": {
      "needs_background": "light"
     },
     "output_type": "display_data"
    }
   ],
   "source": [
    "# Try me\n",
    "from sklearn.feature_extraction.text import CountVectorizer\n",
    "import matplotlib.pyplot as plt\n",
    "\n",
    "vectoriser = CountVectorizer(stop_words=\"english\")  # \n",
    "X = vectoriser.fit_transform(corpus)\n",
    "\n",
    "plt.figure(figsize=(20,9))\n",
    "plt.bar(range(len(vectoriser.vocabulary_)), list(vectoriser.vocabulary_.values()), align='center')\n",
    "plt.xticks(range(len(vectoriser.vocabulary_)), list(vectoriser.vocabulary_.keys()), rotation=70)\n",
    "plt.xlabel(\"Words\")\n",
    "plt.ylabel(\"Frequency\")\n",
    "plt.show()"
   ]
  },
  {
   "cell_type": "markdown",
   "metadata": {},
   "source": [
    "Of course, since we are doing a supervised learning. Let us add the target variables. In this exercise, we are trying to find whether the texts are from a particular person or not. Hence we are able to recognise words choice of that person. In the following, we transformed the data so that it includes another column called `flag`. If `flag` is 1 then this means it is from that person, where else is 0. So let us obtain the data. "
   ]
  },
  {
   "cell_type": "code",
   "execution_count": 21,
   "metadata": {
    "solution": "hidden"
   },
   "outputs": [],
   "source": [
    "# Run to get the data\n",
    "text_data = [(\"Here's to your health and the New Year.\", 0), \n",
    "          (\"Although it wasn't a pot of gold, Nancy was still enthralled at what she found at the end of the rainbow.\", 0), \n",
    "          (\"You have every right to be angry, but that doesn't give you the right to be mean.\", 0), \n",
    "          (\"The hand sanitizer was actually very cold.\", 1), \n",
    "          (\"Sometimes you have to just give up and win by cheating.\", 1), \n",
    "          (\"The blinking lights of the antenna tower came into focus just as I heard a loud snap.\", 0), \n",
    "          (\"After a long talk, they decided to break up.\", 0), \n",
    "          (\"She couldn't decide of the glass was half empty or half full so she drank it.\", 1), \n",
    "          (\"Malls are great places to shop; I can find everything I need under one roof.\", 0), \n",
    "          (\"His eyes met mine on the street.\", 0), \n",
    "          (\"She is never happy until she finds something to be unhappy about; then, she is overjoyed.\", 0), \n",
    "          (\"She had that tint of craziness in her soul that made her believe she could actually make a difference.\", 0), \n",
    "          (\"Where do I put this box?\", 0), \n",
    "          (\"Mary plays the little lamb.\", 0), \n",
    "          (\"It isn't difficult to do a handstand if you just stand on your hands.\", 0),\n",
    "          (\"I made an effort to smile in front of others.\",0),\n",
    "          (\"After exploring the abandoned building, he started to believe in ghosts. Sometimes he cannot sleep in night.\",0),\n",
    "          (\"I don't except anybody who can tell the difference between Pepsi and Coke.\",0),\n",
    "          (\"You can tweet whatever you want, at any time you want, as often as you want.\",0),\n",
    "          (\"I was so mad that I yelled at him at the top of my lungs.\",0),\n",
    "          (\"Your mom is so nice she gave me a ride home today. We had a chat.\",0),\n",
    "          (\"What I remember is that she was with us at 8 pm. After that we have not heard anything.\",0),\n",
    "          (\"There are few things better in life than a slice of pie.\",1),\n",
    "          (\"Generally speaking, a woman will live longer than a man. Statistics shows that on average woman live around 80 years while men live around 84 years.\",0),\n",
    "          (\"We have been convinced of this because the people who own everything also own the news.\",0),\n",
    "          (\"This company is listed on the Paris stock exchange.\",0),\n",
    "          (\"We have a big stove which keeps us very toasty.\",0),\n",
    "          (\"Wes likes watching old movies on Sunday nights. This is when we sit together as a family.\",0),\n",
    "          (\"I haven’t heard anything about him since you wrote to me.\",0),\n",
    "          (\"Tom and Mary shared an umbrella However, it wasn't big enough and they both got wet.\",0)\n",
    "            ]\n",
    "test_data = [\"Tom and Mary shared an umbrella However, it wasn't big enough and they both got wet.\", \n",
    "          \"Although it wasn't a pot of gold, Nancy was still enthralled at what she found at the end of the rainbow.\", \n",
    "          \"You have every right to be angry, but that doesn't give you the right to be mean.\", \n",
    "          \"Excuse me sir I would like you to get me another drink.\", \n",
    "          \"Thank you for finishing the last slice of pizza!\", \n",
    "          \"The blinking lights of the antenna tower came into focus just as I heard a loud snap.\", \n",
    "          \"Mary plays the little lamb.\", \n",
    "          \"She had that tint of craziness in her soul that made her believe she could actually make a difference.\", \n",
    "          \"Malls are great places to shop; I can find everything I need under one roof.\", \n",
    "          \"His eyes met mine on the street.\", \n",
    "          \"She is never happy until she finds something to be unhappy about; then, she is overjoyed.\", \n",
    "          \"She couldn't decide of the glass was half empty or half full so she drank it.\", \n",
    "          \"Where do I put this box?\",\n",
    "          \"25 years later, she still regretted that specific moment.\",\n",
    "          \"As the rental car rolled to a stop on the dark road, she looked back to us.\", \n",
    "          \"That is an appealing treasure map that I can't read.\"\n",
    "            ]"
   ]
  },
  {
   "cell_type": "markdown",
   "metadata": {
    "solution": "hidden",
    "solution2": "hidden",
    "solution2_first": true,
    "solution_first": true
   },
   "source": [
    "__Exercise:__ Write a code so that it transforms the data into a term-document matrix. "
   ]
  },
  {
   "cell_type": "code",
   "execution_count": null,
   "metadata": {
    "solution": "hidden",
    "solution2": "hidden"
   },
   "outputs": [],
   "source": [
    "# Solution\n",
    "vectoriser = CountVectorizer()  # We generate the CountVectorizer object first and use it to count from `corpus`\n",
    "X = vectoriser.fit_transform([x[0] for x in text_data])"
   ]
  },
  {
   "cell_type": "code",
   "execution_count": null,
   "metadata": {},
   "outputs": [],
   "source": [
    "# Your code below\n",
    "vectoriser = \n"
   ]
  },
  {
   "cell_type": "markdown",
   "metadata": {
    "solution": "hidden",
    "solution2": "hidden",
    "solution2_first": true,
    "solution_first": true
   },
   "source": [
    "__Exercise:__ Texts are unstructure data, then why do we classify this exercise as supervised learning?"
   ]
  },
  {
   "cell_type": "markdown",
   "metadata": {
    "solution": "hidden",
    "solution2": "hidden"
   },
   "source": [
    "__Solution:__ The confusion here is that we link unstructure data into unsupervised learning. Truely it is hard to find the target variable from text variables. In this exercise, we entail each messages with a target variable, which is it is positive or not. "
   ]
  },
  {
   "cell_type": "markdown",
   "metadata": {
    "solution": "hidden"
   },
   "source": [
    "We can now apply the machine learning into the term-document matrix. In here, you can choose either logistic regression or random forest or anything else. The part that you have to realise is, we still have the target variable to use. "
   ]
  },
  {
   "cell_type": "markdown",
   "metadata": {},
   "source": [
    "Before we finish this, let us talk about an adjustment to the count vectoriser. `sklearn` offers another vectoriser object called Term Frequency Inverse Document Frequency (TF-IDF). For example [this document](https://medium.com/@cmukesh8688/tf-idf-vectorizer-scikit-learn-dbc0244a911a). "
   ]
  },
  {
   "cell_type": "markdown",
   "metadata": {
    "solution": "hidden",
    "solution2": "hidden",
    "solution2_first": true,
    "solution_first": true
   },
   "source": [
    "__Exercise:__ This is often said to be improving the machine learning model. Why is that?"
   ]
  },
  {
   "cell_type": "markdown",
   "metadata": {
    "solution": "hidden",
    "solution2": "hidden"
   },
   "source": [
    "__Solution:__ TF-IDF weighs more if the word appears more in a text piece/ document, but other documents might be irrelevant to this and does not include this specific keyword. TF-IDF optimises the results by rewarding the individual documents that are more relevant to topics. "
   ]
  },
  {
   "cell_type": "markdown",
   "metadata": {},
   "source": [
    "## Conclusion"
   ]
  },
  {
   "cell_type": "code",
   "execution_count": null,
   "metadata": {},
   "outputs": [],
   "source": []
  }
 ],
 "metadata": {
  "kernelspec": {
   "display_name": "Python 3 (ipykernel)",
   "language": "python",
   "name": "python3"
  },
  "language_info": {
   "codemirror_mode": {
    "name": "ipython",
    "version": 3
   },
   "file_extension": ".py",
   "mimetype": "text/x-python",
   "name": "python",
   "nbconvert_exporter": "python",
   "pygments_lexer": "ipython3",
   "version": "3.8.12"
  },
  "latex_envs": {
   "LaTeX_envs_menu_present": true,
   "autoclose": true,
   "autocomplete": true,
   "bibliofile": "biblio.bib",
   "cite_by": "apalike",
   "current_citInitial": 1,
   "eqLabelWithNumbers": true,
   "eqNumInitial": 1,
   "hotkeys": {
    "equation": "Ctrl-E",
    "itemize": "Ctrl-I"
   },
   "labels_anchors": false,
   "latex_user_defs": false,
   "report_style_numbering": false,
   "user_envs_cfg": false
  },
  "toc": {
   "base_numbering": 1,
   "nav_menu": {},
   "number_sections": false,
   "sideBar": true,
   "skip_h1_title": false,
   "title_cell": "Table of Contents",
   "title_sidebar": "Contents",
   "toc_cell": false,
   "toc_position": {
    "height": "calc(100% - 180px)",
    "left": "10px",
    "top": "150px",
    "width": "284px"
   },
   "toc_section_display": true,
   "toc_window_display": true
  }
 },
 "nbformat": 4,
 "nbformat_minor": 2
}
