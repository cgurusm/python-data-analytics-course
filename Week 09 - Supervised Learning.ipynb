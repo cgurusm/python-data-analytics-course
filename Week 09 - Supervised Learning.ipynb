{
 "cells": [
  {
   "cell_type": "markdown",
   "metadata": {},
   "source": [
    "# Week 09: Supervised Learning"
   ]
  },
  {
   "cell_type": "markdown",
   "metadata": {},
   "source": [
    "## Drill"
   ]
  },
  {
   "cell_type": "markdown",
   "metadata": {},
   "source": [
    "## Recap"
   ]
  },
  {
   "cell_type": "markdown",
   "metadata": {},
   "source": [
    "This is a continuum of previous 2 week topics. Remember from the CRISP-DM from week 7? We have done: \n",
    "* Forming data analytics/ science project ideas\n",
    "* Finding datasets\n",
    "* Understand the datasets from EDA\n",
    "* Using statistics to understand datasets, this sometimes is part of EDA\n",
    "\n",
    "This week and next week is under the __Modelling__ step of CRISP-DM. In this week, we are building a class of machine learning models under supervised learning. "
   ]
  },
  {
   "cell_type": "markdown",
   "metadata": {},
   "source": [
    "## Supervised Learning"
   ]
  },
  {
   "cell_type": "markdown",
   "metadata": {},
   "source": [
    "### But First..."
   ]
  },
  {
   "cell_type": "markdown",
   "metadata": {},
   "source": [
    "Remember from week 7, every data analtics project starts from cleaning the data. The most common steps are:\n",
    "\n",
    "* Sample the data \n",
    "* Impute missing data\n",
    "* Remove duplicate data\n",
    "* Inconsistent data\n",
    "* Normalise numeric value\n",
    "* Reduce dimensionality\n",
    "* Add derived features\n",
    "* Binning numeric value (into categories)\n",
    "* Convert categorical variables into binary variables\n",
    "* Select, combine, aggregate data\n",
    "\n",
    "You must check if the dataset is good for feeding into the machine learning algorithm. "
   ]
  },
  {
   "cell_type": "markdown",
   "metadata": {},
   "source": [
    "## Regression"
   ]
  },
  {
   "cell_type": "markdown",
   "metadata": {},
   "source": [
    "## Classification"
   ]
  },
  {
   "cell_type": "markdown",
   "metadata": {},
   "source": [
    "## Application: Classifying Texts"
   ]
  },
  {
   "cell_type": "markdown",
   "metadata": {},
   "source": [
    "Now we have gone through the techniques of supervised learning, let us apply them on classifying texts. In this week, we will look at classifying positive and negative texts. This is useful when we are trying to find negative comments, fake news or spamming messages. "
   ]
  },
  {
   "cell_type": "markdown",
   "metadata": {},
   "source": [
    "In these examples it requires text data as inputs. Text is not numerical so we need to convert them to quantitative data. `sklearn` offers `.CountVectorizer()` which converts texts into their frequency counts. Let us see an example. "
   ]
  },
  {
   "cell_type": "code",
   "execution_count": 5,
   "metadata": {},
   "outputs": [],
   "source": [
    "# Try me\n",
    "from sklearn.feature_extraction.text import CountVectorizer\n",
    "\n",
    "corpus = [\"Too many prisons have become early coffins.\", \n",
    "          \"Although it wasn't a pot of gold, Nancy was still enthralled at what she found at the end of the rainbow.\", \n",
    "          \"You have every right to be angry, but that doesn't give you the right to be mean.\", \n",
    "          \"The hand sanitizer was actually very cold.\", \n",
    "          \"Sometimes you have to just give up and win by cheating.\", \n",
    "          \"The blinking lights of the antenna tower came into focus just as I heard a loud snap.\", \n",
    "          \"After a long talk, they decided to break up.\", \n",
    "          \"She couldn't decide of the glass was half empty or half full so she drank it.\", \n",
    "          \"Malls are great places to shop; I can find everything I need under one roof.\", \n",
    "          \"His eyes met mine on the street.\", \n",
    "          \"She is never happy until she finds something to be unhappy about; then, she is overjoyed.\", \n",
    "          \"She had that tint of craziness in her soul that made her believe she could actually make a difference.\", \n",
    "          \"Where do I put this box?\", \n",
    "          \"Mary plays the little lamb.\", \n",
    "          \"It isn't difficult to do a handstand if you just stand on your hands.\"]\n",
    "\n",
    "vectoriser = CountVectorizer()  # We generate the CountVectorizer object first and use it to count from `corpus`\n",
    "X = vectoriser.fit_transform(corpus)"
   ]
  },
  {
   "cell_type": "markdown",
   "metadata": {},
   "source": [
    "Now `X` contains the frequency data and if we simply print it, it does not print the data that we wanted. The `CountVectorizer()` has an attribute called `vocabulary_` (There is an underscore at the end) which shows the frequency of each words appeared. "
   ]
  },
  {
   "cell_type": "code",
   "execution_count": 9,
   "metadata": {},
   "outputs": [
    {
     "data": {
      "text/plain": [
       "{'too': 114,\n",
       " 'many': 74,\n",
       " 'prisons': 90,\n",
       " 'have': 55,\n",
       " 'become': 11,\n",
       " 'early': 33,\n",
       " 'coffins': 21,\n",
       " 'although': 3,\n",
       " 'it': 64,\n",
       " 'wasn': 122,\n",
       " 'pot': 89,\n",
       " 'of': 82,\n",
       " 'gold': 47,\n",
       " 'nancy': 79,\n",
       " 'was': 121,\n",
       " 'still': 104,\n",
       " 'enthralled': 36,\n",
       " 'at': 9,\n",
       " 'what': 123,\n",
       " 'she': 96,\n",
       " 'found': 43,\n",
       " 'the': 108,\n",
       " 'end': 35,\n",
       " 'rainbow': 92,\n",
       " 'you': 126,\n",
       " 'every': 37,\n",
       " 'right': 93,\n",
       " 'to': 113,\n",
       " 'be': 10,\n",
       " 'angry': 5,\n",
       " 'but': 16,\n",
       " 'that': 107,\n",
       " 'doesn': 31,\n",
       " 'give': 45,\n",
       " 'mean': 76,\n",
       " 'hand': 51,\n",
       " 'sanitizer': 95,\n",
       " 'actually': 1,\n",
       " 'very': 120,\n",
       " 'cold': 22,\n",
       " 'sometimes': 101,\n",
       " 'just': 65,\n",
       " 'up': 119,\n",
       " 'and': 4,\n",
       " 'win': 125,\n",
       " 'by': 17,\n",
       " 'cheating': 20,\n",
       " 'blinking': 13,\n",
       " 'lights': 67,\n",
       " 'antenna': 6,\n",
       " 'tower': 115,\n",
       " 'came': 18,\n",
       " 'into': 61,\n",
       " 'focus': 42,\n",
       " 'as': 8,\n",
       " 'heard': 56,\n",
       " 'loud': 70,\n",
       " 'snap': 98,\n",
       " 'after': 2,\n",
       " 'long': 69,\n",
       " 'talk': 106,\n",
       " 'they': 110,\n",
       " 'decided': 27,\n",
       " 'break': 15,\n",
       " 'couldn': 24,\n",
       " 'decide': 26,\n",
       " 'glass': 46,\n",
       " 'half': 50,\n",
       " 'empty': 34,\n",
       " 'or': 85,\n",
       " 'full': 44,\n",
       " 'so': 99,\n",
       " 'drank': 32,\n",
       " 'malls': 73,\n",
       " 'are': 7,\n",
       " 'great': 48,\n",
       " 'places': 87,\n",
       " 'shop': 97,\n",
       " 'can': 19,\n",
       " 'find': 40,\n",
       " 'everything': 38,\n",
       " 'need': 80,\n",
       " 'under': 116,\n",
       " 'one': 84,\n",
       " 'roof': 94,\n",
       " 'his': 58,\n",
       " 'eyes': 39,\n",
       " 'met': 77,\n",
       " 'mine': 78,\n",
       " 'on': 83,\n",
       " 'street': 105,\n",
       " 'is': 62,\n",
       " 'never': 81,\n",
       " 'happy': 54,\n",
       " 'until': 118,\n",
       " 'finds': 41,\n",
       " 'something': 100,\n",
       " 'unhappy': 117,\n",
       " 'about': 0,\n",
       " 'then': 109,\n",
       " 'overjoyed': 86,\n",
       " 'had': 49,\n",
       " 'tint': 112,\n",
       " 'craziness': 25,\n",
       " 'in': 60,\n",
       " 'her': 57,\n",
       " 'soul': 102,\n",
       " 'made': 71,\n",
       " 'believe': 12,\n",
       " 'could': 23,\n",
       " 'make': 72,\n",
       " 'difference': 28,\n",
       " 'where': 124,\n",
       " 'do': 30,\n",
       " 'put': 91,\n",
       " 'this': 111,\n",
       " 'box': 14,\n",
       " 'mary': 75,\n",
       " 'plays': 88,\n",
       " 'little': 68,\n",
       " 'lamb': 66,\n",
       " 'isn': 63,\n",
       " 'difficult': 29,\n",
       " 'handstand': 53,\n",
       " 'if': 59,\n",
       " 'stand': 103,\n",
       " 'your': 127,\n",
       " 'hands': 52}"
      ]
     },
     "execution_count": 9,
     "metadata": {},
     "output_type": "execute_result"
    }
   ],
   "source": [
    "vectoriser.vocabulary_"
   ]
  },
  {
   "cell_type": "markdown",
   "metadata": {},
   "source": [
    "Too difficult to read all of them? You can visualise them with a bar plot. "
   ]
  },
  {
   "cell_type": "code",
   "execution_count": 14,
   "metadata": {},
   "outputs": [
    {
     "data": {
      "image/png": "[encoded data removed]",
      "text/plain": [
       "<Figure size 1440x648 with 1 Axes>"
      ]
     },
     "metadata": {
      "needs_background": "light"
     },
     "output_type": "display_data"
    }
   ],
   "source": [
    "import matplotlib.pyplot as plt\n",
    "\n",
    "plt.figure(figsize=(20,9))\n",
    "plt.bar(range(len(vectoriser.vocabulary_)), list(vectoriser.vocabulary_.values()), align='center')\n",
    "plt.xticks(range(len(vectoriser.vocabulary_)), list(vectoriser.vocabulary_.keys()), rotation=70)\n",
    "plt.xlabel(\"Words\")\n",
    "plt.ylabel(\"Frequency\")\n",
    "plt.show()"
   ]
  },
  {
   "cell_type": "markdown",
   "metadata": {},
   "source": [
    "You can see that there are many words. Some of them are not necessary: They are the minor words that we use in conversations such as \"and\", \"I\" but they do not span anything meaningful. "
   ]
  },
  {
   "cell_type": "markdown",
   "metadata": {
    "solution": "hidden",
    "solution_first": true
   },
   "source": [
    "__Exercise:__ Texts are unstructure data, then why do we classify this exercise as supervised learning?"
   ]
  },
  {
   "cell_type": "markdown",
   "metadata": {
    "solution": "hidden"
   },
   "source": [
    "__Solution:__ The confusion here is that we link unstructure data into unsupervised learning. Truely it is hard to find the target variable from text variables. In this exercise, we entail each messages with a target variable, which is it is positive or not. "
   ]
  },
  {
   "cell_type": "markdown",
   "metadata": {},
   "source": [
    "## Conclusion"
   ]
  },
  {
   "cell_type": "code",
   "execution_count": null,
   "metadata": {},
   "outputs": [],
   "source": []
  }
 ],
 "metadata": {
  "kernelspec": {
   "display_name": "Python 3",
   "language": "python",
   "name": "python3"
  },
  "language_info": {
   "codemirror_mode": {
    "name": "ipython",
    "version": 3
   },
   "file_extension": ".py",
   "mimetype": "text/x-python",
   "name": "python",
   "nbconvert_exporter": "python",
   "pygments_lexer": "ipython3",
   "version": "3.7.3"
  },
  "latex_envs": {
   "LaTeX_envs_menu_present": true,
   "autoclose": true,
   "autocomplete": true,
   "bibliofile": "biblio.bib",
   "cite_by": "apalike",
   "current_citInitial": 1,
   "eqLabelWithNumbers": true,
   "eqNumInitial": 1,
   "hotkeys": {
    "equation": "Ctrl-E",
    "itemize": "Ctrl-I"
   },
   "labels_anchors": false,
   "latex_user_defs": false,
   "report_style_numbering": false,
   "user_envs_cfg": false
  }
 },
 "nbformat": 4,
 "nbformat_minor": 2
}
