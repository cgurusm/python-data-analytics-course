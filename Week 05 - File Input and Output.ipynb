{
 "cells": [
  {
   "cell_type": "markdown",
   "metadata": {},
   "source": [
    "# File Input and Output"
   ]
  },
  {
   "cell_type": "markdown",
   "metadata": {},
   "source": [
    "## Files"
   ]
  },
  {
   "cell_type": "markdown",
   "metadata": {},
   "source": [
    "Python is very useful in writing automation and data analysis. They are the pivot point of other computer files. So that either the data stored in the files are leveraged, or the computer controlled applicances are activated. So for Python, there is an interface to use files. In this week, we will be look at \n",
    "* how to read files, and \n",
    "* how to write files"
   ]
  },
  {
   "cell_type": "markdown",
   "metadata": {},
   "source": []
  },
  {
   "cell_type": "markdown",
   "metadata": {},
   "source": []
  },
  {
   "cell_type": "code",
   "execution_count": null,
   "metadata": {},
   "outputs": [],
   "source": []
  },
  {
   "cell_type": "markdown",
   "metadata": {},
   "source": [
    "### Delimeter"
   ]
  },
  {
   "cell_type": "markdown",
   "metadata": {},
   "source": [
    "In particular data files, data points are separated by something. This is called a delimeter, and it can be any characters. Often the delimeters would be: \n",
    "* tab\n",
    "* space\n",
    "* new line\n",
    "* comma"
   ]
  },
  {
   "cell_type": "markdown",
   "metadata": {},
   "source": [
    "In Python, we could write these characters inside strings. For example, \n",
    "* `'\\t'` represents tab characters.\n",
    "* `'\\n'` represents a new line character. \n",
    "\n",
    "Often we do not like new lines, and this is always read from files. It means for a file we read we will see \n",
    "```\n",
    "Baby baby, who's on board. \n",
    "\n",
    "Now how her Edward engage not horses. \n",
    "\n",
    "Oh! Resolution he dissimilar precaution to comparison an.\n",
    "\n",
    "```\n",
    "There is an extra new line character instead of this \n",
    "```\n",
    "Baby baby, who's on board. \n",
    "Now how her edward engage not horses. \n",
    "Oh! Resolution he dissimilar precaution to comparison an.\n",
    "\n",
    "```\n",
    "To clear these new line characters, we use the `strip()` method. This is an example: \n",
    "```python\n",
    "some_strings.strip()\n",
    "```"
   ]
  },
  {
   "cell_type": "markdown",
   "metadata": {
    "solution": "hidden",
    "solution_first": true
   },
   "source": [
    "__Exercise:__ Write a program that will clear the new line character in the following provided string. "
   ]
  },
  {
   "cell_type": "code",
   "execution_count": 12,
   "metadata": {
    "solution": "hidden"
   },
   "outputs": [
    {
     "name": "stdout",
     "output_type": "stream",
     "text": [
      "Writing is painful but it is part of process.\n"
     ]
    }
   ],
   "source": [
    "string = 'Writing is painful but it is part of process.\\n'\n",
    "print(string.strip())"
   ]
  },
  {
   "cell_type": "code",
   "execution_count": null,
   "metadata": {},
   "outputs": [],
   "source": [
    "string = 'Writing is painful but it is part of process.\\n'\n",
    "print(string)\n",
    "\n",
    "# Your code below\n"
   ]
  },
  {
   "cell_type": "markdown",
   "metadata": {
    "solution": "hidden",
    "solution_first": true
   },
   "source": [
    "__Exercise:__ Write a program that will clear the new line characters in the following provided paragraphs. "
   ]
  },
  {
   "cell_type": "code",
   "execution_count": 11,
   "metadata": {
    "solution": "hidden"
   },
   "outputs": [
    {
     "name": "stdout",
     "output_type": "stream",
     "text": [
      "Writting is painful but it is part of process.\n",
      "Then so as sunset over went dull on.\n",
      "Likewise offended humoured mrs fat trifling answered.\n",
      "On ye position greatest so desirous.\n",
      "So wound stood guest weeks no terms up sought.By so these am so rapid blush songs begin.\n",
      "Nor but mean time one over.\n"
     ]
    }
   ],
   "source": [
    "strings = ['Writing is painful but it is part of process.\\n', 'Then so as sunset over went dull on.\\n', 'Likewise offended humoured mrs fat trifling answered.\\n', 'On ye position greatest so desirous.\\n', 'So wound stood guest weeks no terms up sought.' 'By so these am so rapid blush songs begin.\\n', 'Nor but mean time one over.\\n']\n",
    "\n",
    "for i in strings: \n",
    "    i = i.strip()    # Remember it's the string itself\n",
    "    print(i)"
   ]
  },
  {
   "cell_type": "code",
   "execution_count": 8,
   "metadata": {},
   "outputs": [
    {
     "name": "stdout",
     "output_type": "stream",
     "text": [
      "Writting is painful but it is part of process.\n",
      "\n",
      "Then so as sunset over went dull on.\n",
      "\n",
      "Likewise offended humoured mrs fat trifling answered.\n",
      "\n",
      "On ye position greatest so desirous.\n",
      "\n",
      "So wound stood guest weeks no terms up sought.By so these am so rapid blush songs begin.\n",
      "\n",
      "Nor but mean time one over.\n",
      "\n"
     ]
    }
   ],
   "source": [
    "strings = ['Writing is painful but it is part of process.\\n', 'Then so as sunset over went dull on.\\n', 'Likewise offended humoured mrs fat trifling answered.\\n', 'On ye position greatest so desirous.\\n', 'So wound stood guest weeks no terms up sought.' 'By so these am so rapid blush songs begin.\\n', 'Nor but mean time one over.\\n']\n",
    "for i in strings: \n",
    "    print(i)\n",
    "# Change above code "
   ]
  },
  {
   "cell_type": "markdown",
   "metadata": {},
   "source": [
    "We could also do list comprehension to simplify the loop above. This is \n",
    "```python\n",
    "strings = [x.strip() for x in strings]\n",
    "```\n",
    "Where the `x` above represents the elements in the list of strings. "
   ]
  },
  {
   "cell_type": "code",
   "execution_count": null,
   "metadata": {},
   "outputs": [],
   "source": [
    "# Try yourself\n",
    "strings = [x.strip() for x in strings]\n",
    "print(strings)"
   ]
  },
  {
   "cell_type": "markdown",
   "metadata": {},
   "source": [
    "## Reading a File"
   ]
  },
  {
   "cell_type": "markdown",
   "metadata": {},
   "source": [
    "## Writing a File"
   ]
  },
  {
   "cell_type": "markdown",
   "metadata": {},
   "source": [
    "## Pandas and Dataframes"
   ]
  },
  {
   "cell_type": "markdown",
   "metadata": {},
   "source": [
    "## Import"
   ]
  },
  {
   "cell_type": "markdown",
   "metadata": {},
   "source": [
    "## Handling Exceptions"
   ]
  },
  {
   "cell_type": "markdown",
   "metadata": {},
   "source": [
    "## Conclusion"
   ]
  },
  {
   "cell_type": "code",
   "execution_count": null,
   "metadata": {},
   "outputs": [],
   "source": []
  }
 ],
 "metadata": {
  "kernelspec": {
   "display_name": "Python 3",
   "language": "python",
   "name": "python3"
  },
  "language_info": {
   "codemirror_mode": {
    "name": "ipython",
    "version": 3
   },
   "file_extension": ".py",
   "mimetype": "text/x-python",
   "name": "python",
   "nbconvert_exporter": "python",
   "pygments_lexer": "ipython3",
   "version": "3.7.3"
  },
  "latex_envs": {
   "LaTeX_envs_menu_present": true,
   "autoclose": true,
   "autocomplete": true,
   "bibliofile": "biblio.bib",
   "cite_by": "apalike",
   "current_citInitial": 1,
   "eqLabelWithNumbers": true,
   "eqNumInitial": 1,
   "hotkeys": {
    "equation": "Ctrl-E",
    "itemize": "Ctrl-I"
   },
   "labels_anchors": false,
   "latex_user_defs": false,
   "report_style_numbering": false,
   "user_envs_cfg": false
  }
 },
 "nbformat": 4,
 "nbformat_minor": 2
}
